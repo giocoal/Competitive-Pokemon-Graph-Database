{
 "cells": [
  {
   "cell_type": "code",
   "execution_count": 1,
   "id": "5b17c957",
   "metadata": {},
   "outputs": [],
   "source": [
    "import requests\n",
    "import json\n",
    "import pandas as pd\n",
    "import numpy as np\n",
    "from pprint import pprint as pp"
   ]
  },
  {
   "cell_type": "code",
   "execution_count": 2,
   "id": "9430791d",
   "metadata": {},
   "outputs": [],
   "source": [
    "url_generations = \"https://pokeapi.co/api/v2/generation/\"\n",
    "url_regions = \"https://pokeapi.co/api/v2/region/\"\n",
    "url_moves = \"https://pokeapi.co/api/v2/move/\"\n",
    "url_pkmn = \"https://pokeapi.co/api/v2/pokemon/\"\n",
    "url_types = \"https://pokeapi.co/api/v2/type/\""
   ]
  },
  {
   "cell_type": "code",
   "execution_count": 3,
   "id": "9d8fa481",
   "metadata": {},
   "outputs": [],
   "source": [
    "def get_data(url):\n",
    "    r = requests.get(url)\n",
    "    count = r.json()['count']\n",
    "    #print(count)\n",
    "    i = 1\n",
    "    temp_list = []\n",
    "    while i <= count:\n",
    "        try:\n",
    "            #print(\"Starting iteration n.\"+str(i))\n",
    "            r_API = requests.get(url+str(i))\n",
    "            temp_list.append(r_API.json())\n",
    "            i += 1\n",
    "        except json.decoder.JSONDecodeError:\n",
    "            i = count+1        \n",
    "    return temp_list\n",
    "\n",
    "### L'errore sorge perchè gli ultimi dati di ciascun endpoint hanno l'url che riparte da 10000 (probabilmente sono dati\n",
    "### aggiunti in un secondo momento). Andrebbe trovato un modo per recuperare questi dati, perchè in questo modo li sto\n",
    "### semplicemente skippando."
   ]
  },
  {
   "cell_type": "code",
   "execution_count": 4,
   "id": "359822c3",
   "metadata": {},
   "outputs": [],
   "source": [
    "gen_list = get_data(url_generations)"
   ]
  },
  {
   "cell_type": "code",
   "execution_count": 5,
   "id": "a2f3a5e1",
   "metadata": {},
   "outputs": [],
   "source": [
    "region_list = get_data(url_regions)"
   ]
  },
  {
   "cell_type": "code",
   "execution_count": 6,
   "id": "24da6620",
   "metadata": {},
   "outputs": [],
   "source": [
    "moves_list = get_data(url_moves)"
   ]
  },
  {
   "cell_type": "code",
   "execution_count": 7,
   "id": "a413d14a",
   "metadata": {},
   "outputs": [],
   "source": [
    "pkmn_list = get_data(url_pkmn)"
   ]
  },
  {
   "cell_type": "code",
   "execution_count": 8,
   "id": "f0d7ddd4",
   "metadata": {},
   "outputs": [],
   "source": [
    "types_list = get_data(url_types)"
   ]
  },
  {
   "cell_type": "code",
   "execution_count": 12,
   "id": "5613034a",
   "metadata": {},
   "outputs": [],
   "source": [
    "gen_df = pd.DataFrame(gen_list, columns=[\"id\", \"main_region\", \"moves\", \"name\", \"pokemon_species\", \"types\"])\n",
    "region_df = pd.DataFrame(region_list, columns=[\"id\", \"locations\", \"main_generation\", \"name\"])\n",
    "moves_df = pd.DataFrame(moves_list, columns=[\"accuracy\", \"damage_class\", \"generation\", \"id\", \"learned_by_pokemon\", \"name\", \n",
    "                                             \"power\", \"pp\", \"type\"])\n",
    "pkmn_df = pd.DataFrame(pkmn_list, columns=[\"game_indices\", \"height\", \"id\", \"moves\", \"name\", \"weight\"])\n",
    "type_df = pd.DataFrame(types_list, columns=[\"damage_relations\", \"game_indices\", \"generation\", \"id\", \"name\"])"
   ]
  },
  {
   "cell_type": "code",
   "execution_count": 13,
   "id": "4e9fbcb0",
   "metadata": {},
   "outputs": [],
   "source": [
    "gen_df = gen_df[[\"id\", \"name\", \"main_region\", \"pokemon_species\", \"moves\", \"types\"]]\n",
    "gen_df.columns = [\"ID\", \"Gen_number\", \"Region_name\", \"New_pokemon\", \"New_moves\", \"New_types\"]\n",
    "region_df = region_df[[\"id\", \"name\", \"main_generation\", \"locations\"]]\n",
    "region_df.columns = [\"ID\", \"Region_name\", \"Gen_number\", \"Locations\"]\n",
    "moves_df = moves_df[[\"id\", \"name\", \"type\", \"power\", \"accuracy\", \"pp\", \"damage_class\", \"generation\", \"learned_by_pokemon\"]]\n",
    "moves_df.columns = [\"ID\", \"Name\", \"Type\", \"Power\", \"Accuracy\", \"PP\", \"Damage_class\", \"Introducted_in\", \"Learned_by\"]\n",
    "pkmn_df = pkmn_df[[\"id\", \"game_indices\", \"name\", \"moves\", \"height\", \"weight\"]]\n",
    "pkmn_df.columns = [\"ID\", \"Game_index\", \"Name\", \"Moves\", \"Height\", \"Weight\"]\n",
    "type_df = type_df[[\"id\", \"game_indices\", \"name\", \"generation\", \"damage_relations\"]]\n",
    "type_df.columns = [\"ID\", \"Game_index\", \"Name\", \"Introducted_in\", \"Damage_relations\"]"
   ]
  },
  {
   "cell_type": "code",
   "execution_count": 14,
   "id": "2173c2fa",
   "metadata": {},
   "outputs": [],
   "source": [
    "gen_df.to_csv(\"./api_gen.csv\", index=False)\n",
    "region_df.to_csv(\"./api_region.csv\", index=False)\n",
    "moves_df.to_csv(\"./api_moves.csv\", index=False)\n",
    "pkmn_df.to_csv(\"./api_pkmn.csv\", index=False)\n",
    "type_df.to_csv(\"./api_type.csv\", index=False)"
   ]
  },
  {
   "cell_type": "code",
   "execution_count": null,
   "id": "b02b23f2",
   "metadata": {},
   "outputs": [],
   "source": []
  }
 ],
 "metadata": {
  "kernelspec": {
   "display_name": "Python 3 (ipykernel)",
   "language": "python",
   "name": "python3"
  },
  "language_info": {
   "codemirror_mode": {
    "name": "ipython",
    "version": 3
   },
   "file_extension": ".py",
   "mimetype": "text/x-python",
   "name": "python",
   "nbconvert_exporter": "python",
   "pygments_lexer": "ipython3",
   "version": "3.8.12"
  }
 },
 "nbformat": 4,
 "nbformat_minor": 5
}
