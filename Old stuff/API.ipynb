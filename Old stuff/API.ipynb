{
 "cells": [
  {
   "cell_type": "code",
   "execution_count": 1,
   "id": "5b17c957",
   "metadata": {},
   "outputs": [],
   "source": [
    "import requests\n",
    "import json\n",
    "import pandas as pd\n",
    "import numpy as np\n",
    "from pprint import pprint as pp"
   ]
  },
  {
   "cell_type": "code",
   "execution_count": 2,
   "id": "9430791d",
   "metadata": {},
   "outputs": [],
   "source": [
    "#Url utili per gioco competitivo\n",
    "## Oggetti\n",
    "url_items = \"https://pokeapi.co/api/v2/item/\" #Skippa qualche ID\n",
    "\n",
    "## Mosse\n",
    "url_moves = \"https://pokeapi.co/api/v2/move/\" #Skippa da 826 a 10001\n",
    "\n",
    "## Pokemon\n",
    "url_pkmn_species = \"https://pokeapi.co/api/v2/pokemon-species/\"\n",
    "url_ability = \"https://pokeapi.co/api/v2/ability/\" #Skippa da 267 a 10001\n",
    "url_types = \"https://pokeapi.co/api/v2/type/\" #Skippa da 18 a 10001"
   ]
  },
  {
   "cell_type": "code",
   "execution_count": 3,
   "id": "9d8fa481",
   "metadata": {},
   "outputs": [],
   "source": [
    "def get_data_completeID(url):\n",
    "    r = requests.get(url)\n",
    "    count = r.json()['count']\n",
    "    #print(count)\n",
    "    i = -1 ###Tiene conto anche di move_ailments e move_category che partono da -1 e 0\n",
    "    temp_list = []\n",
    "    while i <= count:\n",
    "        try:\n",
    "           # print(\"Starting iteration n.\"+str(i))\n",
    "            r_API = requests.get(url+str(i))\n",
    "            temp_list.append(r_API.json())\n",
    "            i += 1\n",
    "        except json.decoder.JSONDecodeError: ###Gestisce l'assenza degli url -1 e 0 in tutto tranne move_ailments e \n",
    "                                             #move_category\n",
    "            #print(\"Skip ID\")\n",
    "            i += 1        \n",
    "    return temp_list"
   ]
  },
  {
   "cell_type": "code",
   "execution_count": 4,
   "id": "c97b4705",
   "metadata": {},
   "outputs": [],
   "source": [
    "def get_data_to10000(url):\n",
    "    r = requests.get(url)\n",
    "    count = r.json()['count']\n",
    "    #print(count)\n",
    "    i = 1\n",
    "    temp_list = []\n",
    "    while len(temp_list) < count:\n",
    "        try:\n",
    "            #print(\"Starting iteration n.\"+str(i))\n",
    "            r_API = requests.get(url+str(i))\n",
    "            temp_list.append(r_API.json())\n",
    "            i += 1\n",
    "        except json.decoder.JSONDecodeError:\n",
    "            if url == url_items: ###Items skippa degli ID ma non va a 10001\n",
    "                i += 1\n",
    "            else:\n",
    "                i = 10001 ###Imposto iteratore a 10001 per skippare gli ID che farebbero crashare la request        \n",
    "    return temp_list"
   ]
  },
  {
   "cell_type": "code",
   "execution_count": 5,
   "id": "359822c3",
   "metadata": {},
   "outputs": [],
   "source": [
    "#Uso la funzione get_data_completeID per estrarre i dati per tutti quegli URL dove non ho problemi di skip di numeri\n",
    "pkmn_spec_list = get_data_completeID(url_pkmn_species)"
   ]
  },
  {
   "cell_type": "code",
   "execution_count": 6,
   "id": "fe794db0",
   "metadata": {},
   "outputs": [],
   "source": [
    "#Uso la funzione get_data_to10000 per gestire i dati degli url che skippano alcuni ID \n",
    "item_list = get_data_to10000(url_items)\n",
    "moves_list = get_data_to10000(url_moves)\n",
    "abilities_list = get_data_to10000(url_ability)\n",
    "types_list = get_data_to10000(url_types)"
   ]
  },
  {
   "cell_type": "code",
   "execution_count": 9,
   "id": "663aaf7b",
   "metadata": {},
   "outputs": [],
   "source": [
    "#Saving .json\n",
    "\n",
    "out_file = open(\"API_datasets/item.json\", \"w\")\n",
    "json.dump(item_list, out_file, indent = 6)\n",
    "out_file.close()\n",
    "\n",
    "out_file = open(\"API_datasets/moves.json\", \"w\")\n",
    "json.dump(moves_list, out_file, indent = 6)\n",
    "out_file.close()\n",
    "\n",
    "out_file = open(\"API_datasets/species.json\", \"w\")\n",
    "json.dump(pkmn_spec_list, out_file, indent = 6)\n",
    "out_file.close()\n",
    "\n",
    "out_file = open(\"API_datasets/abilities.json\", \"w\")\n",
    "json.dump(abilities_list, out_file, indent = 6)\n",
    "out_file.close()\n",
    "\n",
    "out_file = open(\"API_datasets/types.json\", \"w\")\n",
    "json.dump(types_list, out_file, indent = 6)\n",
    "out_file.close()"
   ]
  },
  {
   "cell_type": "markdown",
   "id": "808e5aa8",
   "metadata": {},
   "source": [
    "Usare metodo json.dump(lista, file_json, indent=) per convertire una lista (o dizionario) in un file json"
   ]
  }
 ],
 "metadata": {
  "kernelspec": {
   "display_name": "Python 3 (ipykernel)",
   "language": "python",
   "name": "python3"
  },
  "language_info": {
   "codemirror_mode": {
    "name": "ipython",
    "version": 3
   },
   "file_extension": ".py",
   "mimetype": "text/x-python",
   "name": "python",
   "nbconvert_exporter": "python",
   "pygments_lexer": "ipython3",
   "version": "3.9.7"
  },
  "varInspector": {
   "cols": {
    "lenName": 16,
    "lenType": 16,
    "lenVar": 40
   },
   "kernels_config": {
    "python": {
     "delete_cmd_postfix": "",
     "delete_cmd_prefix": "del ",
     "library": "var_list.py",
     "varRefreshCmd": "print(var_dic_list())"
    },
    "r": {
     "delete_cmd_postfix": ") ",
     "delete_cmd_prefix": "rm(",
     "library": "var_list.r",
     "varRefreshCmd": "cat(var_dic_list()) "
    }
   },
   "types_to_exclude": [
    "module",
    "function",
    "builtin_function_or_method",
    "instance",
    "_Feature"
   ],
   "window_display": false
  }
 },
 "nbformat": 4,
 "nbformat_minor": 5
}
