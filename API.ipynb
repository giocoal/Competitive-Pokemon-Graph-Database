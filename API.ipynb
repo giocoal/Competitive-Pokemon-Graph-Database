{
 "cells": [
  {
   "cell_type": "code",
   "execution_count": 1,
   "id": "5b17c957",
   "metadata": {},
   "outputs": [],
   "source": [
    "import requests\n",
    "import json\n",
    "import pandas as pd\n",
    "import numpy as np\n",
    "from pprint import pprint as pp"
   ]
  },
  {
   "cell_type": "code",
   "execution_count": 2,
   "id": "9430791d",
   "metadata": {},
   "outputs": [],
   "source": [
    "#Url per info generiche su giochi/generazioni/regioni\n",
    "url_generations = \"https://pokeapi.co/api/v2/generation/\"\n",
    "url_regions = \"https://pokeapi.co/api/v2/region/\"\n",
    "\n",
    "#Url utili per gioco competitivo\n",
    "## Oggetti\n",
    "url_items = \"https://pokeapi.co/api/v2/item/\" #Skippa qualche ID\n",
    "url_item_attributes = \"https://pokeapi.co/api/v2/item-attribute/\"\n",
    "url_item_categories = \"https://pokeapi.co/api/v2/item-category/\"\n",
    "\n",
    "## Mosse\n",
    "url_moves = \"https://pokeapi.co/api/v2/move/\" #Skippa da 826 a 10001\n",
    "url_move_ailments = \"https://pokeapi.co/api/v2/move-ailment/\" #Parte da -1\n",
    "url_move_category = \"https://pokeapi.co/api/v2/move-category/\" #Parte da 0\n",
    "url_move_class = \"https://pokeapi.co/api/v2/move-damage-class/\" \n",
    "url_move_target = \"https://pokeapi.co/api/v2/move-target/\"\n",
    "\n",
    "## Pokemon\n",
    "url_pkmn = \"https://pokeapi.co/api/v2/pokemon/\" #Skippa da 898 a 10001\n",
    "url_pkmn_species = \"https://pokeapi.co/api/v2/pokemon-species/\"\n",
    "url_ability = \"https://pokeapi.co/api/v2/ability/\" #Skippa da 267 a 10001\n",
    "url_natures = \"https://pokeapi.co/api/v2/nature/\" \n",
    "url_stats = \"https://pokeapi.co/api/v2/stat/\"\n",
    "url_types = \"https://pokeapi.co/api/v2/type/\" #Skippa da 18 a 10001"
   ]
  },
  {
   "cell_type": "code",
   "execution_count": 3,
   "id": "9d8fa481",
   "metadata": {},
   "outputs": [],
   "source": [
    "def get_data_completeID(url):\n",
    "    r = requests.get(url)\n",
    "    count = r.json()['count']\n",
    "    #print(count)\n",
    "    i = -1 ###Tiene conto anche di move_ailments e move_category che partono da -1 e 0\n",
    "    temp_list = []\n",
    "    while i <= count:\n",
    "        try:\n",
    "           # print(\"Starting iteration n.\"+str(i))\n",
    "            r_API = requests.get(url+str(i))\n",
    "            temp_list.append(r_API.json())\n",
    "            i += 1\n",
    "        except json.decoder.JSONDecodeError: ###Gestisce l'assenza degli url -1 e 0 in tutto tranne move_ailments e \n",
    "                                             #move_category\n",
    "            #print(\"Skip ID\")\n",
    "            i += 1        \n",
    "    return temp_list"
   ]
  },
  {
   "cell_type": "code",
   "execution_count": 4,
   "id": "c97b4705",
   "metadata": {},
   "outputs": [],
   "source": [
    "def get_data_to10000(url):\n",
    "    r = requests.get(url)\n",
    "    count = r.json()['count']\n",
    "    #print(count)\n",
    "    i = 1\n",
    "    temp_list = []\n",
    "    while len(temp_list) < count:\n",
    "        try:\n",
    "            #print(\"Starting iteration n.\"+str(i))\n",
    "            r_API = requests.get(url+str(i))\n",
    "            temp_list.append(r_API.json())\n",
    "            i += 1\n",
    "        except json.decoder.JSONDecodeError:\n",
    "            if url == url_items: ###Items skippa degli ID ma non va a 10001\n",
    "                i += 1\n",
    "            else:\n",
    "                i = 10001 ###Imposto iteratore a 10001 per skippare gli ID che farebbero crashare la request        \n",
    "    return temp_list"
   ]
  },
  {
   "cell_type": "code",
   "execution_count": 5,
   "id": "359822c3",
   "metadata": {},
   "outputs": [],
   "source": [
    "#Uso la funzione get_data_completeID per estrarre i dati per tutti quegli URL dove non ho problemi di skip di numeri\n",
    "gen_list = get_data_completeID(url_generations)\n",
    "region_list = get_data_completeID(url_regions)\n",
    "item_attr_list = get_data_completeID(url_item_attributes)\n",
    "item_categ_list = get_data_completeID(url_item_categories)\n",
    "move_ailments_list = get_data_completeID(url_move_ailments)\n",
    "move_category_list = get_data_completeID(url_move_category)\n",
    "move_class_list = get_data_completeID(url_move_class)\n",
    "move_target_list = get_data_completeID(url_move_target)\n",
    "pkmn_spec_list = get_data_completeID(url_pkmn_species)\n",
    "nature_list = get_data_completeID(url_natures)\n",
    "stat_list = get_data_completeID(url_stats)"
   ]
  },
  {
   "cell_type": "code",
   "execution_count": 6,
   "id": "fe794db0",
   "metadata": {},
   "outputs": [],
   "source": [
    "#Uso la funzione get_data_to10000 per gestire i dati degli url che skippano alcuni ID \n",
    "item_list = get_data_to10000(url_items)\n",
    "moves_list = get_data_to10000(url_moves)\n",
    "pkmn_list = get_data_to10000(url_pkmn)\n",
    "abilities_list = get_data_to10000(url_ability)\n",
    "types_list = get_data_to10000(url_types)"
   ]
  },
  {
   "cell_type": "markdown",
   "id": "808e5aa8",
   "metadata": {},
   "source": [
    "Usare metodo json.dump(lista, file_json, indent=) per convertire una lista (o dizionario) in un file json"
   ]
  },
  {
   "cell_type": "code",
   "execution_count": 14,
   "id": "5613034a",
   "metadata": {},
   "outputs": [],
   "source": [
    "gen_df = pd.DataFrame(gen_list, columns=[\"id\", \"main_region\", \"moves\", \"name\", \"pokemon_species\", \"types\"])\n",
    "region_df = pd.DataFrame(region_list, columns=[\"id\", \"locations\", \"main_generation\", \"name\"])\n",
    "\n",
    "items_df = pd.DataFrame(item_list, columns=[\"attributes\", \"category\", \"effect_entries\", \"id\", \"name\"])\n",
    "item_attributes_df = pd.DataFrame(item_attr_list, columns=[\"descriptions\", \"id\", \"items\", \"name\"])\n",
    "item_categories_df = pd.DataFrame(item_categ_list, columns=[\"id\", \"items\", \"name\"])\n",
    "\n",
    "moves_df = pd.DataFrame(moves_list, columns=[\"accuracy\", \"damage_class\", \"generation\", \"id\", \"learned_by_pokemon\", \"name\", \n",
    "                                             \"power\", \"pp\", \"type\"])\n",
    "move_ailments_df = pd.DataFrame(move_ailments_list, columns=[\"id\", \"moves\", \"name\"])\n",
    "move_category_df = pd.DataFrame(move_category_list, columns=[\"descriptions\", \"id\", \"moves\", \"name\"])\n",
    "move_class_df = pd.DataFrame(move_class_list, columns=[\"descriptions\", \"id\", \"moves\", \"name\"])\n",
    "move_target_df = pd.DataFrame(move_target_list, columns=[\"descriptions\", \"id\", \"moves\", \"name\"])\n",
    "\n",
    "pkmn_df = pd.DataFrame(pkmn_list, columns=[\"game_indices\", \"height\", \"id\", \"moves\", \"name\", \"weight\"])\n",
    "species_df = pd.DataFrame(pkmn_spec_list, columns=[\"evolves_from_species\", \"generation\", \"has_gender_differences\", \"id\", \n",
    "                                                   \"is_baby\", \"is_legendary\", \"is_mythical\", \"name\", \"varieties\"])\n",
    "ability_df = pd.DataFrame(abilities_list, columns=[\"effect_changes\", \"effect_entries\", \"generation\", \"id\", \"is_main_series\", \n",
    "                                                   \"name\", \"pokemon\"])\n",
    "nature_df = pd.DataFrame(nature_list, columns=[\"decreased_stat\", \"id\", \"increased_stat\", \"name\"])\n",
    "stat_df = pd.DataFrame(stat_list, columns=[\"affecting_moves\", \"affecting_natures\", \"id\", \"move_damage_class\", \"name\"])\n",
    "type_df = pd.DataFrame(types_list, columns=[\"damage_relations\", \"game_indices\", \"generation\", \"id\", \"name\"])"
   ]
  },
  {
   "cell_type": "code",
   "execution_count": 15,
   "id": "4e9fbcb0",
   "metadata": {},
   "outputs": [],
   "source": [
    "gen_df = gen_df[[\"id\", \"name\", \"main_region\", \"pokemon_species\", \"moves\", \"types\"]]\n",
    "gen_df.columns = [\"ID\", \"Gen_number\", \"Region_name\", \"New_pokemon\", \"New_moves\", \"New_types\"]\n",
    "region_df = region_df[[\"id\", \"name\", \"main_generation\", \"locations\"]]\n",
    "region_df.columns = [\"ID\", \"Region_name\", \"Gen_number\", \"Locations\"]\n",
    "\n",
    "items_df = items_df[[\"id\", \"name\", \"attributes\", \"category\", \"effect_entries\"]]\n",
    "items_df.columns = [\"ID\", \"Name\", \"Attributes\", \"Category\", \"Effect\"]\n",
    "item_attributes_df = item_attributes_df[[\"id\", \"name\", \"descriptions\", \"items\"]]\n",
    "item_attributes_df.columns = [\"ID\", \"Name\", \"Descriptions\", \"Items\"]\n",
    "item_categories_df = item_categories_df[[\"id\", \"name\", \"items\"]]\n",
    "item_categories_df.columns = [\"ID\", \"Name\", \"Items\"]\n",
    "\n",
    "moves_df = moves_df[[\"id\", \"name\", \"type\", \"power\", \"accuracy\", \"pp\", \"damage_class\", \"generation\", \"learned_by_pokemon\"]]\n",
    "moves_df.columns = [\"ID\", \"Name\", \"Type\", \"Power\", \"Accuracy\", \"PP\", \"Damage_class\", \"Introducted_in\", \"Learned_by\"]\n",
    "move_ailments_df = move_ailments_df[[\"id\", \"name\", \"moves\"]]\n",
    "move_ailments_df.columns = [\"ID\", \"Name\", \"Moves\"]\n",
    "move_category_df = move_category_df[[\"id\", \"name\", \"descriptions\", \"moves\"]]\n",
    "move_category_df.columns = [\"ID\", \"Name\", \"Descriptions\", \"Moves\"]\n",
    "move_class_df = move_class_df[[\"id\", \"name\", \"descriptions\", \"moves\"]]\n",
    "move_class_df.columns = [\"ID\", \"Name\", \"Descriptions\", \"Moves\"]\n",
    "move_target_df = move_target_df[[\"id\", \"name\", \"descriptions\", \"moves\"]]\n",
    "move_target_df.columns = [\"ID\", \"Name\", \"Descriptions\", \"Moves\"]\n",
    "\n",
    "pkmn_df = pkmn_df[[\"id\", \"game_indices\", \"name\", \"moves\", \"height\", \"weight\"]]\n",
    "pkmn_df.columns = [\"ID\", \"Game_index\", \"Name\", \"Moves\", \"Height\", \"Weight\"]\n",
    "species_df = species_df[[\"id\", \"name\", \"varieties\", \"generation\", \"evolves_from_species\", \"has_gender_differences\",  \"is_baby\", \n",
    "                         \"is_legendary\", \"is_mythical\"]]\n",
    "species_df.columns = [\"ID\", \"Name\", \"Varieties\", \"Generation\", \"Evolves_from\", \"Has_gender_diff\", \"Is_baby\", \"Is_legendary\",\n",
    "                     \"Is_mythical\"]\n",
    "ability_df = ability_df[[\"id\", \"name\", \"generation\", \"is_main_series\", \"effect_changes\", \"effect_entries\", \"pokemon\"]]\n",
    "ability_df.columns = [\"ID\", \"Name\", \"Generation\", \"Is_Main_Series\", \"Effect_changes\", \"Effect_entries\", \"Pokemon\"]\n",
    "nature_df = nature_df[[\"id\", \"name\", \"decreased_stat\", \"increased_stat\"]]\n",
    "nature_df.columns = [\"ID\", \"Name\", \"Decreased_stat\", \"Increased_stat\"]\n",
    "stat_df = stat_df[[\"id\", \"name\", \"affecting_moves\", \"affecting_natures\", \"move_damage_class\"]]\n",
    "stat_df.columns = [\"ID\", \"Name\", \"Affecting_moves\", \"Affecting_natures\", \"Move_damage_class\"]\n",
    "type_df = type_df[[\"id\", \"game_indices\", \"name\", \"generation\", \"damage_relations\"]]\n",
    "type_df.columns = [\"ID\", \"Game_index\", \"Name\", \"Introducted_in\", \"Damage_relations\"]"
   ]
  },
  {
   "cell_type": "code",
   "execution_count": 16,
   "id": "2c2bb0ef",
   "metadata": {},
   "outputs": [],
   "source": [
    "#Saving .csv\n",
    "#NON CARICARE SU GITHUB, SONO TROPPO PESANTI\n",
    "\n",
    "gen_df.to_csv(\"./API_datasets/gen.csv\", index=False)\n",
    "region_df.to_csv(\"./API_datasets/region.csv\", index=False)\n",
    "items_df.to_csv(\"./API_datasets/items.csv\", index=False)\n",
    "item_attributes_df.to_csv(\"./API_datasets/item_attr.csv\", index=False)\n",
    "item_categories_df.to_csv(\"./API_datasets/item_cat.csv\", index=False)\n",
    "moves_df.to_csv(\"./API_datasets/moves.csv\", index=False)\n",
    "move_ailments_df.to_csv(\"./API_datasets/move_ail.csv\", index=False)\n",
    "move_category_df.to_csv(\"./API_datasets/move_cat.csv\", index=False)\n",
    "move_class_df.to_csv(\"./API_datasets/move_class.csv\", index=False)\n",
    "move_target_df.to_csv(\"./API_datasets/move_target.csv\", index=False)\n",
    "pkmn_df.to_csv(\"./API_datasets/pokemon.csv\", index=False)\n",
    "species_df.to_csv(\"./API_datasets/species.csv\", index=False)\n",
    "ability_df.to_csv(\"./API_datasets/ability.csv\", index=False)\n",
    "nature_df.to_csv(\"./API_datasets/nature.csv\", index=False)\n",
    "stat_df.to_csv(\"./API_datasets/stats.csv\", index=False)\n",
    "type_df.to_csv(\"./API_datasets/types.csv\", index=False)"
   ]
  },
  {
   "cell_type": "markdown",
   "id": "dfa7c6d8",
   "metadata": {},
   "source": [
    "Dobbiamo mantenere solo le informazioni che ci sono effettivamente utili, per esempio sulle descrizioni delle item_attributes:"
   ]
  },
  {
   "cell_type": "code",
   "execution_count": 21,
   "id": "06043888",
   "metadata": {},
   "outputs": [
    {
     "data": {
      "text/html": [
       "<div>\n",
       "<style scoped>\n",
       "    .dataframe tbody tr th:only-of-type {\n",
       "        vertical-align: middle;\n",
       "    }\n",
       "\n",
       "    .dataframe tbody tr th {\n",
       "        vertical-align: top;\n",
       "    }\n",
       "\n",
       "    .dataframe thead th {\n",
       "        text-align: right;\n",
       "    }\n",
       "</style>\n",
       "<table border=\"1\" class=\"dataframe\">\n",
       "  <thead>\n",
       "    <tr style=\"text-align: right;\">\n",
       "      <th></th>\n",
       "      <th>ID</th>\n",
       "      <th>Name</th>\n",
       "      <th>Descriptions</th>\n",
       "      <th>Items</th>\n",
       "    </tr>\n",
       "  </thead>\n",
       "  <tbody>\n",
       "    <tr>\n",
       "      <th>0</th>\n",
       "      <td>1</td>\n",
       "      <td>countable</td>\n",
       "      <td>[{'description': 'Has a count in the bag', 'la...</td>\n",
       "      <td>[{'name': 'master-ball', 'url': 'https://pokea...</td>\n",
       "    </tr>\n",
       "    <tr>\n",
       "      <th>1</th>\n",
       "      <td>2</td>\n",
       "      <td>consumable</td>\n",
       "      <td>[{'description': 'Consumed when used', 'langua...</td>\n",
       "      <td>[{'name': 'master-ball', 'url': 'https://pokea...</td>\n",
       "    </tr>\n",
       "    <tr>\n",
       "      <th>2</th>\n",
       "      <td>3</td>\n",
       "      <td>usable-overworld</td>\n",
       "      <td>[{'description': 'Usable outside battle', 'lan...</td>\n",
       "      <td>[{'name': 'potion', 'url': 'https://pokeapi.co...</td>\n",
       "    </tr>\n",
       "    <tr>\n",
       "      <th>3</th>\n",
       "      <td>4</td>\n",
       "      <td>usable-in-battle</td>\n",
       "      <td>[{'description': 'Usable in battle', 'language...</td>\n",
       "      <td>[{'name': 'master-ball', 'url': 'https://pokea...</td>\n",
       "    </tr>\n",
       "    <tr>\n",
       "      <th>4</th>\n",
       "      <td>5</td>\n",
       "      <td>holdable</td>\n",
       "      <td>[{'description': 'Can be held by a Pokémon', '...</td>\n",
       "      <td>[{'name': 'master-ball', 'url': 'https://pokea...</td>\n",
       "    </tr>\n",
       "    <tr>\n",
       "      <th>5</th>\n",
       "      <td>6</td>\n",
       "      <td>holdable-passive</td>\n",
       "      <td>[{'description': 'Works passively when held', ...</td>\n",
       "      <td>[]</td>\n",
       "    </tr>\n",
       "    <tr>\n",
       "      <th>6</th>\n",
       "      <td>7</td>\n",
       "      <td>holdable-active</td>\n",
       "      <td>[{'description': 'Usable by a Pokémon when hel...</td>\n",
       "      <td>[{'name': 'cheri-berry', 'url': 'https://pokea...</td>\n",
       "    </tr>\n",
       "    <tr>\n",
       "      <th>7</th>\n",
       "      <td>8</td>\n",
       "      <td>underground</td>\n",
       "      <td>[{'description': 'Appears in Sinnoh Undergroun...</td>\n",
       "      <td>[{'name': 'revive', 'url': 'https://pokeapi.co...</td>\n",
       "    </tr>\n",
       "  </tbody>\n",
       "</table>\n",
       "</div>"
      ],
      "text/plain": [
       "   ID              Name                                       Descriptions  \\\n",
       "0   1         countable  [{'description': 'Has a count in the bag', 'la...   \n",
       "1   2        consumable  [{'description': 'Consumed when used', 'langua...   \n",
       "2   3  usable-overworld  [{'description': 'Usable outside battle', 'lan...   \n",
       "3   4  usable-in-battle  [{'description': 'Usable in battle', 'language...   \n",
       "4   5          holdable  [{'description': 'Can be held by a Pokémon', '...   \n",
       "5   6  holdable-passive  [{'description': 'Works passively when held', ...   \n",
       "6   7   holdable-active  [{'description': 'Usable by a Pokémon when hel...   \n",
       "7   8       underground  [{'description': 'Appears in Sinnoh Undergroun...   \n",
       "\n",
       "                                               Items  \n",
       "0  [{'name': 'master-ball', 'url': 'https://pokea...  \n",
       "1  [{'name': 'master-ball', 'url': 'https://pokea...  \n",
       "2  [{'name': 'potion', 'url': 'https://pokeapi.co...  \n",
       "3  [{'name': 'master-ball', 'url': 'https://pokea...  \n",
       "4  [{'name': 'master-ball', 'url': 'https://pokea...  \n",
       "5                                                 []  \n",
       "6  [{'name': 'cheri-berry', 'url': 'https://pokea...  \n",
       "7  [{'name': 'revive', 'url': 'https://pokeapi.co...  "
      ]
     },
     "execution_count": 21,
     "metadata": {},
     "output_type": "execute_result"
    }
   ],
   "source": [
    "item_attributes_df"
   ]
  },
  {
   "cell_type": "markdown",
   "id": "d6f0f357",
   "metadata": {},
   "source": [
    "Per mantenere solo la descrizione effettiva dobbiamo accedere al dizionario in questo modo:"
   ]
  },
  {
   "cell_type": "code",
   "execution_count": 22,
   "id": "27880bac",
   "metadata": {},
   "outputs": [
    {
     "data": {
      "text/plain": [
       "'Has a count in the bag'"
      ]
     },
     "execution_count": 22,
     "metadata": {},
     "output_type": "execute_result"
    }
   ],
   "source": [
    "item_attributes_df['Descriptions'][0][0]['description']"
   ]
  },
  {
   "cell_type": "code",
   "execution_count": null,
   "id": "e01a562b",
   "metadata": {},
   "outputs": [],
   "source": []
  }
 ],
 "metadata": {
  "kernelspec": {
   "display_name": "Python 3 (ipykernel)",
   "language": "python",
   "name": "python3"
  },
  "language_info": {
   "codemirror_mode": {
    "name": "ipython",
    "version": 3
   },
   "file_extension": ".py",
   "mimetype": "text/x-python",
   "name": "python",
   "nbconvert_exporter": "python",
   "pygments_lexer": "ipython3",
   "version": "3.8.12"
  }
 },
 "nbformat": 4,
 "nbformat_minor": 5
}
