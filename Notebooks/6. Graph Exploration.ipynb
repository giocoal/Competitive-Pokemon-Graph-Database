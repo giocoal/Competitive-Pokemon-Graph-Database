{
 "cells": [
  {
   "cell_type": "markdown",
   "metadata": {},
   "source": [
    "# Query"
   ]
  },
  {
   "cell_type": "code",
   "execution_count": null,
   "metadata": {},
   "outputs": [],
   "source": [
    "from py2neo import Graph\n",
    "from py2neo.data import Node, Relationship\n",
    "from pprint import pprint"
   ]
  },
  {
   "cell_type": "markdown",
   "metadata": {},
   "source": [
    "### Connessione al DB"
   ]
  },
  {
   "cell_type": "code",
   "execution_count": null,
   "metadata": {},
   "outputs": [],
   "source": [
    "graph = Graph(\"bolt://localhost:7687\", auth=(\"neo4j\", \"pokemon\"))"
   ]
  },
  {
   "cell_type": "markdown",
   "metadata": {},
   "source": [
    "### Esequzione delle query"
   ]
  },
  {
   "cell_type": "markdown",
   "metadata": {},
   "source": [
    "Quali sono le varianti del Pokemon Charizard?"
   ]
  },
  {
   "cell_type": "code",
   "execution_count": null,
   "metadata": {},
   "outputs": [],
   "source": [
    "query1 = '''\n",
    "MATCH (p:Pokemon) -[r:HAS_VARIANT]->(v:Pokemon)\n",
    "WHERE p.Name='Charizard'\n",
    "RETURN p.Name AS PokemonNonVariante, v.Name AS Variante\n",
    "'''\n",
    "# Oppure\n",
    "# Runnare su Neo4j\n",
    "query2= '''\n",
    "MATCH (p:Pokemon) -[r:HAS_VARIANT]->(v:Pokemon)\n",
    "WHERE p.Name='Charizard'\n",
    "RETURN p,r,v\n",
    "'''"
   ]
  },
  {
   "cell_type": "code",
   "execution_count": null,
   "metadata": {},
   "outputs": [
    {
     "name": "stdout",
     "output_type": "stream",
     "text": [
      " PokemonNonVariante | Variante             \n",
      "--------------------|----------------------\n",
      " Charizard          | Charizard Gigantamax \n",
      " Charizard          | Mega Charizard Y     \n",
      " Charizard          | Mega Charizard X     \n",
      "\n"
     ]
    }
   ],
   "source": [
    "graph.run(query1)\n",
    "cursor = graph.run(query1)\n",
    "print(cursor.to_table())"
   ]
  },
  {
   "cell_type": "markdown",
   "metadata": {},
   "source": [
    "Quali sono i compagni più frequenti del Pokemon Charizard? (ho considerato come soglia il 30%)"
   ]
  },
  {
   "cell_type": "code",
   "execution_count": null,
   "metadata": {},
   "outputs": [],
   "source": [
    "query3='''\n",
    " MATCH (p:Pokemon)-[r:USED_IN_TEAM_WITH]->(t:Pokemon)\n",
    "WHERE p.Name='Charizard'AND r.UsePercentage > 30\n",
    "RETURN t.Name AS TeamMate, r.UsePercentage AS Percentuale\n",
    "ORDER BY r.UsePercentage  DESC\n",
    "'''\n",
    "#Possiamo anche stampare il pokemon più utilizzato:\n",
    "query4='''\n",
    "MATCH (p:Pokemon {Name: 'Charizard'})-[r:USED_IN_TEAM_WITH]->(t:Pokemon)\n",
    "WITH max(r.UsePercentage) AS max\n",
    "MATCH (p:Pokemon)-[r:USED_IN_TEAM_WITH]->(t:Pokemon)\n",
    "WHERE r.UsePercentage = max\n",
    "RETURN p.Name AS Pokemon ,t.Name AS TeamMate, r.UsePercentage AS Percentuale\n",
    "\n",
    "\n",
    "'''"
   ]
  },
  {
   "cell_type": "code",
   "execution_count": null,
   "metadata": {},
   "outputs": [
    {
     "name": "stdout",
     "output_type": "stream",
     "text": [
      " TeamMate             | Percentuale \n",
      "----------------------|-------------\n",
      " Groudon              |      86.831 \n",
      " Incineroar           |      70.405 \n",
      " Zacian Crowned Sword |      58.274 \n",
      " Grimmsnarl           |      57.381 \n",
      " Gastrodon            |      47.798 \n",
      "\n"
     ]
    }
   ],
   "source": [
    "graph.run(query3)\n",
    "cursor = graph.run(query3)\n",
    "print(cursor.to_table())"
   ]
  },
  {
   "cell_type": "code",
   "execution_count": null,
   "metadata": {},
   "outputs": [
    {
     "name": "stdout",
     "output_type": "stream",
     "text": [
      " Pokemon   | TeamMate | Percentuale \n",
      "-----------|----------|-------------\n",
      " Charizard | Groudon  |      86.831 \n",
      "\n"
     ]
    }
   ],
   "source": [
    "graph.run(query4)\n",
    "cursor = graph.run(query4)\n",
    "print(cursor.to_table())"
   ]
  },
  {
   "cell_type": "markdown",
   "metadata": {},
   "source": [
    "Quali sono le mosse che possono essere imparate dal Pokemon Charizard?"
   ]
  },
  {
   "cell_type": "code",
   "execution_count": null,
   "metadata": {},
   "outputs": [],
   "source": [
    "query5='''\n",
    "MATCH (m:Moves)<-[r:MAY_LEARN]-(p:Pokemon)\n",
    "WHERE p.Name='Charizard'\n",
    "RETURN m.Name AS Mossa, p.Name AS POkemon\n",
    "'''"
   ]
  },
  {
   "cell_type": "code",
   "execution_count": null,
   "metadata": {},
   "outputs": [
    {
     "name": "stdout",
     "output_type": "stream",
     "text": [
      " Mossa           | POkemon   \n",
      "-----------------|-----------\n",
      " Earthquake      | Charizard \n",
      " Hone Claws      | Charizard \n",
      " Mystical Fire   | Charizard \n",
      " Crunch          | Charizard \n",
      " Scary Face      | Charizard \n",
      " Facade          | Charizard \n",
      " Fire Fang       | Charizard \n",
      " Aerial Ace      | Charizard \n",
      " Rock Smash      | Charizard \n",
      " Cut             | Charizard \n",
      " Frustration     | Charizard \n",
      " Twister         | Charizard \n",
      " Mega Punch      | Charizard \n",
      " Endure          | Charizard \n",
      " Return          | Charizard \n",
      " Dragon Claw     | Charizard \n",
      " Steel Wing      | Charizard \n",
      " Beat Up         | Charizard \n",
      " Focus Blast     | Charizard \n",
      " Scorching Sands | Charizard \n",
      " Scale Shot      | Charizard \n",
      " Incinerate      | Charizard \n",
      " Fire Pledge     | Charizard \n",
      " Fire Blast      | Charizard \n",
      " Attract         | Charizard \n",
      " Fly             | Charizard \n",
      " Work Up         | Charizard \n",
      " Rock Slide      | Charizard \n",
      " Smokescreen     | Charizard \n",
      " Fire Punch      | Charizard \n",
      " Fire Spin       | Charizard \n",
      " Blast Burn      | Charizard \n",
      " Air Slash       | Charizard \n",
      " Body Slam       | Charizard \n",
      " Tailwind        | Charizard \n",
      " Dig             | Charizard \n",
      " Inferno         | Charizard \n",
      " Dual Wingbeat   | Charizard \n",
      " Slash           | Charizard \n",
      " Bide            | Charizard \n",
      " Echoed Voice    | Charizard \n",
      " Power Up Punch  | Charizard \n",
      " Flame Burst     | Charizard \n",
      " Counter         | Charizard \n",
      " Ember           | Charizard \n",
      " Mud Slap        | Charizard \n",
      " Leer            | Charizard \n",
      " Seismic Toss    | Charizard \n",
      " Headbutt        | Charizard \n",
      " Fissure         | Charizard \n",
      " Overheat        | Charizard \n",
      " Rage            | Charizard \n",
      " Outrage         | Charizard \n",
      " Hyper Beam      | Charizard \n",
      " Fury Cutter     | Charizard \n",
      " Flame Charge    | Charizard \n",
      " Double Team     | Charizard \n",
      " Bulldoze        | Charizard \n",
      " Blaze Kick      | Charizard \n",
      " Wing Attack     | Charizard \n",
      " Acrobatics      | Charizard \n",
      " Hurricane       | Charizard \n",
      " Brutal Swing    | Charizard \n",
      " Growl           | Charizard \n",
      " Iron Tail       | Charizard \n",
      " Air Cutter      | Charizard \n",
      " Ominous Wind    | Charizard \n",
      " Heat Crash      | Charizard \n",
      " Scratch         | Charizard \n",
      " Hidden Power    | Charizard \n",
      " Giga Impact     | Charizard \n",
      " Defog           | Charizard \n",
      " Submission      | Charizard \n",
      " Double Edge     | Charizard \n",
      " Protect         | Charizard \n",
      " Swords Dance    | Charizard \n",
      " Brick Break     | Charizard \n",
      " Sky Drop        | Charizard \n",
      " Fling           | Charizard \n",
      " Heat Wave       | Charizard \n",
      " Sunny Day       | Charizard \n",
      " Snore           | Charizard \n",
      " Natural Gift    | Charizard \n",
      " Skull Bash      | Charizard \n",
      " Mega Kick       | Charizard \n",
      " Flamethrower    | Charizard \n",
      " Take Down       | Charizard \n",
      " Focus Punch     | Charizard \n",
      " Substitute      | Charizard \n",
      " Curse           | Charizard \n",
      " Will O Wisp     | Charizard \n",
      " Secret Power    | Charizard \n",
      " Reflect         | Charizard \n",
      " Breaking Swipe  | Charizard \n",
      " Solar Beam      | Charizard \n",
      " Dragon Breath   | Charizard \n",
      " Metal Claw      | Charizard \n",
      " Dragon Rage     | Charizard \n",
      " Flare Blitz     | Charizard \n",
      " Strength        | Charizard \n",
      " Confide         | Charizard \n",
      " Fury Swipes     | Charizard \n",
      " Roar            | Charizard \n",
      " Rock Tomb       | Charizard \n",
      " Captivate       | Charizard \n",
      " Helping Hand    | Charizard \n",
      " Weather Ball    | Charizard \n",
      " Sandstorm       | Charizard \n",
      " Mimic           | Charizard \n",
      " Defense Curl    | Charizard \n",
      " Sleep Talk      | Charizard \n",
      " Shadow Claw     | Charizard \n",
      " Dragon Dance    | Charizard \n",
      " Dynamic Punch   | Charizard \n",
      " False Swipe     | Charizard \n",
      " Roost           | Charizard \n",
      " Round           | Charizard \n",
      " Swift           | Charizard \n",
      " Swagger         | Charizard \n",
      " Dragon Tail     | Charizard \n",
      " Rest            | Charizard \n",
      " Dragon Pulse    | Charizard \n",
      " Thunder Punch   | Charizard \n",
      " Toxic           | Charizard \n",
      "\n"
     ]
    }
   ],
   "source": [
    "graph.run(query5)\n",
    "cursor = graph.run(query5)\n",
    "print(cursor.to_table())"
   ]
  },
  {
   "cell_type": "markdown",
   "metadata": {},
   "source": [
    "Quali, tra le mosse più utilizzate con il pokemon Charizard, sono superefficaci sul pokemon Arcanine?"
   ]
  },
  {
   "cell_type": "code",
   "execution_count": null,
   "metadata": {},
   "outputs": [],
   "source": [
    "#Runnare su Neo4j\n",
    "\n",
    "# Pokemon y\n",
    "query6='''\n",
    "MATCH (p:Pokemon{Name:'Arcanine'})-[rt:IS_OF_TYPE]-> (t:Type)\n",
    "RETURN p,rt,t\n",
    "'''\n",
    "\n",
    "# Pokemon x AND query (bisogna sistemare il RETURN):\n",
    "\n",
    "query7='''\n",
    "MATCH (p:Pokemon {Name:'Charizard'})-[r:USED_WITH_MOVE]->(m:Moves) \n",
    "WHERE r.UsePercentage >30\n",
    "MATCH (p)-[rt:IS_OF_TYPE]-> (tp:Type)\n",
    "MATCH (m)-[rm:MOVES_IS_TYPE]->(tm)\n",
    "CALL {\n",
    "    WITH tm\n",
    "    MATCH (t)-[eff:MOVE_EFFECTIVENESS_ON_POKEMON]->(teff:Type)\n",
    "    WHERE teff.Name='fire' AND eff.Effectiveness='Super-effective (200%)'\n",
    "    RETURN eff, teff\n",
    "}\n",
    "RETURN * \n",
    "'''\n"
   ]
  },
  {
   "cell_type": "markdown",
   "metadata": {},
   "source": [
    "Quali Pokemon di tipo fire vengono usati con l’abilità Solar Power?"
   ]
  },
  {
   "cell_type": "code",
   "execution_count": null,
   "metadata": {},
   "outputs": [],
   "source": [
    "query8='''\n",
    "MATCH (p:Pokemon)-[r:IS_OF_TYPE]-> (t:Type {Name:'fire'})\n",
    "CALL {\n",
    "    WITH p\n",
    "    MATCH (p)-[u:USED_WITH_ABILITY]->(a:Abilities {Name:'Solar Power'})\n",
    "    RETURN u,a\n",
    "}\n",
    "RETURN p.Name AS Pokemon,a.Name AS Abilità, t.Name AS Tipo\n",
    "'''"
   ]
  },
  {
   "cell_type": "code",
   "execution_count": null,
   "metadata": {},
   "outputs": [
    {
     "name": "stdout",
     "output_type": "stream",
     "text": [
      " Pokemon       | Abilità     | Tipo \n",
      "---------------|-------------|------\n",
      " Mega Houndoom | Solar Power | fire \n",
      " Charmander    | Solar Power | fire \n",
      " Charmeleon    | Solar Power | fire \n",
      " Charizard     | Solar Power | fire \n",
      "\n"
     ]
    }
   ],
   "source": [
    "graph.run(query8)\n",
    "cursor = graph.run(query8)\n",
    "print(cursor.to_table())"
   ]
  },
  {
   "cell_type": "markdown",
   "metadata": {},
   "source": [
    "Quali sono i Pokemon più utilizzati nel VGC? (soglia 20%)"
   ]
  },
  {
   "cell_type": "code",
   "execution_count": null,
   "metadata": {},
   "outputs": [],
   "source": [
    "query9='''\n",
    "MATCH (p:Pokemon)\n",
    "WHERE p.UsagePercentMarch2022 > 20\n",
    "RETURN p.Name AS Pokemon, p.UsagePercentMarch2022 AS Percentuale\n",
    "ORDER BY p.UsagePercentMarch2022 DESC\n",
    "'''"
   ]
  },
  {
   "cell_type": "code",
   "execution_count": null,
   "metadata": {},
   "outputs": [
    {
     "name": "stdout",
     "output_type": "stream",
     "text": [
      " Pokemon                   | Percentuale \n",
      "---------------------------|-------------\n",
      " Zacian Crowned Sword      |          65 \n",
      " Incineroar                |          59 \n",
      " Kyogre                    |          35 \n",
      " Grimmsnarl                |          30 \n",
      " Regieleki                 |          29 \n",
      " Rillaboom                 |          27 \n",
      " Groudon                   |          23 \n",
      " Calyrex Shadow Rider      |          22 \n",
      " Thundurus Incarnate Forme |          21 \n",
      "\n"
     ]
    }
   ],
   "source": [
    "graph.run(query9)\n",
    "cursor = graph.run(query9)\n",
    "print(cursor.to_table())"
   ]
  }
 ],
 "metadata": {
  "language_info": {
   "name": "python"
  },
  "orig_nbformat": 4
 },
 "nbformat": 4,
 "nbformat_minor": 2
}
