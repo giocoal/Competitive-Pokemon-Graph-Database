{
 "cells": [
  {
   "cell_type": "markdown",
   "id": "36d91814",
   "metadata": {
    "heading_collapsed": true
   },
   "source": [
    "# 0. Setup"
   ]
  },
  {
   "cell_type": "markdown",
   "id": "5e885a31",
   "metadata": {
    "hidden": true
   },
   "source": [
    "## python version"
   ]
  },
  {
   "cell_type": "code",
   "execution_count": 1,
   "id": "f12a867b",
   "metadata": {
    "ExecuteTime": {
     "end_time": "2022-04-20T14:19:44.242445Z",
     "start_time": "2022-04-20T14:19:44.224125Z"
    },
    "hidden": true
   },
   "outputs": [
    {
     "name": "stdout",
     "output_type": "stream",
     "text": [
      "3.7.9\n"
     ]
    }
   ],
   "source": [
    "from platform import python_version\n",
    "print(python_version())"
   ]
  },
  {
   "cell_type": "markdown",
   "id": "27619f99",
   "metadata": {
    "hidden": true
   },
   "source": [
    "## Display Size"
   ]
  },
  {
   "cell_type": "code",
   "execution_count": 46,
   "id": "7d42d8ec",
   "metadata": {
    "ExecuteTime": {
     "end_time": "2022-04-21T13:25:00.806863Z",
     "start_time": "2022-04-21T13:25:00.800076Z"
    },
    "hidden": true
   },
   "outputs": [
    {
     "data": {
      "text/html": [
       "<style>.container { width:85% !important; }</style>"
      ],
      "text/plain": [
       "<IPython.core.display.HTML object>"
      ]
     },
     "metadata": {},
     "output_type": "display_data"
    }
   ],
   "source": [
    "from IPython.core.display import display, HTML\n",
    "display(HTML(\"<style>.container { width:85% !important; }</style>\"))"
   ]
  },
  {
   "cell_type": "markdown",
   "id": "b3f4188e",
   "metadata": {
    "hidden": true
   },
   "source": [
    "## Librerie"
   ]
  },
  {
   "cell_type": "code",
   "execution_count": 2,
   "id": "60def604",
   "metadata": {
    "ExecuteTime": {
     "end_time": "2022-04-21T12:55:58.080264Z",
     "start_time": "2022-04-21T12:55:56.381094Z"
    },
    "hidden": true
   },
   "outputs": [],
   "source": [
    "from urllib.request import urlopen\n",
    "from bs4 import BeautifulSoup, Comment\n",
    "import mechanicalsoup as ms\n",
    "import scrapy\n",
    "import selenium\n",
    "import lxml\n",
    "import re\n",
    "import requests\n",
    "import pandas as pd\n",
    "from pandas import compat\n",
    "import json\n",
    "from requests import get\n",
    "import pprint\n",
    "#import html5lib"
   ]
  },
  {
   "cell_type": "markdown",
   "id": "a6850546",
   "metadata": {
    "hidden": true
   },
   "source": [
    "## Setup Selenium"
   ]
  },
  {
   "cell_type": "code",
   "execution_count": 13,
   "id": "d96cd9cc",
   "metadata": {
    "ExecuteTime": {
     "end_time": "2022-04-20T15:11:34.740085Z",
     "start_time": "2022-04-20T15:11:34.731121Z"
    },
    "hidden": true
   },
   "outputs": [],
   "source": [
    "from selenium import webdriver\n",
    "from selenium.webdriver.common.keys import Keys"
   ]
  },
  {
   "cell_type": "markdown",
   "id": "50392276",
   "metadata": {
    "heading_collapsed": true
   },
   "source": [
    "# 1. `pokemondb` Tables (Gen VIII All-Things e National Pokédex) "
   ]
  },
  {
   "cell_type": "markdown",
   "id": "bc2de6bb",
   "metadata": {
    "heading_collapsed": true,
    "hidden": true
   },
   "source": [
    "## NATIONAL POKEDEX e SPRITES: Pokemon list with stats (id, nome, tipo, total, hp, attack, defense, sp. atk., sp. def, speed)"
   ]
  },
  {
   "cell_type": "markdown",
   "id": "1e72f06e",
   "metadata": {
    "hidden": true
   },
   "source": [
    "- *Il pokédex nazionale è quello che cointiene TUTTI i pokemon usciti nelle diverse generazioni (in totale 905)*"
   ]
  },
  {
   "cell_type": "markdown",
   "id": "a793fb87",
   "metadata": {
    "hidden": true
   },
   "source": [
    "Url della risorsa, HTTPResponse Object e BeautifulSoupObject della pagina"
   ]
  },
  {
   "cell_type": "code",
   "execution_count": 52,
   "id": "81b900cf",
   "metadata": {
    "ExecuteTime": {
     "end_time": "2022-04-21T13:57:19.744206Z",
     "start_time": "2022-04-21T13:57:19.551344Z"
    },
    "hidden": true
   },
   "outputs": [],
   "source": [
    "pokedex_URL = \"https://pokemondb.net/pokedex/all\"\n",
    "pokedex_page = requests.get(pokedex_URL)"
   ]
  },
  {
   "cell_type": "code",
   "execution_count": 53,
   "id": "9bdf2e1c",
   "metadata": {
    "ExecuteTime": {
     "end_time": "2022-04-21T13:57:21.030331Z",
     "start_time": "2022-04-21T13:57:19.938390Z"
    },
    "hidden": true
   },
   "outputs": [],
   "source": [
    "pokedex_soup = BeautifulSoup(pokedex_page.content, features=\"html.parser\")"
   ]
  },
  {
   "cell_type": "code",
   "execution_count": 54,
   "id": "93a276d6",
   "metadata": {
    "ExecuteTime": {
     "end_time": "2022-04-21T13:57:25.409283Z",
     "start_time": "2022-04-21T13:57:25.394675Z"
    },
    "hidden": true
   },
   "outputs": [],
   "source": [
    "pokedex_table = pokedex_soup.find(id=\"pokedex\")"
   ]
  },
  {
   "cell_type": "code",
   "execution_count": 55,
   "id": "7993f9fa",
   "metadata": {
    "ExecuteTime": {
     "end_time": "2022-04-21T13:57:27.423331Z",
     "start_time": "2022-04-21T13:57:26.851755Z"
    },
    "hidden": true
   },
   "outputs": [],
   "source": [
    "pokedex_df = pd.read_html(str(pokedex_table))[0]"
   ]
  },
  {
   "cell_type": "code",
   "execution_count": 56,
   "id": "e41ffe77",
   "metadata": {
    "ExecuteTime": {
     "end_time": "2022-04-21T13:57:28.694950Z",
     "start_time": "2022-04-21T13:57:28.680949Z"
    },
    "hidden": true
   },
   "outputs": [],
   "source": [
    "pokedex_name_split = pokedex_df['Name'].str.split(n = 1, expand = True)\n",
    "pokedex_df['Name'] = pokedex_name_split[0]\n",
    "pokedex_df.insert(2, \"Variant\", pokedex_name_split[1])\n",
    "#pokedex_df['Type'] = pokedex_df['Type'].replace(' ', ', ', regex = True)"
   ]
  },
  {
   "cell_type": "code",
   "execution_count": 57,
   "id": "3ad58510",
   "metadata": {
    "ExecuteTime": {
     "end_time": "2022-04-21T13:57:30.166369Z",
     "start_time": "2022-04-21T13:57:30.151733Z"
    },
    "hidden": true
   },
   "outputs": [],
   "source": [
    "pokedex_type_split = pokedex_df['Type'].str.split(n = 1, expand = True)\n",
    "pokedex_df.drop('Type', inplace = True, axis = 1)\n",
    "pokedex_df.insert(2, \"Type1\", pokedex_type_split[0])\n",
    "pokedex_df.insert(3, \"Type2\", pokedex_type_split[1])"
   ]
  },
  {
   "attachments": {},
   "cell_type": "markdown",
   "id": "d41fe7dd",
   "metadata": {
    "hidden": true
   },
   "source": [
    "`#` indica il numero nel pokedex nazionale dell'ottava generazione\n",
    "- Vedi: https://pokemondb.net/pokedex/national"
   ]
  },
  {
   "cell_type": "code",
   "execution_count": 58,
   "id": "e63d2a03",
   "metadata": {
    "ExecuteTime": {
     "end_time": "2022-04-21T13:57:31.659148Z",
     "start_time": "2022-04-21T13:57:31.643968Z"
    },
    "hidden": true
   },
   "outputs": [
    {
     "data": {
      "text/html": [
       "<div>\n",
       "<style scoped>\n",
       "    .dataframe tbody tr th:only-of-type {\n",
       "        vertical-align: middle;\n",
       "    }\n",
       "\n",
       "    .dataframe tbody tr th {\n",
       "        vertical-align: top;\n",
       "    }\n",
       "\n",
       "    .dataframe thead th {\n",
       "        text-align: right;\n",
       "    }\n",
       "</style>\n",
       "<table border=\"1\" class=\"dataframe\">\n",
       "  <thead>\n",
       "    <tr style=\"text-align: right;\">\n",
       "      <th></th>\n",
       "      <th>#</th>\n",
       "      <th>Name</th>\n",
       "      <th>Type1</th>\n",
       "      <th>Type2</th>\n",
       "      <th>Variant</th>\n",
       "      <th>Total</th>\n",
       "      <th>HP</th>\n",
       "      <th>Attack</th>\n",
       "      <th>Defense</th>\n",
       "      <th>Sp. Atk</th>\n",
       "      <th>Sp. Def</th>\n",
       "      <th>Speed</th>\n",
       "    </tr>\n",
       "  </thead>\n",
       "  <tbody>\n",
       "    <tr>\n",
       "      <th>0</th>\n",
       "      <td>1</td>\n",
       "      <td>Bulbasaur</td>\n",
       "      <td>Grass</td>\n",
       "      <td>Poison</td>\n",
       "      <td>None</td>\n",
       "      <td>318</td>\n",
       "      <td>45</td>\n",
       "      <td>49</td>\n",
       "      <td>49</td>\n",
       "      <td>65</td>\n",
       "      <td>65</td>\n",
       "      <td>45</td>\n",
       "    </tr>\n",
       "    <tr>\n",
       "      <th>1</th>\n",
       "      <td>2</td>\n",
       "      <td>Ivysaur</td>\n",
       "      <td>Grass</td>\n",
       "      <td>Poison</td>\n",
       "      <td>None</td>\n",
       "      <td>405</td>\n",
       "      <td>60</td>\n",
       "      <td>62</td>\n",
       "      <td>63</td>\n",
       "      <td>80</td>\n",
       "      <td>80</td>\n",
       "      <td>60</td>\n",
       "    </tr>\n",
       "    <tr>\n",
       "      <th>2</th>\n",
       "      <td>3</td>\n",
       "      <td>Venusaur</td>\n",
       "      <td>Grass</td>\n",
       "      <td>Poison</td>\n",
       "      <td>None</td>\n",
       "      <td>525</td>\n",
       "      <td>80</td>\n",
       "      <td>82</td>\n",
       "      <td>83</td>\n",
       "      <td>100</td>\n",
       "      <td>100</td>\n",
       "      <td>80</td>\n",
       "    </tr>\n",
       "    <tr>\n",
       "      <th>3</th>\n",
       "      <td>3</td>\n",
       "      <td>Venusaur</td>\n",
       "      <td>Grass</td>\n",
       "      <td>Poison</td>\n",
       "      <td>Mega Venusaur</td>\n",
       "      <td>625</td>\n",
       "      <td>80</td>\n",
       "      <td>100</td>\n",
       "      <td>123</td>\n",
       "      <td>122</td>\n",
       "      <td>120</td>\n",
       "      <td>80</td>\n",
       "    </tr>\n",
       "    <tr>\n",
       "      <th>4</th>\n",
       "      <td>4</td>\n",
       "      <td>Charmander</td>\n",
       "      <td>Fire</td>\n",
       "      <td>None</td>\n",
       "      <td>None</td>\n",
       "      <td>309</td>\n",
       "      <td>39</td>\n",
       "      <td>52</td>\n",
       "      <td>43</td>\n",
       "      <td>60</td>\n",
       "      <td>50</td>\n",
       "      <td>65</td>\n",
       "    </tr>\n",
       "    <tr>\n",
       "      <th>...</th>\n",
       "      <td>...</td>\n",
       "      <td>...</td>\n",
       "      <td>...</td>\n",
       "      <td>...</td>\n",
       "      <td>...</td>\n",
       "      <td>...</td>\n",
       "      <td>...</td>\n",
       "      <td>...</td>\n",
       "      <td>...</td>\n",
       "      <td>...</td>\n",
       "      <td>...</td>\n",
       "      <td>...</td>\n",
       "    </tr>\n",
       "    <tr>\n",
       "      <th>1070</th>\n",
       "      <td>902</td>\n",
       "      <td>Basculegion</td>\n",
       "      <td>Water</td>\n",
       "      <td>Ghost</td>\n",
       "      <td>Female</td>\n",
       "      <td>530</td>\n",
       "      <td>120</td>\n",
       "      <td>92</td>\n",
       "      <td>65</td>\n",
       "      <td>100</td>\n",
       "      <td>75</td>\n",
       "      <td>78</td>\n",
       "    </tr>\n",
       "    <tr>\n",
       "      <th>1071</th>\n",
       "      <td>903</td>\n",
       "      <td>Sneasler</td>\n",
       "      <td>Poison</td>\n",
       "      <td>Fighting</td>\n",
       "      <td>None</td>\n",
       "      <td>510</td>\n",
       "      <td>80</td>\n",
       "      <td>130</td>\n",
       "      <td>60</td>\n",
       "      <td>40</td>\n",
       "      <td>80</td>\n",
       "      <td>120</td>\n",
       "    </tr>\n",
       "    <tr>\n",
       "      <th>1072</th>\n",
       "      <td>904</td>\n",
       "      <td>Overqwil</td>\n",
       "      <td>Dark</td>\n",
       "      <td>Poison</td>\n",
       "      <td>None</td>\n",
       "      <td>510</td>\n",
       "      <td>85</td>\n",
       "      <td>115</td>\n",
       "      <td>95</td>\n",
       "      <td>65</td>\n",
       "      <td>65</td>\n",
       "      <td>85</td>\n",
       "    </tr>\n",
       "    <tr>\n",
       "      <th>1073</th>\n",
       "      <td>905</td>\n",
       "      <td>Enamorus</td>\n",
       "      <td>Fairy</td>\n",
       "      <td>Flying</td>\n",
       "      <td>Incarnate Forme</td>\n",
       "      <td>580</td>\n",
       "      <td>74</td>\n",
       "      <td>115</td>\n",
       "      <td>70</td>\n",
       "      <td>135</td>\n",
       "      <td>80</td>\n",
       "      <td>106</td>\n",
       "    </tr>\n",
       "    <tr>\n",
       "      <th>1074</th>\n",
       "      <td>905</td>\n",
       "      <td>Enamorus</td>\n",
       "      <td>Fairy</td>\n",
       "      <td>Flying</td>\n",
       "      <td>Therian Forme</td>\n",
       "      <td>580</td>\n",
       "      <td>74</td>\n",
       "      <td>115</td>\n",
       "      <td>110</td>\n",
       "      <td>135</td>\n",
       "      <td>100</td>\n",
       "      <td>46</td>\n",
       "    </tr>\n",
       "  </tbody>\n",
       "</table>\n",
       "<p>1075 rows × 12 columns</p>\n",
       "</div>"
      ],
      "text/plain": [
       "        #         Name   Type1     Type2          Variant  Total   HP  Attack  \\\n",
       "0       1    Bulbasaur   Grass    Poison             None    318   45      49   \n",
       "1       2      Ivysaur   Grass    Poison             None    405   60      62   \n",
       "2       3     Venusaur   Grass    Poison             None    525   80      82   \n",
       "3       3     Venusaur   Grass    Poison    Mega Venusaur    625   80     100   \n",
       "4       4   Charmander    Fire      None             None    309   39      52   \n",
       "...   ...          ...     ...       ...              ...    ...  ...     ...   \n",
       "1070  902  Basculegion   Water     Ghost           Female    530  120      92   \n",
       "1071  903     Sneasler  Poison  Fighting             None    510   80     130   \n",
       "1072  904     Overqwil    Dark    Poison             None    510   85     115   \n",
       "1073  905     Enamorus   Fairy    Flying  Incarnate Forme    580   74     115   \n",
       "1074  905     Enamorus   Fairy    Flying    Therian Forme    580   74     115   \n",
       "\n",
       "      Defense  Sp. Atk  Sp. Def  Speed  \n",
       "0          49       65       65     45  \n",
       "1          63       80       80     60  \n",
       "2          83      100      100     80  \n",
       "3         123      122      120     80  \n",
       "4          43       60       50     65  \n",
       "...       ...      ...      ...    ...  \n",
       "1070       65      100       75     78  \n",
       "1071       60       40       80    120  \n",
       "1072       95       65       65     85  \n",
       "1073       70      135       80    106  \n",
       "1074      110      135      100     46  \n",
       "\n",
       "[1075 rows x 12 columns]"
      ]
     },
     "execution_count": 58,
     "metadata": {},
     "output_type": "execute_result"
    }
   ],
   "source": [
    "pokedex_df"
   ]
  },
  {
   "cell_type": "markdown",
   "id": "87fc39ac",
   "metadata": {
    "hidden": true
   },
   "source": [
    "### Sprite"
   ]
  },
  {
   "cell_type": "code",
   "execution_count": 84,
   "id": "d0d7467b",
   "metadata": {
    "ExecuteTime": {
     "end_time": "2022-04-21T14:25:58.766332Z",
     "start_time": "2022-04-21T14:25:58.682089Z"
    },
    "hidden": true
   },
   "outputs": [],
   "source": [
    "pokedex_sprites = pokedex_table.find('tbody').find_all('span', class_ = 'img-fixed icon-pkmn')"
   ]
  },
  {
   "cell_type": "code",
   "execution_count": 87,
   "id": "650ccd0b",
   "metadata": {
    "ExecuteTime": {
     "end_time": "2022-04-21T14:26:33.354411Z",
     "start_time": "2022-04-21T14:26:33.342345Z"
    },
    "hidden": true
   },
   "outputs": [
    {
     "data": {
      "text/plain": [
       "1075"
      ]
     },
     "execution_count": 87,
     "metadata": {},
     "output_type": "execute_result"
    }
   ],
   "source": [
    "len(pokedex_sprites)"
   ]
  },
  {
   "cell_type": "code",
   "execution_count": 88,
   "id": "0b0284a3",
   "metadata": {
    "ExecuteTime": {
     "end_time": "2022-04-21T14:27:13.938257Z",
     "start_time": "2022-04-21T14:27:13.921313Z"
    },
    "hidden": true
   },
   "outputs": [],
   "source": [
    "pokemon_sprites = []\n",
    "for pokemon_sprite in pokedex_sprites:\n",
    "    pokemon_sprites.append(pokemon_sprite['data-src'])"
   ]
  },
  {
   "cell_type": "markdown",
   "id": "55bb3352",
   "metadata": {
    "hidden": true
   },
   "source": [
    "Aggiungo la colonna"
   ]
  },
  {
   "cell_type": "code",
   "execution_count": 90,
   "id": "b4038074",
   "metadata": {
    "ExecuteTime": {
     "end_time": "2022-04-21T14:29:13.366579Z",
     "start_time": "2022-04-21T14:29:13.358314Z"
    },
    "hidden": true
   },
   "outputs": [],
   "source": [
    "pokedex_df['sprite_url'] = pokemon_sprites"
   ]
  },
  {
   "cell_type": "code",
   "execution_count": 91,
   "id": "260b1b90",
   "metadata": {
    "ExecuteTime": {
     "end_time": "2022-04-21T14:29:20.214263Z",
     "start_time": "2022-04-21T14:29:20.190062Z"
    },
    "hidden": true
   },
   "outputs": [
    {
     "data": {
      "text/html": [
       "<div>\n",
       "<style scoped>\n",
       "    .dataframe tbody tr th:only-of-type {\n",
       "        vertical-align: middle;\n",
       "    }\n",
       "\n",
       "    .dataframe tbody tr th {\n",
       "        vertical-align: top;\n",
       "    }\n",
       "\n",
       "    .dataframe thead th {\n",
       "        text-align: right;\n",
       "    }\n",
       "</style>\n",
       "<table border=\"1\" class=\"dataframe\">\n",
       "  <thead>\n",
       "    <tr style=\"text-align: right;\">\n",
       "      <th></th>\n",
       "      <th>#</th>\n",
       "      <th>Name</th>\n",
       "      <th>Type1</th>\n",
       "      <th>Type2</th>\n",
       "      <th>Variant</th>\n",
       "      <th>Total</th>\n",
       "      <th>HP</th>\n",
       "      <th>Attack</th>\n",
       "      <th>Defense</th>\n",
       "      <th>Sp. Atk</th>\n",
       "      <th>Sp. Def</th>\n",
       "      <th>Speed</th>\n",
       "      <th>sprite_url</th>\n",
       "    </tr>\n",
       "  </thead>\n",
       "  <tbody>\n",
       "    <tr>\n",
       "      <th>0</th>\n",
       "      <td>1</td>\n",
       "      <td>Bulbasaur</td>\n",
       "      <td>Grass</td>\n",
       "      <td>Poison</td>\n",
       "      <td>None</td>\n",
       "      <td>318</td>\n",
       "      <td>45</td>\n",
       "      <td>49</td>\n",
       "      <td>49</td>\n",
       "      <td>65</td>\n",
       "      <td>65</td>\n",
       "      <td>45</td>\n",
       "      <td>https://img.pokemondb.net/sprites/sword-shield...</td>\n",
       "    </tr>\n",
       "    <tr>\n",
       "      <th>1</th>\n",
       "      <td>2</td>\n",
       "      <td>Ivysaur</td>\n",
       "      <td>Grass</td>\n",
       "      <td>Poison</td>\n",
       "      <td>None</td>\n",
       "      <td>405</td>\n",
       "      <td>60</td>\n",
       "      <td>62</td>\n",
       "      <td>63</td>\n",
       "      <td>80</td>\n",
       "      <td>80</td>\n",
       "      <td>60</td>\n",
       "      <td>https://img.pokemondb.net/sprites/sword-shield...</td>\n",
       "    </tr>\n",
       "    <tr>\n",
       "      <th>2</th>\n",
       "      <td>3</td>\n",
       "      <td>Venusaur</td>\n",
       "      <td>Grass</td>\n",
       "      <td>Poison</td>\n",
       "      <td>None</td>\n",
       "      <td>525</td>\n",
       "      <td>80</td>\n",
       "      <td>82</td>\n",
       "      <td>83</td>\n",
       "      <td>100</td>\n",
       "      <td>100</td>\n",
       "      <td>80</td>\n",
       "      <td>https://img.pokemondb.net/sprites/sword-shield...</td>\n",
       "    </tr>\n",
       "    <tr>\n",
       "      <th>3</th>\n",
       "      <td>3</td>\n",
       "      <td>Venusaur</td>\n",
       "      <td>Grass</td>\n",
       "      <td>Poison</td>\n",
       "      <td>Mega Venusaur</td>\n",
       "      <td>625</td>\n",
       "      <td>80</td>\n",
       "      <td>100</td>\n",
       "      <td>123</td>\n",
       "      <td>122</td>\n",
       "      <td>120</td>\n",
       "      <td>80</td>\n",
       "      <td>https://img.pokemondb.net/sprites/sword-shield...</td>\n",
       "    </tr>\n",
       "    <tr>\n",
       "      <th>4</th>\n",
       "      <td>4</td>\n",
       "      <td>Charmander</td>\n",
       "      <td>Fire</td>\n",
       "      <td>None</td>\n",
       "      <td>None</td>\n",
       "      <td>309</td>\n",
       "      <td>39</td>\n",
       "      <td>52</td>\n",
       "      <td>43</td>\n",
       "      <td>60</td>\n",
       "      <td>50</td>\n",
       "      <td>65</td>\n",
       "      <td>https://img.pokemondb.net/sprites/sword-shield...</td>\n",
       "    </tr>\n",
       "    <tr>\n",
       "      <th>...</th>\n",
       "      <td>...</td>\n",
       "      <td>...</td>\n",
       "      <td>...</td>\n",
       "      <td>...</td>\n",
       "      <td>...</td>\n",
       "      <td>...</td>\n",
       "      <td>...</td>\n",
       "      <td>...</td>\n",
       "      <td>...</td>\n",
       "      <td>...</td>\n",
       "      <td>...</td>\n",
       "      <td>...</td>\n",
       "      <td>...</td>\n",
       "    </tr>\n",
       "    <tr>\n",
       "      <th>1070</th>\n",
       "      <td>902</td>\n",
       "      <td>Basculegion</td>\n",
       "      <td>Water</td>\n",
       "      <td>Ghost</td>\n",
       "      <td>Female</td>\n",
       "      <td>530</td>\n",
       "      <td>120</td>\n",
       "      <td>92</td>\n",
       "      <td>65</td>\n",
       "      <td>100</td>\n",
       "      <td>75</td>\n",
       "      <td>78</td>\n",
       "      <td>https://img.pokemondb.net/s.png</td>\n",
       "    </tr>\n",
       "    <tr>\n",
       "      <th>1071</th>\n",
       "      <td>903</td>\n",
       "      <td>Sneasler</td>\n",
       "      <td>Poison</td>\n",
       "      <td>Fighting</td>\n",
       "      <td>None</td>\n",
       "      <td>510</td>\n",
       "      <td>80</td>\n",
       "      <td>130</td>\n",
       "      <td>60</td>\n",
       "      <td>40</td>\n",
       "      <td>80</td>\n",
       "      <td>120</td>\n",
       "      <td>https://img.pokemondb.net/s.png</td>\n",
       "    </tr>\n",
       "    <tr>\n",
       "      <th>1072</th>\n",
       "      <td>904</td>\n",
       "      <td>Overqwil</td>\n",
       "      <td>Dark</td>\n",
       "      <td>Poison</td>\n",
       "      <td>None</td>\n",
       "      <td>510</td>\n",
       "      <td>85</td>\n",
       "      <td>115</td>\n",
       "      <td>95</td>\n",
       "      <td>65</td>\n",
       "      <td>65</td>\n",
       "      <td>85</td>\n",
       "      <td>https://img.pokemondb.net/s.png</td>\n",
       "    </tr>\n",
       "    <tr>\n",
       "      <th>1073</th>\n",
       "      <td>905</td>\n",
       "      <td>Enamorus</td>\n",
       "      <td>Fairy</td>\n",
       "      <td>Flying</td>\n",
       "      <td>Incarnate Forme</td>\n",
       "      <td>580</td>\n",
       "      <td>74</td>\n",
       "      <td>115</td>\n",
       "      <td>70</td>\n",
       "      <td>135</td>\n",
       "      <td>80</td>\n",
       "      <td>106</td>\n",
       "      <td>https://img.pokemondb.net/s.png</td>\n",
       "    </tr>\n",
       "    <tr>\n",
       "      <th>1074</th>\n",
       "      <td>905</td>\n",
       "      <td>Enamorus</td>\n",
       "      <td>Fairy</td>\n",
       "      <td>Flying</td>\n",
       "      <td>Therian Forme</td>\n",
       "      <td>580</td>\n",
       "      <td>74</td>\n",
       "      <td>115</td>\n",
       "      <td>110</td>\n",
       "      <td>135</td>\n",
       "      <td>100</td>\n",
       "      <td>46</td>\n",
       "      <td>https://img.pokemondb.net/s.png</td>\n",
       "    </tr>\n",
       "  </tbody>\n",
       "</table>\n",
       "<p>1075 rows × 13 columns</p>\n",
       "</div>"
      ],
      "text/plain": [
       "        #         Name   Type1     Type2          Variant  Total   HP  Attack  \\\n",
       "0       1    Bulbasaur   Grass    Poison             None    318   45      49   \n",
       "1       2      Ivysaur   Grass    Poison             None    405   60      62   \n",
       "2       3     Venusaur   Grass    Poison             None    525   80      82   \n",
       "3       3     Venusaur   Grass    Poison    Mega Venusaur    625   80     100   \n",
       "4       4   Charmander    Fire      None             None    309   39      52   \n",
       "...   ...          ...     ...       ...              ...    ...  ...     ...   \n",
       "1070  902  Basculegion   Water     Ghost           Female    530  120      92   \n",
       "1071  903     Sneasler  Poison  Fighting             None    510   80     130   \n",
       "1072  904     Overqwil    Dark    Poison             None    510   85     115   \n",
       "1073  905     Enamorus   Fairy    Flying  Incarnate Forme    580   74     115   \n",
       "1074  905     Enamorus   Fairy    Flying    Therian Forme    580   74     115   \n",
       "\n",
       "      Defense  Sp. Atk  Sp. Def  Speed  \\\n",
       "0          49       65       65     45   \n",
       "1          63       80       80     60   \n",
       "2          83      100      100     80   \n",
       "3         123      122      120     80   \n",
       "4          43       60       50     65   \n",
       "...       ...      ...      ...    ...   \n",
       "1070       65      100       75     78   \n",
       "1071       60       40       80    120   \n",
       "1072       95       65       65     85   \n",
       "1073       70      135       80    106   \n",
       "1074      110      135      100     46   \n",
       "\n",
       "                                             sprite_url  \n",
       "0     https://img.pokemondb.net/sprites/sword-shield...  \n",
       "1     https://img.pokemondb.net/sprites/sword-shield...  \n",
       "2     https://img.pokemondb.net/sprites/sword-shield...  \n",
       "3     https://img.pokemondb.net/sprites/sword-shield...  \n",
       "4     https://img.pokemondb.net/sprites/sword-shield...  \n",
       "...                                                 ...  \n",
       "1070                    https://img.pokemondb.net/s.png  \n",
       "1071                    https://img.pokemondb.net/s.png  \n",
       "1072                    https://img.pokemondb.net/s.png  \n",
       "1073                    https://img.pokemondb.net/s.png  \n",
       "1074                    https://img.pokemondb.net/s.png  \n",
       "\n",
       "[1075 rows x 13 columns]"
      ]
     },
     "execution_count": 91,
     "metadata": {},
     "output_type": "execute_result"
    }
   ],
   "source": [
    "pokedex_df"
   ]
  },
  {
   "cell_type": "markdown",
   "id": "98c5c018",
   "metadata": {
    "hidden": true
   },
   "source": [
    "### Salvataggio"
   ]
  },
  {
   "cell_type": "code",
   "execution_count": 92,
   "id": "c6108652",
   "metadata": {
    "ExecuteTime": {
     "end_time": "2022-04-21T14:30:20.550435Z",
     "start_time": "2022-04-21T14:30:20.392444Z"
    },
    "hidden": true
   },
   "outputs": [],
   "source": [
    "pokedex_json = json.dumps(list(pokedex_df.agg(lambda x: x.dropna().to_dict(), axis=1)), indent = 4)"
   ]
  },
  {
   "cell_type": "code",
   "execution_count": 133,
   "id": "596eafad",
   "metadata": {
    "ExecuteTime": {
     "end_time": "2022-04-21T16:00:55.470963Z",
     "start_time": "2022-04-21T16:00:55.465875Z"
    },
    "hidden": true
   },
   "outputs": [],
   "source": [
    "#print(pokedex_json)"
   ]
  },
  {
   "cell_type": "markdown",
   "id": "f0b8433b",
   "metadata": {
    "hidden": true
   },
   "source": [
    "Salvataggio"
   ]
  },
  {
   "cell_type": "code",
   "execution_count": 94,
   "id": "b5d35b6c",
   "metadata": {
    "ExecuteTime": {
     "end_time": "2022-04-21T14:30:40.967275Z",
     "start_time": "2022-04-21T14:30:40.948403Z"
    },
    "hidden": true
   },
   "outputs": [],
   "source": [
    "# JSON\n",
    "with open('./Scraping_datasets/pokemondb/pokedex.json', 'w', encoding='utf8') as outfile:\n",
    "    outfile.write(pokedex_json)\n",
    "# CSV\n",
    "pokedex_df.to_csv('./Scraping_datasets/pokemondb/pokedex.csv', na_rep=\"NA\")"
   ]
  },
  {
   "cell_type": "code",
   "execution_count": 25,
   "id": "a6669804",
   "metadata": {
    "ExecuteTime": {
     "end_time": "2022-04-10T21:30:48.527255Z",
     "start_time": "2022-04-10T21:30:48.485327Z"
    },
    "hidden": true
   },
   "outputs": [],
   "source": [
    "#pokedex_json = pokedex_df.to_json(orient='index', indent = 4)\n",
    "#print(pokedex_json)"
   ]
  },
  {
   "cell_type": "markdown",
   "id": "4a546368",
   "metadata": {
    "heading_collapsed": true,
    "hidden": true
   },
   "source": [
    "##  Items (Name, Category, Effect)"
   ]
  },
  {
   "cell_type": "code",
   "execution_count": 96,
   "id": "246a69c9",
   "metadata": {
    "ExecuteTime": {
     "end_time": "2022-04-21T15:37:39.717224Z",
     "start_time": "2022-04-21T15:37:39.706094Z"
    },
    "hidden": true
   },
   "outputs": [],
   "source": [
    "items_URL = \"https://pokemondb.net/item/all\""
   ]
  },
  {
   "cell_type": "code",
   "execution_count": 97,
   "id": "d9113290",
   "metadata": {
    "ExecuteTime": {
     "end_time": "2022-04-21T15:37:41.265282Z",
     "start_time": "2022-04-21T15:37:40.987899Z"
    },
    "hidden": true
   },
   "outputs": [],
   "source": [
    "items_page = requests.get(items_URL)"
   ]
  },
  {
   "cell_type": "code",
   "execution_count": 98,
   "id": "d8405649",
   "metadata": {
    "ExecuteTime": {
     "end_time": "2022-04-21T15:37:42.751373Z",
     "start_time": "2022-04-21T15:37:42.444182Z"
    },
    "hidden": true
   },
   "outputs": [],
   "source": [
    "items_soup = BeautifulSoup(items_page.content, parser = 'html.parser')"
   ]
  },
  {
   "cell_type": "code",
   "execution_count": 99,
   "id": "513661ee",
   "metadata": {
    "ExecuteTime": {
     "end_time": "2022-04-21T15:37:44.317325Z",
     "start_time": "2022-04-21T15:37:44.116376Z"
    },
    "hidden": true
   },
   "outputs": [],
   "source": [
    "items_df = pd.read_html(str(items_soup))[0]"
   ]
  },
  {
   "cell_type": "code",
   "execution_count": 100,
   "id": "2fe6e111",
   "metadata": {
    "ExecuteTime": {
     "end_time": "2022-04-21T15:37:45.738993Z",
     "start_time": "2022-04-21T15:37:45.724676Z"
    },
    "hidden": true
   },
   "outputs": [
    {
     "data": {
      "text/html": [
       "<div>\n",
       "<style scoped>\n",
       "    .dataframe tbody tr th:only-of-type {\n",
       "        vertical-align: middle;\n",
       "    }\n",
       "\n",
       "    .dataframe tbody tr th {\n",
       "        vertical-align: top;\n",
       "    }\n",
       "\n",
       "    .dataframe thead th {\n",
       "        text-align: right;\n",
       "    }\n",
       "</style>\n",
       "<table border=\"1\" class=\"dataframe\">\n",
       "  <thead>\n",
       "    <tr style=\"text-align: right;\">\n",
       "      <th></th>\n",
       "      <th>Name</th>\n",
       "      <th>Category</th>\n",
       "      <th>Effect</th>\n",
       "    </tr>\n",
       "  </thead>\n",
       "  <tbody>\n",
       "    <tr>\n",
       "      <th>0</th>\n",
       "      <td>Ability Capsule</td>\n",
       "      <td>Hold items</td>\n",
       "      <td>A capsule that allows a Pokémon with two Abili...</td>\n",
       "    </tr>\n",
       "    <tr>\n",
       "      <th>1</th>\n",
       "      <td>Ability Patch</td>\n",
       "      <td>General items</td>\n",
       "      <td>Changes a Pokémon's ability to its Hidden Abil...</td>\n",
       "    </tr>\n",
       "    <tr>\n",
       "      <th>2</th>\n",
       "      <td>Ability Urge</td>\n",
       "      <td>Battle items</td>\n",
       "      <td>When used, it activates the Ability of an ally...</td>\n",
       "    </tr>\n",
       "    <tr>\n",
       "      <th>3</th>\n",
       "      <td>Abomasite</td>\n",
       "      <td>Hold items</td>\n",
       "      <td>Enables Abomasnow to Mega Evolve during battle.</td>\n",
       "    </tr>\n",
       "    <tr>\n",
       "      <th>4</th>\n",
       "      <td>Absolite</td>\n",
       "      <td>Hold items</td>\n",
       "      <td>Enables Absol to Mega Evolve during battle.</td>\n",
       "    </tr>\n",
       "    <tr>\n",
       "      <th>...</th>\n",
       "      <td>...</td>\n",
       "      <td>...</td>\n",
       "      <td>...</td>\n",
       "    </tr>\n",
       "    <tr>\n",
       "      <th>955</th>\n",
       "      <td>Yellow Scarf</td>\n",
       "      <td>General items</td>\n",
       "      <td>Raises holder's Tough aspect in a Contest.</td>\n",
       "    </tr>\n",
       "    <tr>\n",
       "      <th>956</th>\n",
       "      <td>Yellow Shard</td>\n",
       "      <td>General items</td>\n",
       "      <td>A small yellow shard. It appears to be from so...</td>\n",
       "    </tr>\n",
       "    <tr>\n",
       "      <th>957</th>\n",
       "      <td>Zap Plate</td>\n",
       "      <td>Hold items</td>\n",
       "      <td>Increases power of Electric-type moves. Change...</td>\n",
       "    </tr>\n",
       "    <tr>\n",
       "      <th>958</th>\n",
       "      <td>Zinc</td>\n",
       "      <td>Medicine</td>\n",
       "      <td>Increases Special Defense EVs by 10.</td>\n",
       "    </tr>\n",
       "    <tr>\n",
       "      <th>959</th>\n",
       "      <td>Zoom Lens</td>\n",
       "      <td>Hold items</td>\n",
       "      <td>Raises a move's accuracy if the holder moves a...</td>\n",
       "    </tr>\n",
       "  </tbody>\n",
       "</table>\n",
       "<p>960 rows × 3 columns</p>\n",
       "</div>"
      ],
      "text/plain": [
       "                Name       Category  \\\n",
       "0    Ability Capsule     Hold items   \n",
       "1      Ability Patch  General items   \n",
       "2       Ability Urge   Battle items   \n",
       "3          Abomasite     Hold items   \n",
       "4           Absolite     Hold items   \n",
       "..               ...            ...   \n",
       "955     Yellow Scarf  General items   \n",
       "956     Yellow Shard  General items   \n",
       "957        Zap Plate     Hold items   \n",
       "958             Zinc       Medicine   \n",
       "959        Zoom Lens     Hold items   \n",
       "\n",
       "                                                Effect  \n",
       "0    A capsule that allows a Pokémon with two Abili...  \n",
       "1    Changes a Pokémon's ability to its Hidden Abil...  \n",
       "2    When used, it activates the Ability of an ally...  \n",
       "3      Enables Abomasnow to Mega Evolve during battle.  \n",
       "4          Enables Absol to Mega Evolve during battle.  \n",
       "..                                                 ...  \n",
       "955         Raises holder's Tough aspect in a Contest.  \n",
       "956  A small yellow shard. It appears to be from so...  \n",
       "957  Increases power of Electric-type moves. Change...  \n",
       "958               Increases Special Defense EVs by 10.  \n",
       "959  Raises a move's accuracy if the holder moves a...  \n",
       "\n",
       "[960 rows x 3 columns]"
      ]
     },
     "execution_count": 100,
     "metadata": {},
     "output_type": "execute_result"
    }
   ],
   "source": [
    "items_df"
   ]
  },
  {
   "cell_type": "markdown",
   "id": "d85809b8",
   "metadata": {
    "hidden": true
   },
   "source": [
    "### Sprites"
   ]
  },
  {
   "cell_type": "code",
   "execution_count": 122,
   "id": "ff7dbe62",
   "metadata": {
    "ExecuteTime": {
     "end_time": "2022-04-21T15:54:10.163243Z",
     "start_time": "2022-04-21T15:54:10.139331Z"
    },
    "hidden": true
   },
   "outputs": [],
   "source": [
    "items_sprites_span = items_soup.find('table',\n",
    "                              class_='data-table').find('tbody').find_all(\n",
    "                                  'span', class_='img-fixed icon-item-img')"
   ]
  },
  {
   "cell_type": "code",
   "execution_count": 124,
   "id": "ec97af73",
   "metadata": {
    "ExecuteTime": {
     "end_time": "2022-04-21T15:54:13.171804Z",
     "start_time": "2022-04-21T15:54:13.157173Z"
    },
    "hidden": true
   },
   "outputs": [],
   "source": [
    "items_sprites = []\n",
    "for item_sprite in items_sprites_span:\n",
    "    items_sprites.append(item_sprite['data-src'])"
   ]
  },
  {
   "cell_type": "markdown",
   "id": "bd795a10",
   "metadata": {
    "hidden": true
   },
   "source": [
    "Aggiungo la colonna"
   ]
  },
  {
   "cell_type": "code",
   "execution_count": 126,
   "id": "51d88f6c",
   "metadata": {
    "ExecuteTime": {
     "end_time": "2022-04-21T15:54:29.634325Z",
     "start_time": "2022-04-21T15:54:29.628066Z"
    },
    "hidden": true
   },
   "outputs": [],
   "source": [
    "items_df['sprite_url'] = items_sprites"
   ]
  },
  {
   "cell_type": "code",
   "execution_count": 127,
   "id": "d4966ab0",
   "metadata": {
    "ExecuteTime": {
     "end_time": "2022-04-21T15:54:34.671023Z",
     "start_time": "2022-04-21T15:54:34.651385Z"
    },
    "hidden": true
   },
   "outputs": [
    {
     "data": {
      "text/html": [
       "<div>\n",
       "<style scoped>\n",
       "    .dataframe tbody tr th:only-of-type {\n",
       "        vertical-align: middle;\n",
       "    }\n",
       "\n",
       "    .dataframe tbody tr th {\n",
       "        vertical-align: top;\n",
       "    }\n",
       "\n",
       "    .dataframe thead th {\n",
       "        text-align: right;\n",
       "    }\n",
       "</style>\n",
       "<table border=\"1\" class=\"dataframe\">\n",
       "  <thead>\n",
       "    <tr style=\"text-align: right;\">\n",
       "      <th></th>\n",
       "      <th>Name</th>\n",
       "      <th>Category</th>\n",
       "      <th>Effect</th>\n",
       "      <th>sprite_url</th>\n",
       "    </tr>\n",
       "  </thead>\n",
       "  <tbody>\n",
       "    <tr>\n",
       "      <th>0</th>\n",
       "      <td>Ability Capsule</td>\n",
       "      <td>Hold items</td>\n",
       "      <td>A capsule that allows a Pokémon with two Abili...</td>\n",
       "      <td>https://img.pokemondb.net/sprites/items/abilit...</td>\n",
       "    </tr>\n",
       "    <tr>\n",
       "      <th>1</th>\n",
       "      <td>Ability Patch</td>\n",
       "      <td>General items</td>\n",
       "      <td>Changes a Pokémon's ability to its Hidden Abil...</td>\n",
       "      <td>https://img.pokemondb.net/s.png</td>\n",
       "    </tr>\n",
       "    <tr>\n",
       "      <th>2</th>\n",
       "      <td>Ability Urge</td>\n",
       "      <td>Battle items</td>\n",
       "      <td>When used, it activates the Ability of an ally...</td>\n",
       "      <td>https://img.pokemondb.net/sprites/items/abilit...</td>\n",
       "    </tr>\n",
       "    <tr>\n",
       "      <th>3</th>\n",
       "      <td>Abomasite</td>\n",
       "      <td>Hold items</td>\n",
       "      <td>Enables Abomasnow to Mega Evolve during battle.</td>\n",
       "      <td>https://img.pokemondb.net/sprites/items/abomas...</td>\n",
       "    </tr>\n",
       "    <tr>\n",
       "      <th>4</th>\n",
       "      <td>Absolite</td>\n",
       "      <td>Hold items</td>\n",
       "      <td>Enables Absol to Mega Evolve during battle.</td>\n",
       "      <td>https://img.pokemondb.net/sprites/items/absoli...</td>\n",
       "    </tr>\n",
       "    <tr>\n",
       "      <th>...</th>\n",
       "      <td>...</td>\n",
       "      <td>...</td>\n",
       "      <td>...</td>\n",
       "      <td>...</td>\n",
       "    </tr>\n",
       "    <tr>\n",
       "      <th>955</th>\n",
       "      <td>Yellow Scarf</td>\n",
       "      <td>General items</td>\n",
       "      <td>Raises holder's Tough aspect in a Contest.</td>\n",
       "      <td>https://img.pokemondb.net/sprites/items/yellow...</td>\n",
       "    </tr>\n",
       "    <tr>\n",
       "      <th>956</th>\n",
       "      <td>Yellow Shard</td>\n",
       "      <td>General items</td>\n",
       "      <td>A small yellow shard. It appears to be from so...</td>\n",
       "      <td>https://img.pokemondb.net/sprites/items/yellow...</td>\n",
       "    </tr>\n",
       "    <tr>\n",
       "      <th>957</th>\n",
       "      <td>Zap Plate</td>\n",
       "      <td>Hold items</td>\n",
       "      <td>Increases power of Electric-type moves. Change...</td>\n",
       "      <td>https://img.pokemondb.net/sprites/items/zap-pl...</td>\n",
       "    </tr>\n",
       "    <tr>\n",
       "      <th>958</th>\n",
       "      <td>Zinc</td>\n",
       "      <td>Medicine</td>\n",
       "      <td>Increases Special Defense EVs by 10.</td>\n",
       "      <td>https://img.pokemondb.net/sprites/items/zinc.png</td>\n",
       "    </tr>\n",
       "    <tr>\n",
       "      <th>959</th>\n",
       "      <td>Zoom Lens</td>\n",
       "      <td>Hold items</td>\n",
       "      <td>Raises a move's accuracy if the holder moves a...</td>\n",
       "      <td>https://img.pokemondb.net/sprites/items/zoom-l...</td>\n",
       "    </tr>\n",
       "  </tbody>\n",
       "</table>\n",
       "<p>960 rows × 4 columns</p>\n",
       "</div>"
      ],
      "text/plain": [
       "                Name       Category  \\\n",
       "0    Ability Capsule     Hold items   \n",
       "1      Ability Patch  General items   \n",
       "2       Ability Urge   Battle items   \n",
       "3          Abomasite     Hold items   \n",
       "4           Absolite     Hold items   \n",
       "..               ...            ...   \n",
       "955     Yellow Scarf  General items   \n",
       "956     Yellow Shard  General items   \n",
       "957        Zap Plate     Hold items   \n",
       "958             Zinc       Medicine   \n",
       "959        Zoom Lens     Hold items   \n",
       "\n",
       "                                                Effect  \\\n",
       "0    A capsule that allows a Pokémon with two Abili...   \n",
       "1    Changes a Pokémon's ability to its Hidden Abil...   \n",
       "2    When used, it activates the Ability of an ally...   \n",
       "3      Enables Abomasnow to Mega Evolve during battle.   \n",
       "4          Enables Absol to Mega Evolve during battle.   \n",
       "..                                                 ...   \n",
       "955         Raises holder's Tough aspect in a Contest.   \n",
       "956  A small yellow shard. It appears to be from so...   \n",
       "957  Increases power of Electric-type moves. Change...   \n",
       "958               Increases Special Defense EVs by 10.   \n",
       "959  Raises a move's accuracy if the holder moves a...   \n",
       "\n",
       "                                            sprite_url  \n",
       "0    https://img.pokemondb.net/sprites/items/abilit...  \n",
       "1                      https://img.pokemondb.net/s.png  \n",
       "2    https://img.pokemondb.net/sprites/items/abilit...  \n",
       "3    https://img.pokemondb.net/sprites/items/abomas...  \n",
       "4    https://img.pokemondb.net/sprites/items/absoli...  \n",
       "..                                                 ...  \n",
       "955  https://img.pokemondb.net/sprites/items/yellow...  \n",
       "956  https://img.pokemondb.net/sprites/items/yellow...  \n",
       "957  https://img.pokemondb.net/sprites/items/zap-pl...  \n",
       "958   https://img.pokemondb.net/sprites/items/zinc.png  \n",
       "959  https://img.pokemondb.net/sprites/items/zoom-l...  \n",
       "\n",
       "[960 rows x 4 columns]"
      ]
     },
     "execution_count": 127,
     "metadata": {},
     "output_type": "execute_result"
    }
   ],
   "source": [
    "items_df"
   ]
  },
  {
   "cell_type": "markdown",
   "id": "59dfca65",
   "metadata": {
    "hidden": true
   },
   "source": [
    "### Salvataggio"
   ]
  },
  {
   "cell_type": "code",
   "execution_count": 129,
   "id": "57292b02",
   "metadata": {
    "ExecuteTime": {
     "end_time": "2022-04-21T15:57:47.906270Z",
     "start_time": "2022-04-21T15:57:47.809268Z"
    },
    "hidden": true
   },
   "outputs": [],
   "source": [
    "items_json = json.dumps(list(items_df.agg(lambda x: x.dropna().to_dict(), axis=1)), indent = 4, ensure_ascii=False)"
   ]
  },
  {
   "cell_type": "code",
   "execution_count": 130,
   "id": "00fa50bd",
   "metadata": {
    "ExecuteTime": {
     "end_time": "2022-04-21T15:57:49.604381Z",
     "start_time": "2022-04-21T15:57:49.590115Z"
    },
    "hidden": true
   },
   "outputs": [],
   "source": [
    "# JSON\n",
    "with open('./Scraping_datasets/pokemondb/items.json', 'w', encoding='utf8') as outfile:\n",
    "    outfile.write(items_json)\n",
    "# CSV\n",
    "items_df.to_csv('./Scraping_datasets/pokemondb/items.csv', na_rep=\"NA\")"
   ]
  },
  {
   "cell_type": "markdown",
   "id": "09a778e8",
   "metadata": {
    "heading_collapsed": true,
    "hidden": true
   },
   "source": [
    "## abilities (name, n_pokemon, description, Gen)"
   ]
  },
  {
   "cell_type": "code",
   "execution_count": 83,
   "id": "37bba4d0",
   "metadata": {
    "ExecuteTime": {
     "end_time": "2022-04-10T22:44:42.644231Z",
     "start_time": "2022-04-10T22:44:41.109529Z"
    },
    "hidden": true
   },
   "outputs": [],
   "source": [
    "abilities_URL = \"https://pokemondb.net/ability\"\n",
    "abilities_page = requests.get(abilities_URL)\n",
    "abilities_soup = BeautifulSoup(abilities_page.content, parser = 'html.parser')\n",
    "abilities_df = pd.read_html(str(abilities_soup))[0]\n",
    "abilities_json = json.dumps(list(abilities_df.agg(lambda x: x.dropna().to_dict(), axis=1)), indent = 4, ensure_ascii=False)\n",
    "# JSON\n",
    "with open('./Scraping_datasets/abilities.json', 'w', encoding='utf8') as outfile:\n",
    "    outfile.write(abilities_json)\n",
    "# CSV\n",
    "abilities_df.to_csv('./Scraping_datasets/abilities.csv', na_rep=\"NA\")"
   ]
  },
  {
   "cell_type": "code",
   "execution_count": 79,
   "id": "da00e621",
   "metadata": {
    "ExecuteTime": {
     "end_time": "2022-04-10T22:41:10.614834Z",
     "start_time": "2022-04-10T22:41:10.514222Z"
    },
    "hidden": true,
    "scrolled": true
   },
   "outputs": [
    {
     "data": {
      "text/html": [
       "<div>\n",
       "<style scoped>\n",
       "    .dataframe tbody tr th:only-of-type {\n",
       "        vertical-align: middle;\n",
       "    }\n",
       "\n",
       "    .dataframe tbody tr th {\n",
       "        vertical-align: top;\n",
       "    }\n",
       "\n",
       "    .dataframe thead th {\n",
       "        text-align: right;\n",
       "    }\n",
       "</style>\n",
       "<table border=\"1\" class=\"dataframe\">\n",
       "  <thead>\n",
       "    <tr style=\"text-align: right;\">\n",
       "      <th></th>\n",
       "      <th>Name</th>\n",
       "      <th>Pokémon</th>\n",
       "      <th>Description</th>\n",
       "      <th>Gen.</th>\n",
       "    </tr>\n",
       "  </thead>\n",
       "  <tbody>\n",
       "    <tr>\n",
       "      <th>0</th>\n",
       "      <td>Adaptability</td>\n",
       "      <td>16</td>\n",
       "      <td>Powers up moves of the same type.</td>\n",
       "      <td>4</td>\n",
       "    </tr>\n",
       "    <tr>\n",
       "      <th>1</th>\n",
       "      <td>Aerilate</td>\n",
       "      <td>2</td>\n",
       "      <td>Turns Normal-type moves into Flying-type moves.</td>\n",
       "      <td>6</td>\n",
       "    </tr>\n",
       "    <tr>\n",
       "      <th>2</th>\n",
       "      <td>Aftermath</td>\n",
       "      <td>10</td>\n",
       "      <td>Damages the attacker landing the finishing hit.</td>\n",
       "      <td>4</td>\n",
       "    </tr>\n",
       "    <tr>\n",
       "      <th>3</th>\n",
       "      <td>Air Lock</td>\n",
       "      <td>1</td>\n",
       "      <td>Eliminates the effects of weather.</td>\n",
       "      <td>3</td>\n",
       "    </tr>\n",
       "    <tr>\n",
       "      <th>4</th>\n",
       "      <td>Analytic</td>\n",
       "      <td>12</td>\n",
       "      <td>Boosts move power when the Pokémon moves last.</td>\n",
       "      <td>5</td>\n",
       "    </tr>\n",
       "    <tr>\n",
       "      <th>...</th>\n",
       "      <td>...</td>\n",
       "      <td>...</td>\n",
       "      <td>...</td>\n",
       "      <td>...</td>\n",
       "    </tr>\n",
       "    <tr>\n",
       "      <th>261</th>\n",
       "      <td>White Smoke</td>\n",
       "      <td>4</td>\n",
       "      <td>Prevents other Pokémon from lowering its stats.</td>\n",
       "      <td>3</td>\n",
       "    </tr>\n",
       "    <tr>\n",
       "      <th>262</th>\n",
       "      <td>Wimp Out</td>\n",
       "      <td>1</td>\n",
       "      <td>Switches out when HP drops below half.</td>\n",
       "      <td>7</td>\n",
       "    </tr>\n",
       "    <tr>\n",
       "      <th>263</th>\n",
       "      <td>Wonder Guard</td>\n",
       "      <td>1</td>\n",
       "      <td>Only supereffective moves will hit.</td>\n",
       "      <td>3</td>\n",
       "    </tr>\n",
       "    <tr>\n",
       "      <th>264</th>\n",
       "      <td>Wonder Skin</td>\n",
       "      <td>5</td>\n",
       "      <td>Makes status-changing moves more likely to miss.</td>\n",
       "      <td>5</td>\n",
       "    </tr>\n",
       "    <tr>\n",
       "      <th>265</th>\n",
       "      <td>Zen Mode</td>\n",
       "      <td>4</td>\n",
       "      <td>Changes form when HP drops below half.</td>\n",
       "      <td>5</td>\n",
       "    </tr>\n",
       "  </tbody>\n",
       "</table>\n",
       "<p>266 rows × 4 columns</p>\n",
       "</div>"
      ],
      "text/plain": [
       "             Name  Pokémon                                       Description  \\\n",
       "0    Adaptability       16                 Powers up moves of the same type.   \n",
       "1        Aerilate        2   Turns Normal-type moves into Flying-type moves.   \n",
       "2       Aftermath       10   Damages the attacker landing the finishing hit.   \n",
       "3        Air Lock        1                Eliminates the effects of weather.   \n",
       "4        Analytic       12    Boosts move power when the Pokémon moves last.   \n",
       "..            ...      ...                                               ...   \n",
       "261   White Smoke        4   Prevents other Pokémon from lowering its stats.   \n",
       "262      Wimp Out        1            Switches out when HP drops below half.   \n",
       "263  Wonder Guard        1               Only supereffective moves will hit.   \n",
       "264   Wonder Skin        5  Makes status-changing moves more likely to miss.   \n",
       "265      Zen Mode        4            Changes form when HP drops below half.   \n",
       "\n",
       "     Gen.  \n",
       "0       4  \n",
       "1       6  \n",
       "2       4  \n",
       "3       3  \n",
       "4       5  \n",
       "..    ...  \n",
       "261     3  \n",
       "262     7  \n",
       "263     3  \n",
       "264     5  \n",
       "265     5  \n",
       "\n",
       "[266 rows x 4 columns]"
      ]
     },
     "execution_count": 79,
     "metadata": {},
     "output_type": "execute_result"
    }
   ],
   "source": [
    "abilities_df"
   ]
  },
  {
   "cell_type": "code",
   "execution_count": 132,
   "id": "0773e426",
   "metadata": {
    "ExecuteTime": {
     "end_time": "2022-04-21T16:00:39.409254Z",
     "start_time": "2022-04-21T16:00:39.397631Z"
    },
    "hidden": true
   },
   "outputs": [],
   "source": [
    "#print(abilities_json)"
   ]
  },
  {
   "cell_type": "markdown",
   "id": "47266be4",
   "metadata": {
    "heading_collapsed": true,
    "hidden": true
   },
   "source": [
    "## Pokémon EVs (Name,HP,Attack,Defense,Sp. Atk,Sp. Def,Speed)"
   ]
  },
  {
   "cell_type": "code",
   "execution_count": 84,
   "id": "c6fbfa52",
   "metadata": {
    "ExecuteTime": {
     "end_time": "2022-04-10T22:45:13.229035Z",
     "start_time": "2022-04-10T22:44:47.559175Z"
    },
    "hidden": true
   },
   "outputs": [],
   "source": [
    "EV_URL = \"https://pokemondb.net/ev/all\"\n",
    "EV_page = requests.get(EV_URL)\n",
    "EV_soup = BeautifulSoup(EV_page.content, parser = 'html.parser')\n",
    "EV_df = pd.read_html(str(EV_soup))[0]\n",
    "EV_json = json.dumps(list(EV_df.agg(lambda x: x.dropna().to_dict(), axis=1)), indent = 4, ensure_ascii=False)\n",
    "# JSON\n",
    "with open('./Scraping_datasets/EV.json', 'w', encoding='utf8') as outfile:\n",
    "    outfile.write(EV_json)\n",
    "# CSV\n",
    "EV_df.to_csv('./Scraping_datasets/EV.csv', na_rep=\"NA\")"
   ]
  },
  {
   "cell_type": "code",
   "execution_count": 85,
   "id": "e256ee88",
   "metadata": {
    "ExecuteTime": {
     "end_time": "2022-04-10T22:45:13.308035Z",
     "start_time": "2022-04-10T22:45:13.233042Z"
    },
    "hidden": true
   },
   "outputs": [
    {
     "data": {
      "text/html": [
       "<div>\n",
       "<style scoped>\n",
       "    .dataframe tbody tr th:only-of-type {\n",
       "        vertical-align: middle;\n",
       "    }\n",
       "\n",
       "    .dataframe tbody tr th {\n",
       "        vertical-align: top;\n",
       "    }\n",
       "\n",
       "    .dataframe thead th {\n",
       "        text-align: right;\n",
       "    }\n",
       "</style>\n",
       "<table border=\"1\" class=\"dataframe\">\n",
       "  <thead>\n",
       "    <tr style=\"text-align: right;\">\n",
       "      <th></th>\n",
       "      <th>#</th>\n",
       "      <th>Name</th>\n",
       "      <th>HP</th>\n",
       "      <th>Attack</th>\n",
       "      <th>Defense</th>\n",
       "      <th>Sp. Atk</th>\n",
       "      <th>Sp. Def</th>\n",
       "      <th>Speed</th>\n",
       "    </tr>\n",
       "  </thead>\n",
       "  <tbody>\n",
       "    <tr>\n",
       "      <th>0</th>\n",
       "      <td>1</td>\n",
       "      <td>Bulbasaur</td>\n",
       "      <td>NaN</td>\n",
       "      <td>NaN</td>\n",
       "      <td>NaN</td>\n",
       "      <td>1.0</td>\n",
       "      <td>NaN</td>\n",
       "      <td>NaN</td>\n",
       "    </tr>\n",
       "    <tr>\n",
       "      <th>1</th>\n",
       "      <td>2</td>\n",
       "      <td>Ivysaur</td>\n",
       "      <td>NaN</td>\n",
       "      <td>NaN</td>\n",
       "      <td>NaN</td>\n",
       "      <td>1.0</td>\n",
       "      <td>1.0</td>\n",
       "      <td>NaN</td>\n",
       "    </tr>\n",
       "    <tr>\n",
       "      <th>2</th>\n",
       "      <td>3</td>\n",
       "      <td>Venusaur</td>\n",
       "      <td>NaN</td>\n",
       "      <td>NaN</td>\n",
       "      <td>NaN</td>\n",
       "      <td>2.0</td>\n",
       "      <td>1.0</td>\n",
       "      <td>NaN</td>\n",
       "    </tr>\n",
       "    <tr>\n",
       "      <th>3</th>\n",
       "      <td>3</td>\n",
       "      <td>Venusaur Mega Venusaur</td>\n",
       "      <td>NaN</td>\n",
       "      <td>NaN</td>\n",
       "      <td>NaN</td>\n",
       "      <td>2.0</td>\n",
       "      <td>1.0</td>\n",
       "      <td>NaN</td>\n",
       "    </tr>\n",
       "    <tr>\n",
       "      <th>4</th>\n",
       "      <td>4</td>\n",
       "      <td>Charmander</td>\n",
       "      <td>NaN</td>\n",
       "      <td>NaN</td>\n",
       "      <td>NaN</td>\n",
       "      <td>NaN</td>\n",
       "      <td>NaN</td>\n",
       "      <td>1.0</td>\n",
       "    </tr>\n",
       "    <tr>\n",
       "      <th>...</th>\n",
       "      <td>...</td>\n",
       "      <td>...</td>\n",
       "      <td>...</td>\n",
       "      <td>...</td>\n",
       "      <td>...</td>\n",
       "      <td>...</td>\n",
       "      <td>...</td>\n",
       "      <td>...</td>\n",
       "    </tr>\n",
       "    <tr>\n",
       "      <th>1071</th>\n",
       "      <td>903</td>\n",
       "      <td>Sneasler</td>\n",
       "      <td>NaN</td>\n",
       "      <td>NaN</td>\n",
       "      <td>NaN</td>\n",
       "      <td>NaN</td>\n",
       "      <td>NaN</td>\n",
       "      <td>NaN</td>\n",
       "    </tr>\n",
       "    <tr>\n",
       "      <th>1072</th>\n",
       "      <td>904</td>\n",
       "      <td>Overqwil</td>\n",
       "      <td>NaN</td>\n",
       "      <td>NaN</td>\n",
       "      <td>NaN</td>\n",
       "      <td>NaN</td>\n",
       "      <td>NaN</td>\n",
       "      <td>NaN</td>\n",
       "    </tr>\n",
       "    <tr>\n",
       "      <th>1073</th>\n",
       "      <td>905</td>\n",
       "      <td>Enamorus Incarnate Forme</td>\n",
       "      <td>NaN</td>\n",
       "      <td>NaN</td>\n",
       "      <td>NaN</td>\n",
       "      <td>NaN</td>\n",
       "      <td>NaN</td>\n",
       "      <td>NaN</td>\n",
       "    </tr>\n",
       "    <tr>\n",
       "      <th>1074</th>\n",
       "      <td>905</td>\n",
       "      <td>Enamorus Therian Forme</td>\n",
       "      <td>NaN</td>\n",
       "      <td>NaN</td>\n",
       "      <td>NaN</td>\n",
       "      <td>NaN</td>\n",
       "      <td>NaN</td>\n",
       "      <td>NaN</td>\n",
       "    </tr>\n",
       "    <tr>\n",
       "      <th>1075</th>\n",
       "      <td>906</td>\n",
       "      <td>Sprigatito</td>\n",
       "      <td>NaN</td>\n",
       "      <td>NaN</td>\n",
       "      <td>NaN</td>\n",
       "      <td>NaN</td>\n",
       "      <td>NaN</td>\n",
       "      <td>NaN</td>\n",
       "    </tr>\n",
       "  </tbody>\n",
       "</table>\n",
       "<p>1076 rows × 8 columns</p>\n",
       "</div>"
      ],
      "text/plain": [
       "        #                      Name  HP  Attack  Defense  Sp. Atk  Sp. Def  \\\n",
       "0       1                 Bulbasaur NaN     NaN      NaN      1.0      NaN   \n",
       "1       2                   Ivysaur NaN     NaN      NaN      1.0      1.0   \n",
       "2       3                  Venusaur NaN     NaN      NaN      2.0      1.0   \n",
       "3       3    Venusaur Mega Venusaur NaN     NaN      NaN      2.0      1.0   \n",
       "4       4                Charmander NaN     NaN      NaN      NaN      NaN   \n",
       "...   ...                       ...  ..     ...      ...      ...      ...   \n",
       "1071  903                  Sneasler NaN     NaN      NaN      NaN      NaN   \n",
       "1072  904                  Overqwil NaN     NaN      NaN      NaN      NaN   \n",
       "1073  905  Enamorus Incarnate Forme NaN     NaN      NaN      NaN      NaN   \n",
       "1074  905    Enamorus Therian Forme NaN     NaN      NaN      NaN      NaN   \n",
       "1075  906                Sprigatito NaN     NaN      NaN      NaN      NaN   \n",
       "\n",
       "      Speed  \n",
       "0       NaN  \n",
       "1       NaN  \n",
       "2       NaN  \n",
       "3       NaN  \n",
       "4       1.0  \n",
       "...     ...  \n",
       "1071    NaN  \n",
       "1072    NaN  \n",
       "1073    NaN  \n",
       "1074    NaN  \n",
       "1075    NaN  \n",
       "\n",
       "[1076 rows x 8 columns]"
      ]
     },
     "execution_count": 85,
     "metadata": {},
     "output_type": "execute_result"
    }
   ],
   "source": [
    "EV_df"
   ]
  },
  {
   "cell_type": "code",
   "execution_count": 131,
   "id": "92bae31e",
   "metadata": {
    "ExecuteTime": {
     "end_time": "2022-04-21T16:00:32.510094Z",
     "start_time": "2022-04-21T16:00:32.501498Z"
    },
    "hidden": true
   },
   "outputs": [],
   "source": [
    "#print(EV_json)"
   ]
  },
  {
   "cell_type": "markdown",
   "id": "d6b5a074",
   "metadata": {
    "heading_collapsed": true,
    "hidden": true
   },
   "source": [
    "## Moves"
   ]
  },
  {
   "cell_type": "markdown",
   "id": "8679438e",
   "metadata": {
    "hidden": true
   },
   "source": [
    "Name\n",
    "Type\n",
    "Cat.\n",
    "Power\n",
    "Acc.\n",
    "PP\n",
    "TM\n",
    "Effect\n",
    "Prob. (%))"
   ]
  },
  {
   "cell_type": "code",
   "execution_count": 87,
   "id": "ca833aa4",
   "metadata": {
    "ExecuteTime": {
     "end_time": "2022-04-10T22:56:13.912893Z",
     "start_time": "2022-04-10T22:55:51.036579Z"
    },
    "hidden": true
   },
   "outputs": [],
   "source": [
    "move_URL = \"https://pokemondb.net/move/all\"\n",
    "move_page = requests.get(move_URL)\n",
    "move_soup = BeautifulSoup(move_page.content, parser = 'html.parser')\n",
    "move_df = pd.read_html(str(move_soup))[0]\n",
    "move_json = json.dumps(list(move_df.agg(lambda x: x.dropna().to_dict(), axis=1)), indent = 4, ensure_ascii=False)\n",
    "# JSON\n",
    "with open('./Scraping_datasets/moves.json', 'w', encoding='utf8') as outfile:\n",
    "    outfile.write(move_json)\n",
    "# CSV\n",
    "move_df.to_csv('./Scraping_datasets/moves.csv', na_rep=\"NA\")"
   ]
  },
  {
   "cell_type": "code",
   "execution_count": 88,
   "id": "061000b7",
   "metadata": {
    "ExecuteTime": {
     "end_time": "2022-04-10T22:56:13.995411Z",
     "start_time": "2022-04-10T22:56:13.923891Z"
    },
    "hidden": true
   },
   "outputs": [
    {
     "data": {
      "text/html": [
       "<div>\n",
       "<style scoped>\n",
       "    .dataframe tbody tr th:only-of-type {\n",
       "        vertical-align: middle;\n",
       "    }\n",
       "\n",
       "    .dataframe tbody tr th {\n",
       "        vertical-align: top;\n",
       "    }\n",
       "\n",
       "    .dataframe thead th {\n",
       "        text-align: right;\n",
       "    }\n",
       "</style>\n",
       "<table border=\"1\" class=\"dataframe\">\n",
       "  <thead>\n",
       "    <tr style=\"text-align: right;\">\n",
       "      <th></th>\n",
       "      <th>Name</th>\n",
       "      <th>Type</th>\n",
       "      <th>Cat.</th>\n",
       "      <th>Power</th>\n",
       "      <th>Acc.</th>\n",
       "      <th>PP</th>\n",
       "      <th>TM</th>\n",
       "      <th>Effect</th>\n",
       "      <th>Prob. (%)</th>\n",
       "    </tr>\n",
       "  </thead>\n",
       "  <tbody>\n",
       "    <tr>\n",
       "      <th>0</th>\n",
       "      <td>10,000,000 Volt Thunderbolt</td>\n",
       "      <td>Electric</td>\n",
       "      <td>NaN</td>\n",
       "      <td>195</td>\n",
       "      <td>—</td>\n",
       "      <td>1</td>\n",
       "      <td>NaN</td>\n",
       "      <td>Pikachu-exclusive Z-Move. High critical hit ra...</td>\n",
       "      <td>—</td>\n",
       "    </tr>\n",
       "    <tr>\n",
       "      <th>1</th>\n",
       "      <td>Absorb</td>\n",
       "      <td>Grass</td>\n",
       "      <td>NaN</td>\n",
       "      <td>20</td>\n",
       "      <td>100</td>\n",
       "      <td>25</td>\n",
       "      <td>NaN</td>\n",
       "      <td>User recovers half the HP inflicted on opponent.</td>\n",
       "      <td>—</td>\n",
       "    </tr>\n",
       "    <tr>\n",
       "      <th>2</th>\n",
       "      <td>Accelerock</td>\n",
       "      <td>Rock</td>\n",
       "      <td>NaN</td>\n",
       "      <td>40</td>\n",
       "      <td>100</td>\n",
       "      <td>20</td>\n",
       "      <td>NaN</td>\n",
       "      <td>User attacks first.</td>\n",
       "      <td>—</td>\n",
       "    </tr>\n",
       "    <tr>\n",
       "      <th>3</th>\n",
       "      <td>Acid</td>\n",
       "      <td>Poison</td>\n",
       "      <td>NaN</td>\n",
       "      <td>40</td>\n",
       "      <td>100</td>\n",
       "      <td>30</td>\n",
       "      <td>NaN</td>\n",
       "      <td>May lower opponent's Special Defense.</td>\n",
       "      <td>10</td>\n",
       "    </tr>\n",
       "    <tr>\n",
       "      <th>4</th>\n",
       "      <td>Acid Armor</td>\n",
       "      <td>Poison</td>\n",
       "      <td>NaN</td>\n",
       "      <td>—</td>\n",
       "      <td>—</td>\n",
       "      <td>20</td>\n",
       "      <td>NaN</td>\n",
       "      <td>Sharply raises user's Defense.</td>\n",
       "      <td>—</td>\n",
       "    </tr>\n",
       "    <tr>\n",
       "      <th>...</th>\n",
       "      <td>...</td>\n",
       "      <td>...</td>\n",
       "      <td>...</td>\n",
       "      <td>...</td>\n",
       "      <td>...</td>\n",
       "      <td>...</td>\n",
       "      <td>...</td>\n",
       "      <td>...</td>\n",
       "      <td>...</td>\n",
       "    </tr>\n",
       "    <tr>\n",
       "      <th>860</th>\n",
       "      <td>Yawn</td>\n",
       "      <td>Normal</td>\n",
       "      <td>NaN</td>\n",
       "      <td>—</td>\n",
       "      <td>—</td>\n",
       "      <td>10</td>\n",
       "      <td>NaN</td>\n",
       "      <td>Puts opponent to sleep in the next turn.</td>\n",
       "      <td>—</td>\n",
       "    </tr>\n",
       "    <tr>\n",
       "      <th>861</th>\n",
       "      <td>Zap Cannon</td>\n",
       "      <td>Electric</td>\n",
       "      <td>NaN</td>\n",
       "      <td>120</td>\n",
       "      <td>50</td>\n",
       "      <td>5</td>\n",
       "      <td>NaN</td>\n",
       "      <td>Paralyzes opponent.</td>\n",
       "      <td>100</td>\n",
       "    </tr>\n",
       "    <tr>\n",
       "      <th>862</th>\n",
       "      <td>Zen Headbutt</td>\n",
       "      <td>Psychic</td>\n",
       "      <td>NaN</td>\n",
       "      <td>80</td>\n",
       "      <td>90</td>\n",
       "      <td>15</td>\n",
       "      <td>NaN</td>\n",
       "      <td>May cause flinching.</td>\n",
       "      <td>20</td>\n",
       "    </tr>\n",
       "    <tr>\n",
       "      <th>863</th>\n",
       "      <td>Zing Zap</td>\n",
       "      <td>Electric</td>\n",
       "      <td>NaN</td>\n",
       "      <td>80</td>\n",
       "      <td>100</td>\n",
       "      <td>10</td>\n",
       "      <td>NaN</td>\n",
       "      <td>May cause flinching.</td>\n",
       "      <td>30</td>\n",
       "    </tr>\n",
       "    <tr>\n",
       "      <th>864</th>\n",
       "      <td>Zippy Zap</td>\n",
       "      <td>Electric</td>\n",
       "      <td>NaN</td>\n",
       "      <td>50</td>\n",
       "      <td>100</td>\n",
       "      <td>15</td>\n",
       "      <td>NaN</td>\n",
       "      <td>Always results in a critical hit.</td>\n",
       "      <td>100</td>\n",
       "    </tr>\n",
       "  </tbody>\n",
       "</table>\n",
       "<p>865 rows × 9 columns</p>\n",
       "</div>"
      ],
      "text/plain": [
       "                            Name      Type Cat. Power Acc.  PP  TM  \\\n",
       "0    10,000,000 Volt Thunderbolt  Electric  NaN   195    —   1 NaN   \n",
       "1                         Absorb     Grass  NaN    20  100  25 NaN   \n",
       "2                     Accelerock      Rock  NaN    40  100  20 NaN   \n",
       "3                           Acid    Poison  NaN    40  100  30 NaN   \n",
       "4                     Acid Armor    Poison  NaN     —    —  20 NaN   \n",
       "..                           ...       ...  ...   ...  ...  ..  ..   \n",
       "860                         Yawn    Normal  NaN     —    —  10 NaN   \n",
       "861                   Zap Cannon  Electric  NaN   120   50   5 NaN   \n",
       "862                 Zen Headbutt   Psychic  NaN    80   90  15 NaN   \n",
       "863                     Zing Zap  Electric  NaN    80  100  10 NaN   \n",
       "864                    Zippy Zap  Electric  NaN    50  100  15 NaN   \n",
       "\n",
       "                                                Effect Prob. (%)  \n",
       "0    Pikachu-exclusive Z-Move. High critical hit ra...         —  \n",
       "1     User recovers half the HP inflicted on opponent.         —  \n",
       "2                                  User attacks first.         —  \n",
       "3                May lower opponent's Special Defense.        10  \n",
       "4                       Sharply raises user's Defense.         —  \n",
       "..                                                 ...       ...  \n",
       "860           Puts opponent to sleep in the next turn.         —  \n",
       "861                                Paralyzes opponent.       100  \n",
       "862                               May cause flinching.        20  \n",
       "863                               May cause flinching.        30  \n",
       "864                  Always results in a critical hit.       100  \n",
       "\n",
       "[865 rows x 9 columns]"
      ]
     },
     "execution_count": 88,
     "metadata": {},
     "output_type": "execute_result"
    }
   ],
   "source": [
    "move_df"
   ]
  },
  {
   "cell_type": "code",
   "execution_count": 134,
   "id": "9d2cd6a2",
   "metadata": {
    "ExecuteTime": {
     "end_time": "2022-04-21T16:01:07.464620Z",
     "start_time": "2022-04-21T16:01:07.455975Z"
    },
    "hidden": true
   },
   "outputs": [],
   "source": [
    "#print(move_json)"
   ]
  },
  {
   "cell_type": "markdown",
   "id": "4f2ba2ed",
   "metadata": {
    "heading_collapsed": true,
    "hidden": true
   },
   "source": [
    "## Natures and berries (nature_name, Increases, Decreases, Berrie_like, berrie_dislike)"
   ]
  },
  {
   "cell_type": "code",
   "execution_count": 100,
   "id": "f553b4ad",
   "metadata": {
    "ExecuteTime": {
     "end_time": "2022-04-10T23:13:35.683795Z",
     "start_time": "2022-04-10T23:13:35.335150Z"
    },
    "hidden": true
   },
   "outputs": [
    {
     "data": {
      "text/html": [
       "<div>\n",
       "<style scoped>\n",
       "    .dataframe tbody tr th:only-of-type {\n",
       "        vertical-align: middle;\n",
       "    }\n",
       "\n",
       "    .dataframe tbody tr th {\n",
       "        vertical-align: top;\n",
       "    }\n",
       "\n",
       "    .dataframe thead th {\n",
       "        text-align: right;\n",
       "    }\n",
       "</style>\n",
       "<table border=\"1\" class=\"dataframe\">\n",
       "  <thead>\n",
       "    <tr style=\"text-align: right;\">\n",
       "      <th></th>\n",
       "      <th>Nature</th>\n",
       "      <th>Increases</th>\n",
       "      <th>Decreases</th>\n",
       "    </tr>\n",
       "  </thead>\n",
       "  <tbody>\n",
       "    <tr>\n",
       "      <th>0</th>\n",
       "      <td>Adamant</td>\n",
       "      <td>Attack</td>\n",
       "      <td>Sp. Atk</td>\n",
       "    </tr>\n",
       "    <tr>\n",
       "      <th>1</th>\n",
       "      <td>Bashful</td>\n",
       "      <td>Sp. Atk</td>\n",
       "      <td>Sp. Atk</td>\n",
       "    </tr>\n",
       "    <tr>\n",
       "      <th>2</th>\n",
       "      <td>Bold</td>\n",
       "      <td>Defense</td>\n",
       "      <td>Attack</td>\n",
       "    </tr>\n",
       "    <tr>\n",
       "      <th>3</th>\n",
       "      <td>Brave</td>\n",
       "      <td>Attack</td>\n",
       "      <td>Speed</td>\n",
       "    </tr>\n",
       "    <tr>\n",
       "      <th>4</th>\n",
       "      <td>Calm</td>\n",
       "      <td>Sp. Def</td>\n",
       "      <td>Attack</td>\n",
       "    </tr>\n",
       "    <tr>\n",
       "      <th>5</th>\n",
       "      <td>Careful</td>\n",
       "      <td>Sp. Def</td>\n",
       "      <td>Sp. Atk</td>\n",
       "    </tr>\n",
       "    <tr>\n",
       "      <th>6</th>\n",
       "      <td>Docile</td>\n",
       "      <td>Defense</td>\n",
       "      <td>Defense</td>\n",
       "    </tr>\n",
       "    <tr>\n",
       "      <th>7</th>\n",
       "      <td>Gentle</td>\n",
       "      <td>Sp. Def</td>\n",
       "      <td>Defense</td>\n",
       "    </tr>\n",
       "    <tr>\n",
       "      <th>8</th>\n",
       "      <td>Hardy</td>\n",
       "      <td>Attack</td>\n",
       "      <td>Attack</td>\n",
       "    </tr>\n",
       "    <tr>\n",
       "      <th>9</th>\n",
       "      <td>Hasty</td>\n",
       "      <td>Speed</td>\n",
       "      <td>Defense</td>\n",
       "    </tr>\n",
       "    <tr>\n",
       "      <th>10</th>\n",
       "      <td>Impish</td>\n",
       "      <td>Defense</td>\n",
       "      <td>Sp. Atk</td>\n",
       "    </tr>\n",
       "    <tr>\n",
       "      <th>11</th>\n",
       "      <td>Jolly</td>\n",
       "      <td>Speed</td>\n",
       "      <td>Sp. Atk</td>\n",
       "    </tr>\n",
       "    <tr>\n",
       "      <th>12</th>\n",
       "      <td>Lax</td>\n",
       "      <td>Defense</td>\n",
       "      <td>Sp. Def</td>\n",
       "    </tr>\n",
       "    <tr>\n",
       "      <th>13</th>\n",
       "      <td>Lonely</td>\n",
       "      <td>Attack</td>\n",
       "      <td>Defense</td>\n",
       "    </tr>\n",
       "    <tr>\n",
       "      <th>14</th>\n",
       "      <td>Mild</td>\n",
       "      <td>Sp. Atk</td>\n",
       "      <td>Defense</td>\n",
       "    </tr>\n",
       "    <tr>\n",
       "      <th>15</th>\n",
       "      <td>Modest</td>\n",
       "      <td>Sp. Atk</td>\n",
       "      <td>Attack</td>\n",
       "    </tr>\n",
       "    <tr>\n",
       "      <th>16</th>\n",
       "      <td>Naive</td>\n",
       "      <td>Speed</td>\n",
       "      <td>Sp. Def</td>\n",
       "    </tr>\n",
       "    <tr>\n",
       "      <th>17</th>\n",
       "      <td>Naughty</td>\n",
       "      <td>Attack</td>\n",
       "      <td>Sp. Def</td>\n",
       "    </tr>\n",
       "    <tr>\n",
       "      <th>18</th>\n",
       "      <td>Quiet</td>\n",
       "      <td>Sp. Atk</td>\n",
       "      <td>Speed</td>\n",
       "    </tr>\n",
       "    <tr>\n",
       "      <th>19</th>\n",
       "      <td>Quirky</td>\n",
       "      <td>Sp. Def</td>\n",
       "      <td>Sp. Def</td>\n",
       "    </tr>\n",
       "    <tr>\n",
       "      <th>20</th>\n",
       "      <td>Rash</td>\n",
       "      <td>Sp. Atk</td>\n",
       "      <td>Sp. Def</td>\n",
       "    </tr>\n",
       "    <tr>\n",
       "      <th>21</th>\n",
       "      <td>Relaxed</td>\n",
       "      <td>Defense</td>\n",
       "      <td>Speed</td>\n",
       "    </tr>\n",
       "    <tr>\n",
       "      <th>22</th>\n",
       "      <td>Sassy</td>\n",
       "      <td>Sp. Def</td>\n",
       "      <td>Speed</td>\n",
       "    </tr>\n",
       "    <tr>\n",
       "      <th>23</th>\n",
       "      <td>Serious</td>\n",
       "      <td>Speed</td>\n",
       "      <td>Speed</td>\n",
       "    </tr>\n",
       "    <tr>\n",
       "      <th>24</th>\n",
       "      <td>Timid</td>\n",
       "      <td>Speed</td>\n",
       "      <td>Attack</td>\n",
       "    </tr>\n",
       "  </tbody>\n",
       "</table>\n",
       "</div>"
      ],
      "text/plain": [
       "     Nature Increases Decreases\n",
       "0   Adamant    Attack   Sp. Atk\n",
       "1   Bashful   Sp. Atk   Sp. Atk\n",
       "2      Bold   Defense    Attack\n",
       "3     Brave    Attack     Speed\n",
       "4      Calm   Sp. Def    Attack\n",
       "5   Careful   Sp. Def   Sp. Atk\n",
       "6    Docile   Defense   Defense\n",
       "7    Gentle   Sp. Def   Defense\n",
       "8     Hardy    Attack    Attack\n",
       "9     Hasty     Speed   Defense\n",
       "10   Impish   Defense   Sp. Atk\n",
       "11    Jolly     Speed   Sp. Atk\n",
       "12      Lax   Defense   Sp. Def\n",
       "13   Lonely    Attack   Defense\n",
       "14     Mild   Sp. Atk   Defense\n",
       "15   Modest   Sp. Atk    Attack\n",
       "16    Naive     Speed   Sp. Def\n",
       "17  Naughty    Attack   Sp. Def\n",
       "18    Quiet   Sp. Atk     Speed\n",
       "19   Quirky   Sp. Def   Sp. Def\n",
       "20     Rash   Sp. Atk   Sp. Def\n",
       "21  Relaxed   Defense     Speed\n",
       "22    Sassy   Sp. Def     Speed\n",
       "23  Serious     Speed     Speed\n",
       "24    Timid     Speed    Attack"
      ]
     },
     "execution_count": 100,
     "metadata": {},
     "output_type": "execute_result"
    }
   ],
   "source": [
    "natures_URL = \"https://pokemondb.net/mechanics/natures\"\n",
    "natures_page = requests.get(natures_URL)\n",
    "natures_soup = BeautifulSoup(natures_page.content, parser = 'html.parser')\n",
    "natures_df = pd.read_html(str(natures_soup))[1]\n",
    "natures_df"
   ]
  },
  {
   "cell_type": "markdown",
   "id": "56ff40d6",
   "metadata": {
    "hidden": true
   },
   "source": [
    "In base alla natura si hanno bacche che il pokemon apprezza disprezzza"
   ]
  },
  {
   "cell_type": "code",
   "execution_count": 101,
   "id": "88f6e1d4",
   "metadata": {
    "ExecuteTime": {
     "end_time": "2022-04-10T23:13:38.379778Z",
     "start_time": "2022-04-10T23:13:38.361777Z"
    },
    "hidden": true
   },
   "outputs": [],
   "source": [
    "def berries_taste(x):\n",
    "    if x == 'Attack':\n",
    "        val = 'Spicy'\n",
    "    elif x == 'Defense':\n",
    "        val = 'Sour'\n",
    "    elif x == 'Speed':\n",
    "        val = 'Sweet'\n",
    "    elif x == 'Sp. Atk':\n",
    "        val = 'Dry'\n",
    "    elif x == 'Sp. Def': \n",
    "        val = 'Bitter'\n",
    "    return val"
   ]
  },
  {
   "cell_type": "code",
   "execution_count": 102,
   "id": "64100d28",
   "metadata": {
    "ExecuteTime": {
     "end_time": "2022-04-10T23:14:20.018344Z",
     "start_time": "2022-04-10T23:14:19.965989Z"
    },
    "hidden": true
   },
   "outputs": [],
   "source": [
    "natures_df['Likes_berrie'] = natures_df['Increases'].apply(berries_taste)\n",
    "natures_df['Dislikes_berrie'] = natures_df['Decreases'].apply(berries_taste)"
   ]
  },
  {
   "cell_type": "code",
   "execution_count": 103,
   "id": "eae52d25",
   "metadata": {
    "ExecuteTime": {
     "end_time": "2022-04-10T23:14:23.858076Z",
     "start_time": "2022-04-10T23:14:23.794847Z"
    },
    "hidden": true
   },
   "outputs": [
    {
     "data": {
      "text/html": [
       "<div>\n",
       "<style scoped>\n",
       "    .dataframe tbody tr th:only-of-type {\n",
       "        vertical-align: middle;\n",
       "    }\n",
       "\n",
       "    .dataframe tbody tr th {\n",
       "        vertical-align: top;\n",
       "    }\n",
       "\n",
       "    .dataframe thead th {\n",
       "        text-align: right;\n",
       "    }\n",
       "</style>\n",
       "<table border=\"1\" class=\"dataframe\">\n",
       "  <thead>\n",
       "    <tr style=\"text-align: right;\">\n",
       "      <th></th>\n",
       "      <th>Nature</th>\n",
       "      <th>Increases</th>\n",
       "      <th>Decreases</th>\n",
       "      <th>Likes_berrie</th>\n",
       "      <th>Dislikes_berrie</th>\n",
       "    </tr>\n",
       "  </thead>\n",
       "  <tbody>\n",
       "    <tr>\n",
       "      <th>0</th>\n",
       "      <td>Adamant</td>\n",
       "      <td>Attack</td>\n",
       "      <td>Sp. Atk</td>\n",
       "      <td>Spicy</td>\n",
       "      <td>Dry</td>\n",
       "    </tr>\n",
       "    <tr>\n",
       "      <th>1</th>\n",
       "      <td>Bashful</td>\n",
       "      <td>Sp. Atk</td>\n",
       "      <td>Sp. Atk</td>\n",
       "      <td>Dry</td>\n",
       "      <td>Dry</td>\n",
       "    </tr>\n",
       "    <tr>\n",
       "      <th>2</th>\n",
       "      <td>Bold</td>\n",
       "      <td>Defense</td>\n",
       "      <td>Attack</td>\n",
       "      <td>Sour</td>\n",
       "      <td>Spicy</td>\n",
       "    </tr>\n",
       "    <tr>\n",
       "      <th>3</th>\n",
       "      <td>Brave</td>\n",
       "      <td>Attack</td>\n",
       "      <td>Speed</td>\n",
       "      <td>Spicy</td>\n",
       "      <td>Sweet</td>\n",
       "    </tr>\n",
       "    <tr>\n",
       "      <th>4</th>\n",
       "      <td>Calm</td>\n",
       "      <td>Sp. Def</td>\n",
       "      <td>Attack</td>\n",
       "      <td>Bitter</td>\n",
       "      <td>Spicy</td>\n",
       "    </tr>\n",
       "    <tr>\n",
       "      <th>5</th>\n",
       "      <td>Careful</td>\n",
       "      <td>Sp. Def</td>\n",
       "      <td>Sp. Atk</td>\n",
       "      <td>Bitter</td>\n",
       "      <td>Dry</td>\n",
       "    </tr>\n",
       "    <tr>\n",
       "      <th>6</th>\n",
       "      <td>Docile</td>\n",
       "      <td>Defense</td>\n",
       "      <td>Defense</td>\n",
       "      <td>Sour</td>\n",
       "      <td>Sour</td>\n",
       "    </tr>\n",
       "    <tr>\n",
       "      <th>7</th>\n",
       "      <td>Gentle</td>\n",
       "      <td>Sp. Def</td>\n",
       "      <td>Defense</td>\n",
       "      <td>Bitter</td>\n",
       "      <td>Sour</td>\n",
       "    </tr>\n",
       "    <tr>\n",
       "      <th>8</th>\n",
       "      <td>Hardy</td>\n",
       "      <td>Attack</td>\n",
       "      <td>Attack</td>\n",
       "      <td>Spicy</td>\n",
       "      <td>Spicy</td>\n",
       "    </tr>\n",
       "    <tr>\n",
       "      <th>9</th>\n",
       "      <td>Hasty</td>\n",
       "      <td>Speed</td>\n",
       "      <td>Defense</td>\n",
       "      <td>Sweet</td>\n",
       "      <td>Sour</td>\n",
       "    </tr>\n",
       "    <tr>\n",
       "      <th>10</th>\n",
       "      <td>Impish</td>\n",
       "      <td>Defense</td>\n",
       "      <td>Sp. Atk</td>\n",
       "      <td>Sour</td>\n",
       "      <td>Dry</td>\n",
       "    </tr>\n",
       "    <tr>\n",
       "      <th>11</th>\n",
       "      <td>Jolly</td>\n",
       "      <td>Speed</td>\n",
       "      <td>Sp. Atk</td>\n",
       "      <td>Sweet</td>\n",
       "      <td>Dry</td>\n",
       "    </tr>\n",
       "    <tr>\n",
       "      <th>12</th>\n",
       "      <td>Lax</td>\n",
       "      <td>Defense</td>\n",
       "      <td>Sp. Def</td>\n",
       "      <td>Sour</td>\n",
       "      <td>Bitter</td>\n",
       "    </tr>\n",
       "    <tr>\n",
       "      <th>13</th>\n",
       "      <td>Lonely</td>\n",
       "      <td>Attack</td>\n",
       "      <td>Defense</td>\n",
       "      <td>Spicy</td>\n",
       "      <td>Sour</td>\n",
       "    </tr>\n",
       "    <tr>\n",
       "      <th>14</th>\n",
       "      <td>Mild</td>\n",
       "      <td>Sp. Atk</td>\n",
       "      <td>Defense</td>\n",
       "      <td>Dry</td>\n",
       "      <td>Sour</td>\n",
       "    </tr>\n",
       "    <tr>\n",
       "      <th>15</th>\n",
       "      <td>Modest</td>\n",
       "      <td>Sp. Atk</td>\n",
       "      <td>Attack</td>\n",
       "      <td>Dry</td>\n",
       "      <td>Spicy</td>\n",
       "    </tr>\n",
       "    <tr>\n",
       "      <th>16</th>\n",
       "      <td>Naive</td>\n",
       "      <td>Speed</td>\n",
       "      <td>Sp. Def</td>\n",
       "      <td>Sweet</td>\n",
       "      <td>Bitter</td>\n",
       "    </tr>\n",
       "    <tr>\n",
       "      <th>17</th>\n",
       "      <td>Naughty</td>\n",
       "      <td>Attack</td>\n",
       "      <td>Sp. Def</td>\n",
       "      <td>Spicy</td>\n",
       "      <td>Bitter</td>\n",
       "    </tr>\n",
       "    <tr>\n",
       "      <th>18</th>\n",
       "      <td>Quiet</td>\n",
       "      <td>Sp. Atk</td>\n",
       "      <td>Speed</td>\n",
       "      <td>Dry</td>\n",
       "      <td>Sweet</td>\n",
       "    </tr>\n",
       "    <tr>\n",
       "      <th>19</th>\n",
       "      <td>Quirky</td>\n",
       "      <td>Sp. Def</td>\n",
       "      <td>Sp. Def</td>\n",
       "      <td>Bitter</td>\n",
       "      <td>Bitter</td>\n",
       "    </tr>\n",
       "    <tr>\n",
       "      <th>20</th>\n",
       "      <td>Rash</td>\n",
       "      <td>Sp. Atk</td>\n",
       "      <td>Sp. Def</td>\n",
       "      <td>Dry</td>\n",
       "      <td>Bitter</td>\n",
       "    </tr>\n",
       "    <tr>\n",
       "      <th>21</th>\n",
       "      <td>Relaxed</td>\n",
       "      <td>Defense</td>\n",
       "      <td>Speed</td>\n",
       "      <td>Sour</td>\n",
       "      <td>Sweet</td>\n",
       "    </tr>\n",
       "    <tr>\n",
       "      <th>22</th>\n",
       "      <td>Sassy</td>\n",
       "      <td>Sp. Def</td>\n",
       "      <td>Speed</td>\n",
       "      <td>Bitter</td>\n",
       "      <td>Sweet</td>\n",
       "    </tr>\n",
       "    <tr>\n",
       "      <th>23</th>\n",
       "      <td>Serious</td>\n",
       "      <td>Speed</td>\n",
       "      <td>Speed</td>\n",
       "      <td>Sweet</td>\n",
       "      <td>Sweet</td>\n",
       "    </tr>\n",
       "    <tr>\n",
       "      <th>24</th>\n",
       "      <td>Timid</td>\n",
       "      <td>Speed</td>\n",
       "      <td>Attack</td>\n",
       "      <td>Sweet</td>\n",
       "      <td>Spicy</td>\n",
       "    </tr>\n",
       "  </tbody>\n",
       "</table>\n",
       "</div>"
      ],
      "text/plain": [
       "     Nature Increases Decreases Likes_berrie Dislikes_berrie\n",
       "0   Adamant    Attack   Sp. Atk        Spicy             Dry\n",
       "1   Bashful   Sp. Atk   Sp. Atk          Dry             Dry\n",
       "2      Bold   Defense    Attack         Sour           Spicy\n",
       "3     Brave    Attack     Speed        Spicy           Sweet\n",
       "4      Calm   Sp. Def    Attack       Bitter           Spicy\n",
       "5   Careful   Sp. Def   Sp. Atk       Bitter             Dry\n",
       "6    Docile   Defense   Defense         Sour            Sour\n",
       "7    Gentle   Sp. Def   Defense       Bitter            Sour\n",
       "8     Hardy    Attack    Attack        Spicy           Spicy\n",
       "9     Hasty     Speed   Defense        Sweet            Sour\n",
       "10   Impish   Defense   Sp. Atk         Sour             Dry\n",
       "11    Jolly     Speed   Sp. Atk        Sweet             Dry\n",
       "12      Lax   Defense   Sp. Def         Sour          Bitter\n",
       "13   Lonely    Attack   Defense        Spicy            Sour\n",
       "14     Mild   Sp. Atk   Defense          Dry            Sour\n",
       "15   Modest   Sp. Atk    Attack          Dry           Spicy\n",
       "16    Naive     Speed   Sp. Def        Sweet          Bitter\n",
       "17  Naughty    Attack   Sp. Def        Spicy          Bitter\n",
       "18    Quiet   Sp. Atk     Speed          Dry           Sweet\n",
       "19   Quirky   Sp. Def   Sp. Def       Bitter          Bitter\n",
       "20     Rash   Sp. Atk   Sp. Def          Dry          Bitter\n",
       "21  Relaxed   Defense     Speed         Sour           Sweet\n",
       "22    Sassy   Sp. Def     Speed       Bitter           Sweet\n",
       "23  Serious     Speed     Speed        Sweet           Sweet\n",
       "24    Timid     Speed    Attack        Sweet           Spicy"
      ]
     },
     "execution_count": 103,
     "metadata": {},
     "output_type": "execute_result"
    }
   ],
   "source": [
    "natures_df"
   ]
  },
  {
   "cell_type": "code",
   "execution_count": 104,
   "id": "55220bca",
   "metadata": {
    "ExecuteTime": {
     "end_time": "2022-04-10T23:15:12.071520Z",
     "start_time": "2022-04-10T23:15:11.956084Z"
    },
    "hidden": true
   },
   "outputs": [],
   "source": [
    "natures_json = json.dumps(list(natures_df.agg(lambda x: x.dropna().to_dict(), axis=1)), indent = 4, ensure_ascii=False)\n",
    "# JSON\n",
    "with open('./Scraping_datasets/natures.json', 'w', encoding='utf8') as outfile:\n",
    "    outfile.write(natures_json)\n",
    "# CSV\n",
    "natures_df.to_csv('./Scraping_datasets/natures.csv', na_rep=\"NA\")"
   ]
  },
  {
   "cell_type": "markdown",
   "id": "944d44dc",
   "metadata": {
    "heading_collapsed": true,
    "hidden": true
   },
   "source": [
    "## Type Chart"
   ]
  },
  {
   "cell_type": "code",
   "execution_count": 8,
   "id": "039bda39",
   "metadata": {
    "ExecuteTime": {
     "end_time": "2022-04-21T12:59:38.007598Z",
     "start_time": "2022-04-21T12:59:37.835034Z"
    },
    "hidden": true
   },
   "outputs": [
    {
     "data": {
      "text/html": [
       "<div>\n",
       "<style scoped>\n",
       "    .dataframe tbody tr th:only-of-type {\n",
       "        vertical-align: middle;\n",
       "    }\n",
       "\n",
       "    .dataframe tbody tr th {\n",
       "        vertical-align: top;\n",
       "    }\n",
       "\n",
       "    .dataframe thead th {\n",
       "        text-align: right;\n",
       "    }\n",
       "</style>\n",
       "<table border=\"1\" class=\"dataframe\">\n",
       "  <thead>\n",
       "    <tr style=\"text-align: right;\">\n",
       "      <th></th>\n",
       "      <th>DEFENSE →ATTACK ↴</th>\n",
       "      <th>Nor</th>\n",
       "      <th>Fir</th>\n",
       "      <th>Wat</th>\n",
       "      <th>Ele</th>\n",
       "      <th>Gra</th>\n",
       "      <th>Ice</th>\n",
       "      <th>Fig</th>\n",
       "      <th>Poi</th>\n",
       "      <th>Gro</th>\n",
       "      <th>Fly</th>\n",
       "      <th>Psy</th>\n",
       "      <th>Bug</th>\n",
       "      <th>Roc</th>\n",
       "      <th>Gho</th>\n",
       "      <th>Dra</th>\n",
       "      <th>Dar</th>\n",
       "      <th>Ste</th>\n",
       "      <th>Fai</th>\n",
       "    </tr>\n",
       "  </thead>\n",
       "  <tbody>\n",
       "    <tr>\n",
       "      <th>0</th>\n",
       "      <td>Normal</td>\n",
       "      <td>NaN</td>\n",
       "      <td>NaN</td>\n",
       "      <td>NaN</td>\n",
       "      <td>NaN</td>\n",
       "      <td>NaN</td>\n",
       "      <td>NaN</td>\n",
       "      <td>NaN</td>\n",
       "      <td>NaN</td>\n",
       "      <td>NaN</td>\n",
       "      <td>NaN</td>\n",
       "      <td>NaN</td>\n",
       "      <td>NaN</td>\n",
       "      <td>½</td>\n",
       "      <td>0</td>\n",
       "      <td>NaN</td>\n",
       "      <td>NaN</td>\n",
       "      <td>½</td>\n",
       "      <td>NaN</td>\n",
       "    </tr>\n",
       "    <tr>\n",
       "      <th>1</th>\n",
       "      <td>Fire</td>\n",
       "      <td>NaN</td>\n",
       "      <td>½</td>\n",
       "      <td>½</td>\n",
       "      <td>NaN</td>\n",
       "      <td>2</td>\n",
       "      <td>2</td>\n",
       "      <td>NaN</td>\n",
       "      <td>NaN</td>\n",
       "      <td>NaN</td>\n",
       "      <td>NaN</td>\n",
       "      <td>NaN</td>\n",
       "      <td>2</td>\n",
       "      <td>½</td>\n",
       "      <td>NaN</td>\n",
       "      <td>½</td>\n",
       "      <td>NaN</td>\n",
       "      <td>2</td>\n",
       "      <td>NaN</td>\n",
       "    </tr>\n",
       "    <tr>\n",
       "      <th>2</th>\n",
       "      <td>Water</td>\n",
       "      <td>NaN</td>\n",
       "      <td>2</td>\n",
       "      <td>½</td>\n",
       "      <td>NaN</td>\n",
       "      <td>½</td>\n",
       "      <td>NaN</td>\n",
       "      <td>NaN</td>\n",
       "      <td>NaN</td>\n",
       "      <td>2</td>\n",
       "      <td>NaN</td>\n",
       "      <td>NaN</td>\n",
       "      <td>NaN</td>\n",
       "      <td>2</td>\n",
       "      <td>NaN</td>\n",
       "      <td>½</td>\n",
       "      <td>NaN</td>\n",
       "      <td>NaN</td>\n",
       "      <td>NaN</td>\n",
       "    </tr>\n",
       "    <tr>\n",
       "      <th>3</th>\n",
       "      <td>Electric</td>\n",
       "      <td>NaN</td>\n",
       "      <td>NaN</td>\n",
       "      <td>2</td>\n",
       "      <td>½</td>\n",
       "      <td>½</td>\n",
       "      <td>NaN</td>\n",
       "      <td>NaN</td>\n",
       "      <td>NaN</td>\n",
       "      <td>0</td>\n",
       "      <td>2</td>\n",
       "      <td>NaN</td>\n",
       "      <td>NaN</td>\n",
       "      <td>NaN</td>\n",
       "      <td>NaN</td>\n",
       "      <td>½</td>\n",
       "      <td>NaN</td>\n",
       "      <td>NaN</td>\n",
       "      <td>NaN</td>\n",
       "    </tr>\n",
       "    <tr>\n",
       "      <th>4</th>\n",
       "      <td>Grass</td>\n",
       "      <td>NaN</td>\n",
       "      <td>½</td>\n",
       "      <td>2</td>\n",
       "      <td>NaN</td>\n",
       "      <td>½</td>\n",
       "      <td>NaN</td>\n",
       "      <td>NaN</td>\n",
       "      <td>½</td>\n",
       "      <td>2</td>\n",
       "      <td>½</td>\n",
       "      <td>NaN</td>\n",
       "      <td>½</td>\n",
       "      <td>2</td>\n",
       "      <td>NaN</td>\n",
       "      <td>½</td>\n",
       "      <td>NaN</td>\n",
       "      <td>½</td>\n",
       "      <td>NaN</td>\n",
       "    </tr>\n",
       "    <tr>\n",
       "      <th>5</th>\n",
       "      <td>Ice</td>\n",
       "      <td>NaN</td>\n",
       "      <td>½</td>\n",
       "      <td>½</td>\n",
       "      <td>NaN</td>\n",
       "      <td>2</td>\n",
       "      <td>½</td>\n",
       "      <td>NaN</td>\n",
       "      <td>NaN</td>\n",
       "      <td>2</td>\n",
       "      <td>2</td>\n",
       "      <td>NaN</td>\n",
       "      <td>NaN</td>\n",
       "      <td>NaN</td>\n",
       "      <td>NaN</td>\n",
       "      <td>2</td>\n",
       "      <td>NaN</td>\n",
       "      <td>½</td>\n",
       "      <td>NaN</td>\n",
       "    </tr>\n",
       "    <tr>\n",
       "      <th>6</th>\n",
       "      <td>Fighting</td>\n",
       "      <td>2.0</td>\n",
       "      <td>NaN</td>\n",
       "      <td>NaN</td>\n",
       "      <td>NaN</td>\n",
       "      <td>NaN</td>\n",
       "      <td>2</td>\n",
       "      <td>NaN</td>\n",
       "      <td>½</td>\n",
       "      <td>NaN</td>\n",
       "      <td>½</td>\n",
       "      <td>½</td>\n",
       "      <td>½</td>\n",
       "      <td>2</td>\n",
       "      <td>0</td>\n",
       "      <td>NaN</td>\n",
       "      <td>2</td>\n",
       "      <td>2</td>\n",
       "      <td>½</td>\n",
       "    </tr>\n",
       "    <tr>\n",
       "      <th>7</th>\n",
       "      <td>Poison</td>\n",
       "      <td>NaN</td>\n",
       "      <td>NaN</td>\n",
       "      <td>NaN</td>\n",
       "      <td>NaN</td>\n",
       "      <td>2</td>\n",
       "      <td>NaN</td>\n",
       "      <td>NaN</td>\n",
       "      <td>½</td>\n",
       "      <td>½</td>\n",
       "      <td>NaN</td>\n",
       "      <td>NaN</td>\n",
       "      <td>NaN</td>\n",
       "      <td>½</td>\n",
       "      <td>½</td>\n",
       "      <td>NaN</td>\n",
       "      <td>NaN</td>\n",
       "      <td>0</td>\n",
       "      <td>2</td>\n",
       "    </tr>\n",
       "    <tr>\n",
       "      <th>8</th>\n",
       "      <td>Ground</td>\n",
       "      <td>NaN</td>\n",
       "      <td>2</td>\n",
       "      <td>NaN</td>\n",
       "      <td>2</td>\n",
       "      <td>½</td>\n",
       "      <td>NaN</td>\n",
       "      <td>NaN</td>\n",
       "      <td>2</td>\n",
       "      <td>NaN</td>\n",
       "      <td>0</td>\n",
       "      <td>NaN</td>\n",
       "      <td>½</td>\n",
       "      <td>2</td>\n",
       "      <td>NaN</td>\n",
       "      <td>NaN</td>\n",
       "      <td>NaN</td>\n",
       "      <td>2</td>\n",
       "      <td>NaN</td>\n",
       "    </tr>\n",
       "    <tr>\n",
       "      <th>9</th>\n",
       "      <td>Flying</td>\n",
       "      <td>NaN</td>\n",
       "      <td>NaN</td>\n",
       "      <td>NaN</td>\n",
       "      <td>½</td>\n",
       "      <td>2</td>\n",
       "      <td>NaN</td>\n",
       "      <td>2</td>\n",
       "      <td>NaN</td>\n",
       "      <td>NaN</td>\n",
       "      <td>NaN</td>\n",
       "      <td>NaN</td>\n",
       "      <td>2</td>\n",
       "      <td>½</td>\n",
       "      <td>NaN</td>\n",
       "      <td>NaN</td>\n",
       "      <td>NaN</td>\n",
       "      <td>½</td>\n",
       "      <td>NaN</td>\n",
       "    </tr>\n",
       "    <tr>\n",
       "      <th>10</th>\n",
       "      <td>Psychic</td>\n",
       "      <td>NaN</td>\n",
       "      <td>NaN</td>\n",
       "      <td>NaN</td>\n",
       "      <td>NaN</td>\n",
       "      <td>NaN</td>\n",
       "      <td>NaN</td>\n",
       "      <td>2</td>\n",
       "      <td>2</td>\n",
       "      <td>NaN</td>\n",
       "      <td>NaN</td>\n",
       "      <td>½</td>\n",
       "      <td>NaN</td>\n",
       "      <td>NaN</td>\n",
       "      <td>NaN</td>\n",
       "      <td>NaN</td>\n",
       "      <td>0</td>\n",
       "      <td>½</td>\n",
       "      <td>NaN</td>\n",
       "    </tr>\n",
       "    <tr>\n",
       "      <th>11</th>\n",
       "      <td>Bug</td>\n",
       "      <td>NaN</td>\n",
       "      <td>½</td>\n",
       "      <td>NaN</td>\n",
       "      <td>NaN</td>\n",
       "      <td>2</td>\n",
       "      <td>NaN</td>\n",
       "      <td>½</td>\n",
       "      <td>½</td>\n",
       "      <td>NaN</td>\n",
       "      <td>½</td>\n",
       "      <td>2</td>\n",
       "      <td>NaN</td>\n",
       "      <td>NaN</td>\n",
       "      <td>½</td>\n",
       "      <td>NaN</td>\n",
       "      <td>2</td>\n",
       "      <td>½</td>\n",
       "      <td>½</td>\n",
       "    </tr>\n",
       "    <tr>\n",
       "      <th>12</th>\n",
       "      <td>Rock</td>\n",
       "      <td>NaN</td>\n",
       "      <td>2</td>\n",
       "      <td>NaN</td>\n",
       "      <td>NaN</td>\n",
       "      <td>NaN</td>\n",
       "      <td>2</td>\n",
       "      <td>½</td>\n",
       "      <td>NaN</td>\n",
       "      <td>½</td>\n",
       "      <td>2</td>\n",
       "      <td>NaN</td>\n",
       "      <td>2</td>\n",
       "      <td>NaN</td>\n",
       "      <td>NaN</td>\n",
       "      <td>NaN</td>\n",
       "      <td>NaN</td>\n",
       "      <td>½</td>\n",
       "      <td>NaN</td>\n",
       "    </tr>\n",
       "    <tr>\n",
       "      <th>13</th>\n",
       "      <td>Ghost</td>\n",
       "      <td>0.0</td>\n",
       "      <td>NaN</td>\n",
       "      <td>NaN</td>\n",
       "      <td>NaN</td>\n",
       "      <td>NaN</td>\n",
       "      <td>NaN</td>\n",
       "      <td>NaN</td>\n",
       "      <td>NaN</td>\n",
       "      <td>NaN</td>\n",
       "      <td>NaN</td>\n",
       "      <td>2</td>\n",
       "      <td>NaN</td>\n",
       "      <td>NaN</td>\n",
       "      <td>2</td>\n",
       "      <td>NaN</td>\n",
       "      <td>½</td>\n",
       "      <td>NaN</td>\n",
       "      <td>NaN</td>\n",
       "    </tr>\n",
       "    <tr>\n",
       "      <th>14</th>\n",
       "      <td>Dragon</td>\n",
       "      <td>NaN</td>\n",
       "      <td>NaN</td>\n",
       "      <td>NaN</td>\n",
       "      <td>NaN</td>\n",
       "      <td>NaN</td>\n",
       "      <td>NaN</td>\n",
       "      <td>NaN</td>\n",
       "      <td>NaN</td>\n",
       "      <td>NaN</td>\n",
       "      <td>NaN</td>\n",
       "      <td>NaN</td>\n",
       "      <td>NaN</td>\n",
       "      <td>NaN</td>\n",
       "      <td>NaN</td>\n",
       "      <td>2</td>\n",
       "      <td>NaN</td>\n",
       "      <td>½</td>\n",
       "      <td>0</td>\n",
       "    </tr>\n",
       "    <tr>\n",
       "      <th>15</th>\n",
       "      <td>Dark</td>\n",
       "      <td>NaN</td>\n",
       "      <td>NaN</td>\n",
       "      <td>NaN</td>\n",
       "      <td>NaN</td>\n",
       "      <td>NaN</td>\n",
       "      <td>NaN</td>\n",
       "      <td>½</td>\n",
       "      <td>NaN</td>\n",
       "      <td>NaN</td>\n",
       "      <td>NaN</td>\n",
       "      <td>2</td>\n",
       "      <td>NaN</td>\n",
       "      <td>NaN</td>\n",
       "      <td>2</td>\n",
       "      <td>NaN</td>\n",
       "      <td>½</td>\n",
       "      <td>NaN</td>\n",
       "      <td>½</td>\n",
       "    </tr>\n",
       "    <tr>\n",
       "      <th>16</th>\n",
       "      <td>Steel</td>\n",
       "      <td>NaN</td>\n",
       "      <td>½</td>\n",
       "      <td>½</td>\n",
       "      <td>½</td>\n",
       "      <td>NaN</td>\n",
       "      <td>2</td>\n",
       "      <td>NaN</td>\n",
       "      <td>NaN</td>\n",
       "      <td>NaN</td>\n",
       "      <td>NaN</td>\n",
       "      <td>NaN</td>\n",
       "      <td>NaN</td>\n",
       "      <td>2</td>\n",
       "      <td>NaN</td>\n",
       "      <td>NaN</td>\n",
       "      <td>NaN</td>\n",
       "      <td>½</td>\n",
       "      <td>2</td>\n",
       "    </tr>\n",
       "    <tr>\n",
       "      <th>17</th>\n",
       "      <td>Fairy</td>\n",
       "      <td>NaN</td>\n",
       "      <td>½</td>\n",
       "      <td>NaN</td>\n",
       "      <td>NaN</td>\n",
       "      <td>NaN</td>\n",
       "      <td>NaN</td>\n",
       "      <td>2</td>\n",
       "      <td>½</td>\n",
       "      <td>NaN</td>\n",
       "      <td>NaN</td>\n",
       "      <td>NaN</td>\n",
       "      <td>NaN</td>\n",
       "      <td>NaN</td>\n",
       "      <td>NaN</td>\n",
       "      <td>2</td>\n",
       "      <td>2</td>\n",
       "      <td>½</td>\n",
       "      <td>NaN</td>\n",
       "    </tr>\n",
       "  </tbody>\n",
       "</table>\n",
       "</div>"
      ],
      "text/plain": [
       "   DEFENSE →ATTACK ↴  Nor  Fir  Wat  Ele  Gra  Ice  Fig  Poi  Gro  Fly  Psy  \\\n",
       "0             Normal  NaN  NaN  NaN  NaN  NaN  NaN  NaN  NaN  NaN  NaN  NaN   \n",
       "1               Fire  NaN    ½    ½  NaN    2    2  NaN  NaN  NaN  NaN  NaN   \n",
       "2              Water  NaN    2    ½  NaN    ½  NaN  NaN  NaN    2  NaN  NaN   \n",
       "3           Electric  NaN  NaN    2    ½    ½  NaN  NaN  NaN    0    2  NaN   \n",
       "4              Grass  NaN    ½    2  NaN    ½  NaN  NaN    ½    2    ½  NaN   \n",
       "5                Ice  NaN    ½    ½  NaN    2    ½  NaN  NaN    2    2  NaN   \n",
       "6           Fighting  2.0  NaN  NaN  NaN  NaN    2  NaN    ½  NaN    ½    ½   \n",
       "7             Poison  NaN  NaN  NaN  NaN    2  NaN  NaN    ½    ½  NaN  NaN   \n",
       "8             Ground  NaN    2  NaN    2    ½  NaN  NaN    2  NaN    0  NaN   \n",
       "9             Flying  NaN  NaN  NaN    ½    2  NaN    2  NaN  NaN  NaN  NaN   \n",
       "10           Psychic  NaN  NaN  NaN  NaN  NaN  NaN    2    2  NaN  NaN    ½   \n",
       "11               Bug  NaN    ½  NaN  NaN    2  NaN    ½    ½  NaN    ½    2   \n",
       "12              Rock  NaN    2  NaN  NaN  NaN    2    ½  NaN    ½    2  NaN   \n",
       "13             Ghost  0.0  NaN  NaN  NaN  NaN  NaN  NaN  NaN  NaN  NaN    2   \n",
       "14            Dragon  NaN  NaN  NaN  NaN  NaN  NaN  NaN  NaN  NaN  NaN  NaN   \n",
       "15              Dark  NaN  NaN  NaN  NaN  NaN  NaN    ½  NaN  NaN  NaN    2   \n",
       "16             Steel  NaN    ½    ½    ½  NaN    2  NaN  NaN  NaN  NaN  NaN   \n",
       "17             Fairy  NaN    ½  NaN  NaN  NaN  NaN    2    ½  NaN  NaN  NaN   \n",
       "\n",
       "    Bug  Roc  Gho  Dra  Dar  Ste  Fai  \n",
       "0   NaN    ½    0  NaN  NaN    ½  NaN  \n",
       "1     2    ½  NaN    ½  NaN    2  NaN  \n",
       "2   NaN    2  NaN    ½  NaN  NaN  NaN  \n",
       "3   NaN  NaN  NaN    ½  NaN  NaN  NaN  \n",
       "4     ½    2  NaN    ½  NaN    ½  NaN  \n",
       "5   NaN  NaN  NaN    2  NaN    ½  NaN  \n",
       "6     ½    2    0  NaN    2    2    ½  \n",
       "7   NaN    ½    ½  NaN  NaN    0    2  \n",
       "8     ½    2  NaN  NaN  NaN    2  NaN  \n",
       "9     2    ½  NaN  NaN  NaN    ½  NaN  \n",
       "10  NaN  NaN  NaN  NaN    0    ½  NaN  \n",
       "11  NaN  NaN    ½  NaN    2    ½    ½  \n",
       "12    2  NaN  NaN  NaN  NaN    ½  NaN  \n",
       "13  NaN  NaN    2  NaN    ½  NaN  NaN  \n",
       "14  NaN  NaN  NaN    2  NaN    ½    0  \n",
       "15  NaN  NaN    2  NaN    ½  NaN    ½  \n",
       "16  NaN    2  NaN  NaN  NaN    ½    2  \n",
       "17  NaN  NaN  NaN    2    2    ½  NaN  "
      ]
     },
     "execution_count": 8,
     "metadata": {},
     "output_type": "execute_result"
    }
   ],
   "source": [
    "typechart_URL = \"https://pokemondb.net/type\"\n",
    "typechart_page = requests.get(typechart_URL)\n",
    "typechart_soup = BeautifulSoup(typechart_page.content, parser = 'html.parser')\n",
    "typechart_df = pd.read_html(str(typechart_soup))[0]\n",
    "typechart_df"
   ]
  },
  {
   "cell_type": "code",
   "execution_count": 40,
   "id": "a6655888",
   "metadata": {
    "ExecuteTime": {
     "end_time": "2022-04-21T13:09:21.881965Z",
     "start_time": "2022-04-21T13:09:21.872334Z"
    },
    "hidden": true
   },
   "outputs": [
    {
     "name": "stdout",
     "output_type": "stream",
     "text": [
      "['Atk_Type/Pokemon_Type', 'Normal', 'Fire', 'Water', 'Electric', 'Grass', 'Ice', 'Fighting', 'Poison', 'Ground', 'Flying', 'Psychic', 'Bug', 'Rock', 'Ghost', 'Dragon', 'Dark', 'Steel', 'Fairy']\n"
     ]
    }
   ],
   "source": [
    "colnames = ['Atk_Type/Pokemon_Type'] + list(typechart_df.iloc[:, 0])\n",
    "print(colnames)"
   ]
  },
  {
   "cell_type": "code",
   "execution_count": 41,
   "id": "32f12575",
   "metadata": {
    "ExecuteTime": {
     "end_time": "2022-04-21T13:09:27.231216Z",
     "start_time": "2022-04-21T13:09:27.223215Z"
    },
    "hidden": true
   },
   "outputs": [],
   "source": [
    "typechart_df.columns = colnames"
   ]
  },
  {
   "cell_type": "code",
   "execution_count": 42,
   "id": "078e993a",
   "metadata": {
    "ExecuteTime": {
     "end_time": "2022-04-21T13:09:37.043492Z",
     "start_time": "2022-04-21T13:09:37.020806Z"
    },
    "hidden": true
   },
   "outputs": [
    {
     "data": {
      "text/html": [
       "<div>\n",
       "<style scoped>\n",
       "    .dataframe tbody tr th:only-of-type {\n",
       "        vertical-align: middle;\n",
       "    }\n",
       "\n",
       "    .dataframe tbody tr th {\n",
       "        vertical-align: top;\n",
       "    }\n",
       "\n",
       "    .dataframe thead th {\n",
       "        text-align: right;\n",
       "    }\n",
       "</style>\n",
       "<table border=\"1\" class=\"dataframe\">\n",
       "  <thead>\n",
       "    <tr style=\"text-align: right;\">\n",
       "      <th></th>\n",
       "      <th>Atk_Type/Pokemon_Type</th>\n",
       "      <th>Normal</th>\n",
       "      <th>Fire</th>\n",
       "      <th>Water</th>\n",
       "      <th>Electric</th>\n",
       "      <th>Grass</th>\n",
       "      <th>Ice</th>\n",
       "      <th>Fighting</th>\n",
       "      <th>Poison</th>\n",
       "      <th>Ground</th>\n",
       "      <th>Flying</th>\n",
       "      <th>Psychic</th>\n",
       "      <th>Bug</th>\n",
       "      <th>Rock</th>\n",
       "      <th>Ghost</th>\n",
       "      <th>Dragon</th>\n",
       "      <th>Dark</th>\n",
       "      <th>Steel</th>\n",
       "      <th>Fairy</th>\n",
       "    </tr>\n",
       "  </thead>\n",
       "  <tbody>\n",
       "    <tr>\n",
       "      <th>0</th>\n",
       "      <td>Normal</td>\n",
       "      <td>NaN</td>\n",
       "      <td>NaN</td>\n",
       "      <td>NaN</td>\n",
       "      <td>NaN</td>\n",
       "      <td>NaN</td>\n",
       "      <td>NaN</td>\n",
       "      <td>NaN</td>\n",
       "      <td>NaN</td>\n",
       "      <td>NaN</td>\n",
       "      <td>NaN</td>\n",
       "      <td>NaN</td>\n",
       "      <td>NaN</td>\n",
       "      <td>½</td>\n",
       "      <td>0</td>\n",
       "      <td>NaN</td>\n",
       "      <td>NaN</td>\n",
       "      <td>½</td>\n",
       "      <td>NaN</td>\n",
       "    </tr>\n",
       "    <tr>\n",
       "      <th>1</th>\n",
       "      <td>Fire</td>\n",
       "      <td>NaN</td>\n",
       "      <td>½</td>\n",
       "      <td>½</td>\n",
       "      <td>NaN</td>\n",
       "      <td>2</td>\n",
       "      <td>2</td>\n",
       "      <td>NaN</td>\n",
       "      <td>NaN</td>\n",
       "      <td>NaN</td>\n",
       "      <td>NaN</td>\n",
       "      <td>NaN</td>\n",
       "      <td>2</td>\n",
       "      <td>½</td>\n",
       "      <td>NaN</td>\n",
       "      <td>½</td>\n",
       "      <td>NaN</td>\n",
       "      <td>2</td>\n",
       "      <td>NaN</td>\n",
       "    </tr>\n",
       "    <tr>\n",
       "      <th>2</th>\n",
       "      <td>Water</td>\n",
       "      <td>NaN</td>\n",
       "      <td>2</td>\n",
       "      <td>½</td>\n",
       "      <td>NaN</td>\n",
       "      <td>½</td>\n",
       "      <td>NaN</td>\n",
       "      <td>NaN</td>\n",
       "      <td>NaN</td>\n",
       "      <td>2</td>\n",
       "      <td>NaN</td>\n",
       "      <td>NaN</td>\n",
       "      <td>NaN</td>\n",
       "      <td>2</td>\n",
       "      <td>NaN</td>\n",
       "      <td>½</td>\n",
       "      <td>NaN</td>\n",
       "      <td>NaN</td>\n",
       "      <td>NaN</td>\n",
       "    </tr>\n",
       "    <tr>\n",
       "      <th>3</th>\n",
       "      <td>Electric</td>\n",
       "      <td>NaN</td>\n",
       "      <td>NaN</td>\n",
       "      <td>2</td>\n",
       "      <td>½</td>\n",
       "      <td>½</td>\n",
       "      <td>NaN</td>\n",
       "      <td>NaN</td>\n",
       "      <td>NaN</td>\n",
       "      <td>0</td>\n",
       "      <td>2</td>\n",
       "      <td>NaN</td>\n",
       "      <td>NaN</td>\n",
       "      <td>NaN</td>\n",
       "      <td>NaN</td>\n",
       "      <td>½</td>\n",
       "      <td>NaN</td>\n",
       "      <td>NaN</td>\n",
       "      <td>NaN</td>\n",
       "    </tr>\n",
       "    <tr>\n",
       "      <th>4</th>\n",
       "      <td>Grass</td>\n",
       "      <td>NaN</td>\n",
       "      <td>½</td>\n",
       "      <td>2</td>\n",
       "      <td>NaN</td>\n",
       "      <td>½</td>\n",
       "      <td>NaN</td>\n",
       "      <td>NaN</td>\n",
       "      <td>½</td>\n",
       "      <td>2</td>\n",
       "      <td>½</td>\n",
       "      <td>NaN</td>\n",
       "      <td>½</td>\n",
       "      <td>2</td>\n",
       "      <td>NaN</td>\n",
       "      <td>½</td>\n",
       "      <td>NaN</td>\n",
       "      <td>½</td>\n",
       "      <td>NaN</td>\n",
       "    </tr>\n",
       "    <tr>\n",
       "      <th>5</th>\n",
       "      <td>Ice</td>\n",
       "      <td>NaN</td>\n",
       "      <td>½</td>\n",
       "      <td>½</td>\n",
       "      <td>NaN</td>\n",
       "      <td>2</td>\n",
       "      <td>½</td>\n",
       "      <td>NaN</td>\n",
       "      <td>NaN</td>\n",
       "      <td>2</td>\n",
       "      <td>2</td>\n",
       "      <td>NaN</td>\n",
       "      <td>NaN</td>\n",
       "      <td>NaN</td>\n",
       "      <td>NaN</td>\n",
       "      <td>2</td>\n",
       "      <td>NaN</td>\n",
       "      <td>½</td>\n",
       "      <td>NaN</td>\n",
       "    </tr>\n",
       "    <tr>\n",
       "      <th>6</th>\n",
       "      <td>Fighting</td>\n",
       "      <td>2.0</td>\n",
       "      <td>NaN</td>\n",
       "      <td>NaN</td>\n",
       "      <td>NaN</td>\n",
       "      <td>NaN</td>\n",
       "      <td>2</td>\n",
       "      <td>NaN</td>\n",
       "      <td>½</td>\n",
       "      <td>NaN</td>\n",
       "      <td>½</td>\n",
       "      <td>½</td>\n",
       "      <td>½</td>\n",
       "      <td>2</td>\n",
       "      <td>0</td>\n",
       "      <td>NaN</td>\n",
       "      <td>2</td>\n",
       "      <td>2</td>\n",
       "      <td>½</td>\n",
       "    </tr>\n",
       "    <tr>\n",
       "      <th>7</th>\n",
       "      <td>Poison</td>\n",
       "      <td>NaN</td>\n",
       "      <td>NaN</td>\n",
       "      <td>NaN</td>\n",
       "      <td>NaN</td>\n",
       "      <td>2</td>\n",
       "      <td>NaN</td>\n",
       "      <td>NaN</td>\n",
       "      <td>½</td>\n",
       "      <td>½</td>\n",
       "      <td>NaN</td>\n",
       "      <td>NaN</td>\n",
       "      <td>NaN</td>\n",
       "      <td>½</td>\n",
       "      <td>½</td>\n",
       "      <td>NaN</td>\n",
       "      <td>NaN</td>\n",
       "      <td>0</td>\n",
       "      <td>2</td>\n",
       "    </tr>\n",
       "    <tr>\n",
       "      <th>8</th>\n",
       "      <td>Ground</td>\n",
       "      <td>NaN</td>\n",
       "      <td>2</td>\n",
       "      <td>NaN</td>\n",
       "      <td>2</td>\n",
       "      <td>½</td>\n",
       "      <td>NaN</td>\n",
       "      <td>NaN</td>\n",
       "      <td>2</td>\n",
       "      <td>NaN</td>\n",
       "      <td>0</td>\n",
       "      <td>NaN</td>\n",
       "      <td>½</td>\n",
       "      <td>2</td>\n",
       "      <td>NaN</td>\n",
       "      <td>NaN</td>\n",
       "      <td>NaN</td>\n",
       "      <td>2</td>\n",
       "      <td>NaN</td>\n",
       "    </tr>\n",
       "    <tr>\n",
       "      <th>9</th>\n",
       "      <td>Flying</td>\n",
       "      <td>NaN</td>\n",
       "      <td>NaN</td>\n",
       "      <td>NaN</td>\n",
       "      <td>½</td>\n",
       "      <td>2</td>\n",
       "      <td>NaN</td>\n",
       "      <td>2</td>\n",
       "      <td>NaN</td>\n",
       "      <td>NaN</td>\n",
       "      <td>NaN</td>\n",
       "      <td>NaN</td>\n",
       "      <td>2</td>\n",
       "      <td>½</td>\n",
       "      <td>NaN</td>\n",
       "      <td>NaN</td>\n",
       "      <td>NaN</td>\n",
       "      <td>½</td>\n",
       "      <td>NaN</td>\n",
       "    </tr>\n",
       "    <tr>\n",
       "      <th>10</th>\n",
       "      <td>Psychic</td>\n",
       "      <td>NaN</td>\n",
       "      <td>NaN</td>\n",
       "      <td>NaN</td>\n",
       "      <td>NaN</td>\n",
       "      <td>NaN</td>\n",
       "      <td>NaN</td>\n",
       "      <td>2</td>\n",
       "      <td>2</td>\n",
       "      <td>NaN</td>\n",
       "      <td>NaN</td>\n",
       "      <td>½</td>\n",
       "      <td>NaN</td>\n",
       "      <td>NaN</td>\n",
       "      <td>NaN</td>\n",
       "      <td>NaN</td>\n",
       "      <td>0</td>\n",
       "      <td>½</td>\n",
       "      <td>NaN</td>\n",
       "    </tr>\n",
       "    <tr>\n",
       "      <th>11</th>\n",
       "      <td>Bug</td>\n",
       "      <td>NaN</td>\n",
       "      <td>½</td>\n",
       "      <td>NaN</td>\n",
       "      <td>NaN</td>\n",
       "      <td>2</td>\n",
       "      <td>NaN</td>\n",
       "      <td>½</td>\n",
       "      <td>½</td>\n",
       "      <td>NaN</td>\n",
       "      <td>½</td>\n",
       "      <td>2</td>\n",
       "      <td>NaN</td>\n",
       "      <td>NaN</td>\n",
       "      <td>½</td>\n",
       "      <td>NaN</td>\n",
       "      <td>2</td>\n",
       "      <td>½</td>\n",
       "      <td>½</td>\n",
       "    </tr>\n",
       "    <tr>\n",
       "      <th>12</th>\n",
       "      <td>Rock</td>\n",
       "      <td>NaN</td>\n",
       "      <td>2</td>\n",
       "      <td>NaN</td>\n",
       "      <td>NaN</td>\n",
       "      <td>NaN</td>\n",
       "      <td>2</td>\n",
       "      <td>½</td>\n",
       "      <td>NaN</td>\n",
       "      <td>½</td>\n",
       "      <td>2</td>\n",
       "      <td>NaN</td>\n",
       "      <td>2</td>\n",
       "      <td>NaN</td>\n",
       "      <td>NaN</td>\n",
       "      <td>NaN</td>\n",
       "      <td>NaN</td>\n",
       "      <td>½</td>\n",
       "      <td>NaN</td>\n",
       "    </tr>\n",
       "    <tr>\n",
       "      <th>13</th>\n",
       "      <td>Ghost</td>\n",
       "      <td>0.0</td>\n",
       "      <td>NaN</td>\n",
       "      <td>NaN</td>\n",
       "      <td>NaN</td>\n",
       "      <td>NaN</td>\n",
       "      <td>NaN</td>\n",
       "      <td>NaN</td>\n",
       "      <td>NaN</td>\n",
       "      <td>NaN</td>\n",
       "      <td>NaN</td>\n",
       "      <td>2</td>\n",
       "      <td>NaN</td>\n",
       "      <td>NaN</td>\n",
       "      <td>2</td>\n",
       "      <td>NaN</td>\n",
       "      <td>½</td>\n",
       "      <td>NaN</td>\n",
       "      <td>NaN</td>\n",
       "    </tr>\n",
       "    <tr>\n",
       "      <th>14</th>\n",
       "      <td>Dragon</td>\n",
       "      <td>NaN</td>\n",
       "      <td>NaN</td>\n",
       "      <td>NaN</td>\n",
       "      <td>NaN</td>\n",
       "      <td>NaN</td>\n",
       "      <td>NaN</td>\n",
       "      <td>NaN</td>\n",
       "      <td>NaN</td>\n",
       "      <td>NaN</td>\n",
       "      <td>NaN</td>\n",
       "      <td>NaN</td>\n",
       "      <td>NaN</td>\n",
       "      <td>NaN</td>\n",
       "      <td>NaN</td>\n",
       "      <td>2</td>\n",
       "      <td>NaN</td>\n",
       "      <td>½</td>\n",
       "      <td>0</td>\n",
       "    </tr>\n",
       "    <tr>\n",
       "      <th>15</th>\n",
       "      <td>Dark</td>\n",
       "      <td>NaN</td>\n",
       "      <td>NaN</td>\n",
       "      <td>NaN</td>\n",
       "      <td>NaN</td>\n",
       "      <td>NaN</td>\n",
       "      <td>NaN</td>\n",
       "      <td>½</td>\n",
       "      <td>NaN</td>\n",
       "      <td>NaN</td>\n",
       "      <td>NaN</td>\n",
       "      <td>2</td>\n",
       "      <td>NaN</td>\n",
       "      <td>NaN</td>\n",
       "      <td>2</td>\n",
       "      <td>NaN</td>\n",
       "      <td>½</td>\n",
       "      <td>NaN</td>\n",
       "      <td>½</td>\n",
       "    </tr>\n",
       "    <tr>\n",
       "      <th>16</th>\n",
       "      <td>Steel</td>\n",
       "      <td>NaN</td>\n",
       "      <td>½</td>\n",
       "      <td>½</td>\n",
       "      <td>½</td>\n",
       "      <td>NaN</td>\n",
       "      <td>2</td>\n",
       "      <td>NaN</td>\n",
       "      <td>NaN</td>\n",
       "      <td>NaN</td>\n",
       "      <td>NaN</td>\n",
       "      <td>NaN</td>\n",
       "      <td>NaN</td>\n",
       "      <td>2</td>\n",
       "      <td>NaN</td>\n",
       "      <td>NaN</td>\n",
       "      <td>NaN</td>\n",
       "      <td>½</td>\n",
       "      <td>2</td>\n",
       "    </tr>\n",
       "    <tr>\n",
       "      <th>17</th>\n",
       "      <td>Fairy</td>\n",
       "      <td>NaN</td>\n",
       "      <td>½</td>\n",
       "      <td>NaN</td>\n",
       "      <td>NaN</td>\n",
       "      <td>NaN</td>\n",
       "      <td>NaN</td>\n",
       "      <td>2</td>\n",
       "      <td>½</td>\n",
       "      <td>NaN</td>\n",
       "      <td>NaN</td>\n",
       "      <td>NaN</td>\n",
       "      <td>NaN</td>\n",
       "      <td>NaN</td>\n",
       "      <td>NaN</td>\n",
       "      <td>2</td>\n",
       "      <td>2</td>\n",
       "      <td>½</td>\n",
       "      <td>NaN</td>\n",
       "    </tr>\n",
       "  </tbody>\n",
       "</table>\n",
       "</div>"
      ],
      "text/plain": [
       "   Atk_Type/Pokemon_Type  Normal Fire Water Electric Grass  Ice Fighting  \\\n",
       "0                 Normal     NaN  NaN   NaN      NaN   NaN  NaN      NaN   \n",
       "1                   Fire     NaN    ½     ½      NaN     2    2      NaN   \n",
       "2                  Water     NaN    2     ½      NaN     ½  NaN      NaN   \n",
       "3               Electric     NaN  NaN     2        ½     ½  NaN      NaN   \n",
       "4                  Grass     NaN    ½     2      NaN     ½  NaN      NaN   \n",
       "5                    Ice     NaN    ½     ½      NaN     2    ½      NaN   \n",
       "6               Fighting     2.0  NaN   NaN      NaN   NaN    2      NaN   \n",
       "7                 Poison     NaN  NaN   NaN      NaN     2  NaN      NaN   \n",
       "8                 Ground     NaN    2   NaN        2     ½  NaN      NaN   \n",
       "9                 Flying     NaN  NaN   NaN        ½     2  NaN        2   \n",
       "10               Psychic     NaN  NaN   NaN      NaN   NaN  NaN        2   \n",
       "11                   Bug     NaN    ½   NaN      NaN     2  NaN        ½   \n",
       "12                  Rock     NaN    2   NaN      NaN   NaN    2        ½   \n",
       "13                 Ghost     0.0  NaN   NaN      NaN   NaN  NaN      NaN   \n",
       "14                Dragon     NaN  NaN   NaN      NaN   NaN  NaN      NaN   \n",
       "15                  Dark     NaN  NaN   NaN      NaN   NaN  NaN        ½   \n",
       "16                 Steel     NaN    ½     ½        ½   NaN    2      NaN   \n",
       "17                 Fairy     NaN    ½   NaN      NaN   NaN  NaN        2   \n",
       "\n",
       "   Poison Ground Flying Psychic  Bug Rock Ghost Dragon Dark Steel Fairy  \n",
       "0     NaN    NaN    NaN     NaN  NaN    ½     0    NaN  NaN     ½   NaN  \n",
       "1     NaN    NaN    NaN     NaN    2    ½   NaN      ½  NaN     2   NaN  \n",
       "2     NaN      2    NaN     NaN  NaN    2   NaN      ½  NaN   NaN   NaN  \n",
       "3     NaN      0      2     NaN  NaN  NaN   NaN      ½  NaN   NaN   NaN  \n",
       "4       ½      2      ½     NaN    ½    2   NaN      ½  NaN     ½   NaN  \n",
       "5     NaN      2      2     NaN  NaN  NaN   NaN      2  NaN     ½   NaN  \n",
       "6       ½    NaN      ½       ½    ½    2     0    NaN    2     2     ½  \n",
       "7       ½      ½    NaN     NaN  NaN    ½     ½    NaN  NaN     0     2  \n",
       "8       2    NaN      0     NaN    ½    2   NaN    NaN  NaN     2   NaN  \n",
       "9     NaN    NaN    NaN     NaN    2    ½   NaN    NaN  NaN     ½   NaN  \n",
       "10      2    NaN    NaN       ½  NaN  NaN   NaN    NaN    0     ½   NaN  \n",
       "11      ½    NaN      ½       2  NaN  NaN     ½    NaN    2     ½     ½  \n",
       "12    NaN      ½      2     NaN    2  NaN   NaN    NaN  NaN     ½   NaN  \n",
       "13    NaN    NaN    NaN       2  NaN  NaN     2    NaN    ½   NaN   NaN  \n",
       "14    NaN    NaN    NaN     NaN  NaN  NaN   NaN      2  NaN     ½     0  \n",
       "15    NaN    NaN    NaN       2  NaN  NaN     2    NaN    ½   NaN     ½  \n",
       "16    NaN    NaN    NaN     NaN  NaN    2   NaN    NaN  NaN     ½     2  \n",
       "17      ½    NaN    NaN     NaN  NaN  NaN   NaN      2    2     ½   NaN  "
      ]
     },
     "execution_count": 42,
     "metadata": {},
     "output_type": "execute_result"
    }
   ],
   "source": [
    "typechart_df"
   ]
  },
  {
   "cell_type": "code",
   "execution_count": 44,
   "id": "1c1e1515",
   "metadata": {
    "ExecuteTime": {
     "end_time": "2022-04-21T13:11:19.184682Z",
     "start_time": "2022-04-21T13:11:19.167215Z"
    },
    "hidden": true
   },
   "outputs": [],
   "source": [
    "typechart_json = json.dumps(list(typechart_df.agg(lambda x: x.dropna().to_dict(), axis=1)), indent = 4, ensure_ascii=False)\n",
    "# JSON\n",
    "with open('./Scraping_datasets/pokemondb/typechart.json', 'w', encoding='utf8') as outfile:\n",
    "    outfile.write(typechart_json)\n",
    "# CSV\n",
    "typechart_df.to_csv('./Scraping_datasets/pokemondb/typechart.csv', na_rep=\"NA\")"
   ]
  },
  {
   "cell_type": "markdown",
   "id": "5640a18e",
   "metadata": {
    "heading_collapsed": true
   },
   "source": [
    "# 2. `Pikalytics` Series 12 VGC 2022 (Apr 22)"
   ]
  },
  {
   "cell_type": "markdown",
   "id": "557f73f6",
   "metadata": {
    "heading_collapsed": true,
    "hidden": true
   },
   "source": [
    "## Selenium"
   ]
  },
  {
   "cell_type": "markdown",
   "id": "c40d80e4",
   "metadata": {
    "hidden": true
   },
   "source": [
    "- *Lista dei pokemon registrati e link alle specifiche pagine*"
   ]
  },
  {
   "cell_type": "code",
   "execution_count": 197,
   "id": "0c99fd54",
   "metadata": {
    "ExecuteTime": {
     "end_time": "2022-04-20T22:12:45.747502Z",
     "start_time": "2022-04-20T22:12:42.738912Z"
    },
    "hidden": true
   },
   "outputs": [],
   "source": [
    "driver = webdriver.Edge('msedgedriver')"
   ]
  },
  {
   "cell_type": "code",
   "execution_count": 198,
   "id": "e8b89cb8",
   "metadata": {
    "ExecuteTime": {
     "end_time": "2022-04-20T22:12:53.402198Z",
     "start_time": "2022-04-20T22:12:46.505399Z"
    },
    "hidden": true
   },
   "outputs": [],
   "source": [
    "driver.get('https://pikalytics.com/pokedex/ss/')"
   ]
  },
  {
   "cell_type": "code",
   "execution_count": 199,
   "id": "26bc429c",
   "metadata": {
    "ExecuteTime": {
     "end_time": "2022-04-20T22:12:54.202899Z",
     "start_time": "2022-04-20T22:12:54.188811Z"
    },
    "hidden": true
   },
   "outputs": [
    {
     "data": {
      "text/plain": [
       "'VGC 2022 Series 12 Stats Pokédex | Pokémon | Pikalytics'"
      ]
     },
     "execution_count": 199,
     "metadata": {},
     "output_type": "execute_result"
    }
   ],
   "source": [
    "driver.title"
   ]
  },
  {
   "cell_type": "markdown",
   "id": "8cfa4705",
   "metadata": {
    "hidden": true
   },
   "source": [
    "Seleziono la porzione di scermo di interesse"
   ]
  },
  {
   "cell_type": "code",
   "execution_count": 202,
   "id": "179b3dbb",
   "metadata": {
    "ExecuteTime": {
     "end_time": "2022-04-20T22:13:06.636694Z",
     "start_time": "2022-04-20T22:13:06.612451Z"
    },
    "hidden": true
   },
   "outputs": [],
   "source": [
    "pokemon_list = driver.find_element(by = 'xpath', value = '//*[@id=\"pokedex_wrapper\"]')"
   ]
  },
  {
   "cell_type": "markdown",
   "id": "086d2a18",
   "metadata": {
    "hidden": true
   },
   "source": [
    "Scrollo in modo tale da mostrare tutti i pokemon nell'HTML"
   ]
  },
  {
   "cell_type": "code",
   "execution_count": 203,
   "id": "ede3ee73",
   "metadata": {
    "ExecuteTime": {
     "end_time": "2022-04-20T22:13:07.561892Z",
     "start_time": "2022-04-20T22:13:07.547971Z"
    },
    "hidden": true
   },
   "outputs": [],
   "source": [
    "from selenium.webdriver.common.action_chains import ActionChains"
   ]
  },
  {
   "cell_type": "markdown",
   "id": "33081311",
   "metadata": {
    "hidden": true
   },
   "source": [
    "Muovo il cursore sulla lista (non serve, funziona anche il tab da solo)"
   ]
  },
  {
   "cell_type": "code",
   "execution_count": 204,
   "id": "794feb9d",
   "metadata": {
    "ExecuteTime": {
     "end_time": "2022-04-20T22:13:20.961015Z",
     "start_time": "2022-04-20T22:13:08.661860Z"
    },
    "hidden": true
   },
   "outputs": [],
   "source": [
    "actions = ActionChains(driver)\n",
    "actions.move_to_element(pokemon_list).perform()"
   ]
  },
  {
   "cell_type": "markdown",
   "id": "c7346eaa",
   "metadata": {
    "hidden": true
   },
   "source": [
    "Faccio tabbare un numero molto superiore al numero di pokemon in modo da assicurarmi che vengano mostrati tutti"
   ]
  },
  {
   "cell_type": "code",
   "execution_count": 205,
   "id": "e85af47a",
   "metadata": {
    "ExecuteTime": {
     "end_time": "2022-04-20T22:14:30.377971Z",
     "start_time": "2022-04-20T22:13:23.256523Z"
    },
    "hidden": true
   },
   "outputs": [],
   "source": [
    "for i in range(1,10000):\n",
    "    actions.key_down(value = '\\ue004').perform()"
   ]
  },
  {
   "cell_type": "markdown",
   "id": "0be5ad0f",
   "metadata": {
    "hidden": true
   },
   "source": [
    "Estraggo il HTMLResponse Object dalla pagina ora completamente caricata"
   ]
  },
  {
   "cell_type": "code",
   "execution_count": 99,
   "id": "f75a5010",
   "metadata": {
    "ExecuteTime": {
     "end_time": "2022-04-20T17:32:07.370424Z",
     "start_time": "2022-04-20T17:32:07.268791Z"
    },
    "hidden": true
   },
   "outputs": [],
   "source": [
    "pikalytics_page = driver.page_source"
   ]
  },
  {
   "cell_type": "code",
   "execution_count": 100,
   "id": "a82b6872",
   "metadata": {
    "ExecuteTime": {
     "end_time": "2022-04-20T17:33:06.351631Z",
     "start_time": "2022-04-20T17:32:59.852668Z"
    },
    "hidden": true
   },
   "outputs": [],
   "source": [
    "driver.close()\n",
    "driver.quit()"
   ]
  },
  {
   "cell_type": "markdown",
   "id": "c189b104",
   "metadata": {
    "heading_collapsed": true,
    "hidden": true
   },
   "source": [
    "## bs4"
   ]
  },
  {
   "cell_type": "markdown",
   "id": "d7acda45",
   "metadata": {
    "hidden": true
   },
   "source": [
    "- *Estraggo la lista dal HTTPResponse Object sottenuto con selenium*"
   ]
  },
  {
   "cell_type": "code",
   "execution_count": 102,
   "id": "7fb2d160",
   "metadata": {
    "ExecuteTime": {
     "end_time": "2022-04-20T17:35:31.919833Z",
     "start_time": "2022-04-20T17:35:31.545187Z"
    },
    "hidden": true
   },
   "outputs": [],
   "source": [
    "pikalytics_soup = BeautifulSoup(pikalytics_page, features='html.parser')"
   ]
  },
  {
   "cell_type": "code",
   "execution_count": 135,
   "id": "032e15ea",
   "metadata": {
    "ExecuteTime": {
     "end_time": "2022-04-21T16:01:57.765361Z",
     "start_time": "2022-04-21T16:01:57.761319Z"
    },
    "hidden": true,
    "scrolled": true
   },
   "outputs": [],
   "source": [
    "#print(pikalytics_soup.prettify())"
   ]
  },
  {
   "cell_type": "markdown",
   "id": "d876b2ee",
   "metadata": {
    "hidden": true
   },
   "source": [
    "### Lista dei link alle pagine dei singoli pokemon"
   ]
  },
  {
   "cell_type": "code",
   "execution_count": 108,
   "id": "791aecc3",
   "metadata": {
    "ExecuteTime": {
     "end_time": "2022-04-20T17:41:58.265173Z",
     "start_time": "2022-04-20T17:41:58.250087Z"
    },
    "hidden": true
   },
   "outputs": [],
   "source": [
    "pikalytics_pkm_min_list_ul = pikalytics_soup.find(id = \"min_list\")"
   ]
  },
  {
   "cell_type": "code",
   "execution_count": 212,
   "id": "9c43cf7b",
   "metadata": {
    "ExecuteTime": {
     "end_time": "2022-04-20T22:19:33.584495Z",
     "start_time": "2022-04-20T22:19:33.567279Z"
    },
    "hidden": true
   },
   "outputs": [],
   "source": [
    "pikalytics_pkm_min_list_a = pikalytics_pkm_min_list_ul.find_all('a', recursive=False)"
   ]
  },
  {
   "cell_type": "code",
   "execution_count": 214,
   "id": "5cc9bc22",
   "metadata": {
    "ExecuteTime": {
     "end_time": "2022-04-20T22:19:39.168103Z",
     "start_time": "2022-04-20T22:19:39.149885Z"
    },
    "hidden": true
   },
   "outputs": [],
   "source": [
    "pikalytics_pkm_min_list_links = []"
   ]
  },
  {
   "cell_type": "code",
   "execution_count": 215,
   "id": "adf99d9d",
   "metadata": {
    "ExecuteTime": {
     "end_time": "2022-04-20T22:19:40.574475Z",
     "start_time": "2022-04-20T22:19:40.560380Z"
    },
    "hidden": true
   },
   "outputs": [],
   "source": [
    "for i in pikalytics_pkm_min_list_a:\n",
    "    pikalytics_pkm_min_list_links.append(i['href'])"
   ]
  },
  {
   "cell_type": "code",
   "execution_count": 136,
   "id": "ffa60133",
   "metadata": {
    "ExecuteTime": {
     "end_time": "2022-04-21T16:02:05.868796Z",
     "start_time": "2022-04-21T16:02:05.852457Z"
    },
    "hidden": true,
    "scrolled": true
   },
   "outputs": [],
   "source": [
    "#pikalytics_pkm_min_list_links"
   ]
  },
  {
   "cell_type": "markdown",
   "id": "61582b5b",
   "metadata": {
    "hidden": true
   },
   "source": [
    "### Definizione Dataset Vuoti"
   ]
  },
  {
   "cell_type": "code",
   "execution_count": 430,
   "id": "8ee46219",
   "metadata": {
    "ExecuteTime": {
     "end_time": "2022-04-21T02:10:07.735175Z",
     "start_time": "2022-04-21T02:10:07.718951Z"
    },
    "hidden": true
   },
   "outputs": [],
   "source": [
    "usage_S12VGC_columns = ['Pokemon', 'Monthly Usage (k)', 'Usage Percent (%)', 'Monthly Rank']\n",
    "usage_S12VGC = pd.DataFrame(columns = usage_S12VGC_columns)\n",
    "\n",
    "basestats_S12VGC_columns = ['Pokemon', 'HP', 'Atk', 'Def', 'SpA', 'SpD', 'Spe']\n",
    "basestats_S12VGC = pd.DataFrame(columns = basestats_S12VGC_columns)\n",
    "\n",
    "moves_S12VGC_columns = ['Pokemon', 'Move', 'Type', 'Use_Percentage (%)']\n",
    "moves_S12VGC = pd.DataFrame(columns = moves_S12VGC_columns)\n",
    "                            \n",
    "teammates_S12VGC_columns = ['Pokemon', 'Teammate', 'Use_Percentage (%)']\n",
    "teammates_S12VGC = pd.DataFrame(columns = teammates_S12VGC_columns)\n",
    "                            \n",
    "items_S12VGC_columns = ['Pokemon', 'Item', 'Use_Percentage (%)']\n",
    "items_S12VGC = pd.DataFrame(columns = items_S12VGC_columns)\n",
    "                            \n",
    "abilities_S12VGC_columns = ['Pokemon', 'Ability', 'Use_Percentage (%)']\n",
    "abilities_S12VGC = pd.DataFrame(columns = abilities_S12VGC_columns)\n",
    "                            \n",
    "EV_spread_S12VGC_columns = ['Pokemon', 'Nature', 'HP/Atk/Def/SpA/SpD/Spe', 'Use_Percentage (%)']\n",
    "EV_spread_S12VGC = pd.DataFrame(columns = EV_spread_S12VGC_columns)"
   ]
  },
  {
   "cell_type": "markdown",
   "id": "679b03ab",
   "metadata": {
    "hidden": true
   },
   "source": [
    "### Scraping bs4"
   ]
  },
  {
   "cell_type": "code",
   "execution_count": 431,
   "id": "500ce1ae",
   "metadata": {
    "ExecuteTime": {
     "end_time": "2022-04-21T02:20:31.508088Z",
     "start_time": "2022-04-21T02:10:08.843796Z"
    },
    "hidden": true,
    "scrolled": true
   },
   "outputs": [
    {
     "name": "stdout",
     "output_type": "stream",
     "text": [
      "Avanzamento: 634/662 - Pokemon: Gourgeist-Large\n"
     ]
    }
   ],
   "source": [
    "from IPython.display import clear_output\n",
    "lista_dei_vuoti = []\n",
    "for i, link in enumerate(pikalytics_pkm_min_list_links):\n",
    "    \n",
    "    #print(link)\n",
    "    \n",
    "    # Acquisizione soup pagina specifica\n",
    "    \n",
    "    pikalytics_pkm_URL = \"https://pikalytics.com\" + link\n",
    "    pikalytics_pkm_page = requests.get(pikalytics_pkm_URL)\n",
    "    pikalytics_pkm_soup = BeautifulSoup(pikalytics_pkm_page.content,\n",
    "                                        features='html.parser')\n",
    "    \n",
    "    ## Controllo che la pagina esista verificando che compaia il nome del pokemon\n",
    "    if (pikalytics_pkm_soup.find('h1') == None):\n",
    "        lista_dei_vuoti.append(link)\n",
    "        continue\n",
    "    \n",
    "    pikalytics_pkm_name = (pikalytics_pkm_soup.find('h1').text)\n",
    "\n",
    "    # Avanzamento\n",
    "    print(\n",
    "        f'Avanzamento: {i}/{len(pikalytics_pkm_min_list_links)} - Pokemon: {pikalytics_pkm_name}'\n",
    "    )\n",
    "\n",
    "    # Usage Stats\n",
    "\n",
    "    pikalytics_pkm_usagestats_temp = [f'{pikalytics_pkm_name}']\n",
    "    pikalytics_pkm_usagestats_div = pikalytics_pkm_soup.find(\n",
    "        'div', class_=\"header-div-right header-div-right-margin\").find_all(\n",
    "            'div', class_='pokemon-ind-summary-text')\n",
    "    ## Prima controllo che ci sia la tabella (Alcune volte i dati non sono disponibili)\n",
    "    if (len(pikalytics_pkm_usagestats_div) < 3):\n",
    "        pikalytics_pkm_usagestats_temp = [f'{pikalytics_pkm_name}', '-', '-', '-']\n",
    "    else:\n",
    "        for e, stat in enumerate(pikalytics_pkm_usagestats_div):\n",
    "            if (e == 2):\n",
    "                pikalytics_pkm_usagestats_temp.append(stat.contents[1])\n",
    "            else:\n",
    "                pikalytics_pkm_usagestats_temp.append(stat.contents[0])\n",
    "    ## Trasformo riga in serie e appendo\n",
    "    usagestats_series = pd.Series(pikalytics_pkm_usagestats_temp,\n",
    "                                  index=usage_S12VGC.columns)\n",
    "    usage_S12VGC = usage_S12VGC.append(usagestats_series, ignore_index=True)\n",
    "\n",
    "    # Base Stats\n",
    "\n",
    "    pikalytics_pkm_basestats_temp = [f'{pikalytics_pkm_name}']\n",
    "    pikalytics_pkm_basestats_stat_wrapper = pikalytics_pkm_soup.find(\n",
    "        'div', id='bstats_wrapper').find('div',\n",
    "                                         recursive=False).find('div',\n",
    "                                                               recursive=False)\n",
    "    ## Prima controllo che ci sia la tabella (Alcune volte i dati non sono disponibili)\n",
    "    if pikalytics_pkm_basestats_stat_wrapper:\n",
    "        pikalytics_pkm_basestats_stat_div = pikalytics_pkm_basestats_stat_wrapper.find_all(\n",
    "            'div', recursive=False)\n",
    "        for stat in pikalytics_pkm_basestats_stat_div:\n",
    "            pikalytics_pkm_basestats_temp.append(\n",
    "                stat.find_all('div', recursive=False)[1].text)\n",
    "        ## Trasformo riga in serie e appendo\n",
    "        base_stat_series = pd.Series(pikalytics_pkm_basestats_temp,\n",
    "                                     index=basestats_S12VGC.columns)\n",
    "        basestat_S12VGC = basestat_S12VGC.append(base_stat_series,\n",
    "                                                 ignore_index=True)\n",
    "    # Moves Stats\n",
    "\n",
    "    pikalytics_pkm_moves_wrapper = pikalytics_pkm_soup.find(id=\"moves_wrapper\")\n",
    "    pikalytics_pkm_moves_div = pikalytics_pkm_moves_wrapper.find_all(\n",
    "        'div', class_=\"pokedex-move-entry-new\")\n",
    "    for moves in pikalytics_pkm_moves_div:\n",
    "        # In questo caso, essendoci più mosse consigliate per ogni pokemon, dobbiamo creare una lista per ogni mossa (una riga nel dataframe)\n",
    "        pikalytics_pkm_moves_temp = [f'{pikalytics_pkm_name}']\n",
    "        ## Prima controllo che ci sia la tabella (Alcune volte i dati non sono disponibili)\n",
    "        if not moves.find_all('div', recursive=False):\n",
    "            break\n",
    "        # Vado ad aggiungere separatamente le 3 variabili\n",
    "        move = moves.find_all('div', recursive=False)\n",
    "        pikalytics_pkm_moves_temp.append(move[0].text)\n",
    "        pikalytics_pkm_moves_temp.append(move[1].find('span').text)\n",
    "        pikalytics_pkm_moves_temp.append(move[2].text)\n",
    "        ## Trasformo riga in serie e appendo\n",
    "        moves_series = pd.Series(pikalytics_pkm_moves_temp,\n",
    "                                 index=moves_S12VGC.columns)\n",
    "        moves_S12VGC = moves_S12VGC.append(moves_series, ignore_index=True)\n",
    "\n",
    "    # Teammates Stats\n",
    "\n",
    "    pikalytics_pkm_teammates_wrapper = pikalytics_pkm_soup.find(\n",
    "        id=\"dex_team_wrapper\")\n",
    "    pikalytics_pkm_teammates_div = pikalytics_pkm_teammates_wrapper.find_all(\n",
    "        'a', class_=\"teammate_entry\", recursive=False)\n",
    "    for teammates in pikalytics_pkm_teammates_div:\n",
    "        # In questo caso, essendoci più teammates consigliaie per ogni pokemon, dobbiamo creare una lista per ogni teammate (una riga nel dataframe)\n",
    "        pikalytics_pkm_teammates_temp = [f'{pikalytics_pkm_name}']\n",
    "        ## Prima controllo che ci sia la tabella (Alcune volte i dati non sono disponibili)\n",
    "        if not teammates.find_all('div', recursive=False):\n",
    "            break\n",
    "        # Vado ad aggiungere separatamente le 2 variabili\n",
    "        pikalytics_pkm_teammates_temp.append(teammates['data-name'])\n",
    "        pikalytics_pkm_teammates_temp.append(\n",
    "            teammates.find_all('div', recursive=False)[3].text)\n",
    "        ## Trasformo riga in serie e appendo\n",
    "        #print(pikalytics_pkm_teammates_temp)\n",
    "        teammates_series = pd.Series(pikalytics_pkm_teammates_temp,\n",
    "                                     index=teammates_S12VGC.columns)\n",
    "        teammates_S12VGC = teammates_S12VGC.append(teammates_series,\n",
    "                                                   ignore_index=True)\n",
    "\n",
    "    # Items Stats\n",
    "\n",
    "    pikalytics_pkm_items_wrapper = pikalytics_pkm_soup.find(\n",
    "        id=\"items_wrapper\").find('div')\n",
    "    pikalytics_pkm_items_div = pikalytics_pkm_items_wrapper.find_all(\n",
    "        'div', recursive=False)\n",
    "    for item in pikalytics_pkm_items_div:\n",
    "        # In questo caso, essendoci più teammates consigliaie per ogni pokemon, dobbiamo creare una lista per ogni teammate (una riga nel dataframe)\n",
    "        pikalytics_pkm_items_temp = [f'{pikalytics_pkm_name}']\n",
    "        ## Prima controllo che ci sia la tabella (Alcune volte i dati non sono disponibili)\n",
    "        if not item.find_all('div', recursive=False):\n",
    "            break\n",
    "        # Vado ad aggiungere separatamente le 2 variabili\n",
    "        pikalytics_pkm_items_temp.append(\n",
    "            item.find_all('div', recursive=False)[1].text)\n",
    "        pikalytics_pkm_items_temp.append(\n",
    "            item.find_all('div', recursive=False)[2].text)\n",
    "        ## Trasformo riga in serie e appendo\n",
    "        #print(pikalytics_pkm_teammates_temp)\n",
    "        items_series = pd.Series(pikalytics_pkm_items_temp,\n",
    "                                 index=items_S12VGC.columns)\n",
    "        items_S12VGC = items_S12VGC.append(items_series, ignore_index=True)\n",
    "    \n",
    "    # Abilities\n",
    "\n",
    "    pikalytics_pkm_abilities_wrapper = pikalytics_pkm_soup.find(\n",
    "        id=\"abilities_wrapper\").find('div')\n",
    "    pikalytics_pkm_abilities_div = pikalytics_pkm_abilities_wrapper.find_all(\n",
    "        'div', recursive=False)\n",
    "    for ability in pikalytics_pkm_abilities_div:\n",
    "        # In questo caso, essendoci più teammates consigliaie per ogni pokemon, dobbiamo creare una lista per ogni teammate (una riga nel dataframe)\n",
    "        pikalytics_pkm_abilities_temp = [f'{pikalytics_pkm_name}']\n",
    "        # Vado ad aggiungere separatamente le 2 variabili\n",
    "        ## Prima controllo che ci sia la tabella (Alcune volte i dati non sono disponibili)\n",
    "        if not ability.find_all('div', recursive=False):\n",
    "            break\n",
    "        pikalytics_pkm_abilities_temp.append(\n",
    "            ability.find_all('div', recursive=False)[0].text)\n",
    "        pikalytics_pkm_abilities_temp.append(\n",
    "            ability.find_all('div', recursive=False)[1].text)\n",
    "        ## Trasformo riga in serie e appendo\n",
    "        #print(pikalytics_pkm_teammates_temp)\n",
    "        abilities_series = pd.Series(pikalytics_pkm_abilities_temp,\n",
    "                                 index=abilities_S12VGC.columns)\n",
    "        abilities_S12VGC = abilities_S12VGC.append(abilities_series, ignore_index=True)\n",
    "        \n",
    "    # ev_spread\n",
    "\n",
    "    pikalytics_pkm_ev_spread_wrapper = pikalytics_pkm_soup.find(\n",
    "        id=\"dex_spreads_wrapper\").find('div')\n",
    "    pikalytics_pkm_ev_spread_div = pikalytics_pkm_ev_spread_wrapper.find_all(\n",
    "        'div', recursive=False)\n",
    "    for ev_spread in pikalytics_pkm_ev_spread_div:\n",
    "        # In questo caso, essendoci più teammates consigliaie per ogni pokemon, dobbiamo creare una lista per ogni teammate (una riga nel dataframe)\n",
    "        pikalytics_pkm_ev_spread_temp = [f'{pikalytics_pkm_name}']\n",
    "        # Vado ad aggiungere separatamente le 3 variabili\n",
    "        ## Prima controllo che ci sia la tabella (Alcune volte i dati non sono disponibili)\n",
    "        if not ev_spread.find_all('div', recursive=False):\n",
    "            break\n",
    "        ## Natura\n",
    "        pikalytics_pkm_ev_spread_temp.append(\n",
    "            ev_spread.find_all('div', recursive=False)[0].text)\n",
    "        ## Spreads li vado a sommare per ottenere un'unica stat\n",
    "        spread_div = ev_spread.find_all('div', recursive=False)[1:7]\n",
    "        spread_temp = \"\"\n",
    "        for ev in (ev_spread.find_all('div', recursive=False)[1:7]):\n",
    "            spread_temp += ev.text\n",
    "        pikalytics_pkm_ev_spread_temp.append(spread_temp)\n",
    "        ## Percentage\n",
    "        pikalytics_pkm_ev_spread_temp.append(\n",
    "            ev_spread.find_all('div', recursive=False)[7].text)\n",
    "        ## Trasformo riga in serie e appendo\n",
    "        #print(pikalytics_pkm_ev_spread_temp)\n",
    "        ev_spread_series = pd.Series(pikalytics_pkm_ev_spread_temp,\n",
    "                                 index=EV_spread_S12VGC.columns)\n",
    "        EV_spread_S12VGC = EV_spread_S12VGC.append(ev_spread_series, ignore_index=True)\n",
    "    clear_output(wait=True)\n",
    "    #if (i > 5):\n",
    "    #    break"
   ]
  },
  {
   "cell_type": "markdown",
   "id": "212d62b8",
   "metadata": {
    "hidden": true
   },
   "source": [
    "## Dataset Ottenuti"
   ]
  },
  {
   "cell_type": "code",
   "execution_count": 137,
   "id": "cc392b53",
   "metadata": {
    "ExecuteTime": {
     "end_time": "2022-04-21T16:02:36.229441Z",
     "start_time": "2022-04-21T16:02:36.226358Z"
    },
    "hidden": true
   },
   "outputs": [],
   "source": [
    "#lista_dei_vuoti"
   ]
  },
  {
   "cell_type": "code",
   "execution_count": 433,
   "id": "7d2946a9",
   "metadata": {
    "ExecuteTime": {
     "end_time": "2022-04-21T02:20:33.856422Z",
     "start_time": "2022-04-21T02:20:33.844418Z"
    },
    "hidden": true
   },
   "outputs": [
    {
     "data": {
      "text/html": [
       "<div>\n",
       "<style scoped>\n",
       "    .dataframe tbody tr th:only-of-type {\n",
       "        vertical-align: middle;\n",
       "    }\n",
       "\n",
       "    .dataframe tbody tr th {\n",
       "        vertical-align: top;\n",
       "    }\n",
       "\n",
       "    .dataframe thead th {\n",
       "        text-align: right;\n",
       "    }\n",
       "</style>\n",
       "<table border=\"1\" class=\"dataframe\">\n",
       "  <thead>\n",
       "    <tr style=\"text-align: right;\">\n",
       "      <th></th>\n",
       "      <th>Pokemon</th>\n",
       "      <th>Monthly Usage (k)</th>\n",
       "      <th>Usage Percent (%)</th>\n",
       "      <th>Monthly Rank</th>\n",
       "    </tr>\n",
       "  </thead>\n",
       "  <tbody>\n",
       "    <tr>\n",
       "      <th>0</th>\n",
       "      <td>Zacian-Crowned</td>\n",
       "      <td>1088</td>\n",
       "      <td>65</td>\n",
       "      <td>1</td>\n",
       "    </tr>\n",
       "    <tr>\n",
       "      <th>1</th>\n",
       "      <td>Incineroar</td>\n",
       "      <td>1124</td>\n",
       "      <td>59</td>\n",
       "      <td>2</td>\n",
       "    </tr>\n",
       "    <tr>\n",
       "      <th>2</th>\n",
       "      <td>Kyogre</td>\n",
       "      <td>744</td>\n",
       "      <td>35</td>\n",
       "      <td>3</td>\n",
       "    </tr>\n",
       "    <tr>\n",
       "      <th>3</th>\n",
       "      <td>Grimmsnarl</td>\n",
       "      <td>577</td>\n",
       "      <td>30</td>\n",
       "      <td>4</td>\n",
       "    </tr>\n",
       "    <tr>\n",
       "      <th>4</th>\n",
       "      <td>Regieleki</td>\n",
       "      <td>603</td>\n",
       "      <td>29</td>\n",
       "      <td>5</td>\n",
       "    </tr>\n",
       "    <tr>\n",
       "      <th>...</th>\n",
       "      <td>...</td>\n",
       "      <td>...</td>\n",
       "      <td>...</td>\n",
       "      <td>...</td>\n",
       "    </tr>\n",
       "    <tr>\n",
       "      <th>337</th>\n",
       "      <td>Steelix</td>\n",
       "      <td>-</td>\n",
       "      <td>-</td>\n",
       "      <td>-</td>\n",
       "    </tr>\n",
       "    <tr>\n",
       "      <th>338</th>\n",
       "      <td>Noctowl</td>\n",
       "      <td>-</td>\n",
       "      <td>-</td>\n",
       "      <td>-</td>\n",
       "    </tr>\n",
       "    <tr>\n",
       "      <th>339</th>\n",
       "      <td>Corsola</td>\n",
       "      <td>-</td>\n",
       "      <td>-</td>\n",
       "      <td>-</td>\n",
       "    </tr>\n",
       "    <tr>\n",
       "      <th>340</th>\n",
       "      <td>Mime Jr.</td>\n",
       "      <td>-</td>\n",
       "      <td>-</td>\n",
       "      <td>-</td>\n",
       "    </tr>\n",
       "    <tr>\n",
       "      <th>341</th>\n",
       "      <td>Gourgeist-Large</td>\n",
       "      <td>-</td>\n",
       "      <td>-</td>\n",
       "      <td>-</td>\n",
       "    </tr>\n",
       "  </tbody>\n",
       "</table>\n",
       "<p>342 rows × 4 columns</p>\n",
       "</div>"
      ],
      "text/plain": [
       "             Pokemon Monthly Usage (k) Usage Percent (%) Monthly Rank\n",
       "0     Zacian-Crowned              1088                65            1\n",
       "1         Incineroar              1124                59            2\n",
       "2             Kyogre               744                35            3\n",
       "3         Grimmsnarl               577                30            4\n",
       "4          Regieleki               603                29            5\n",
       "..               ...               ...               ...          ...\n",
       "337          Steelix                 -                 -            -\n",
       "338          Noctowl                 -                 -            -\n",
       "339          Corsola                 -                 -            -\n",
       "340         Mime Jr.                 -                 -            -\n",
       "341  Gourgeist-Large                 -                 -            -\n",
       "\n",
       "[342 rows x 4 columns]"
      ]
     },
     "metadata": {},
     "output_type": "display_data"
    }
   ],
   "source": [
    "display(usage_S12VGC)"
   ]
  },
  {
   "cell_type": "code",
   "execution_count": 434,
   "id": "564a8d20",
   "metadata": {
    "ExecuteTime": {
     "end_time": "2022-04-21T02:20:35.113975Z",
     "start_time": "2022-04-21T02:20:35.099912Z"
    },
    "hidden": true
   },
   "outputs": [
    {
     "data": {
      "text/html": [
       "<div>\n",
       "<style scoped>\n",
       "    .dataframe tbody tr th:only-of-type {\n",
       "        vertical-align: middle;\n",
       "    }\n",
       "\n",
       "    .dataframe tbody tr th {\n",
       "        vertical-align: top;\n",
       "    }\n",
       "\n",
       "    .dataframe thead th {\n",
       "        text-align: right;\n",
       "    }\n",
       "</style>\n",
       "<table border=\"1\" class=\"dataframe\">\n",
       "  <thead>\n",
       "    <tr style=\"text-align: right;\">\n",
       "      <th></th>\n",
       "      <th>Pokemon</th>\n",
       "      <th>HP</th>\n",
       "      <th>Atk</th>\n",
       "      <th>Def</th>\n",
       "      <th>SpA</th>\n",
       "      <th>SpD</th>\n",
       "      <th>Spe</th>\n",
       "    </tr>\n",
       "  </thead>\n",
       "  <tbody>\n",
       "    <tr>\n",
       "      <th>0</th>\n",
       "      <td>Zacian-Crowned</td>\n",
       "      <td>92</td>\n",
       "      <td>170</td>\n",
       "      <td>115</td>\n",
       "      <td>80</td>\n",
       "      <td>115</td>\n",
       "      <td>148</td>\n",
       "    </tr>\n",
       "    <tr>\n",
       "      <th>1</th>\n",
       "      <td>Grimmsnarl</td>\n",
       "      <td>95</td>\n",
       "      <td>120</td>\n",
       "      <td>65</td>\n",
       "      <td>95</td>\n",
       "      <td>75</td>\n",
       "      <td>60</td>\n",
       "    </tr>\n",
       "    <tr>\n",
       "      <th>2</th>\n",
       "      <td>Regieleki</td>\n",
       "      <td>80</td>\n",
       "      <td>100</td>\n",
       "      <td>50</td>\n",
       "      <td>100</td>\n",
       "      <td>50</td>\n",
       "      <td>200</td>\n",
       "    </tr>\n",
       "    <tr>\n",
       "      <th>3</th>\n",
       "      <td>Rillaboom</td>\n",
       "      <td>100</td>\n",
       "      <td>125</td>\n",
       "      <td>90</td>\n",
       "      <td>60</td>\n",
       "      <td>70</td>\n",
       "      <td>85</td>\n",
       "    </tr>\n",
       "    <tr>\n",
       "      <th>4</th>\n",
       "      <td>Calyrex-Shadow</td>\n",
       "      <td>100</td>\n",
       "      <td>85</td>\n",
       "      <td>80</td>\n",
       "      <td>165</td>\n",
       "      <td>100</td>\n",
       "      <td>150</td>\n",
       "    </tr>\n",
       "    <tr>\n",
       "      <th>...</th>\n",
       "      <td>...</td>\n",
       "      <td>...</td>\n",
       "      <td>...</td>\n",
       "      <td>...</td>\n",
       "      <td>...</td>\n",
       "      <td>...</td>\n",
       "      <td>...</td>\n",
       "    </tr>\n",
       "    <tr>\n",
       "      <th>1420</th>\n",
       "      <td>Steelix</td>\n",
       "      <td>75</td>\n",
       "      <td>85</td>\n",
       "      <td>200</td>\n",
       "      <td>55</td>\n",
       "      <td>65</td>\n",
       "      <td>30</td>\n",
       "    </tr>\n",
       "    <tr>\n",
       "      <th>1421</th>\n",
       "      <td>Noctowl</td>\n",
       "      <td>100</td>\n",
       "      <td>50</td>\n",
       "      <td>50</td>\n",
       "      <td>86</td>\n",
       "      <td>96</td>\n",
       "      <td>70</td>\n",
       "    </tr>\n",
       "    <tr>\n",
       "      <th>1422</th>\n",
       "      <td>Corsola</td>\n",
       "      <td>65</td>\n",
       "      <td>55</td>\n",
       "      <td>95</td>\n",
       "      <td>65</td>\n",
       "      <td>95</td>\n",
       "      <td>35</td>\n",
       "    </tr>\n",
       "    <tr>\n",
       "      <th>1423</th>\n",
       "      <td>Mime Jr.</td>\n",
       "      <td>20</td>\n",
       "      <td>25</td>\n",
       "      <td>45</td>\n",
       "      <td>70</td>\n",
       "      <td>90</td>\n",
       "      <td>60</td>\n",
       "    </tr>\n",
       "    <tr>\n",
       "      <th>1424</th>\n",
       "      <td>Gourgeist-Large</td>\n",
       "      <td>75</td>\n",
       "      <td>95</td>\n",
       "      <td>122</td>\n",
       "      <td>58</td>\n",
       "      <td>75</td>\n",
       "      <td>69</td>\n",
       "    </tr>\n",
       "  </tbody>\n",
       "</table>\n",
       "<p>1425 rows × 7 columns</p>\n",
       "</div>"
      ],
      "text/plain": [
       "              Pokemon   HP  Atk  Def  SpA  SpD  Spe\n",
       "0      Zacian-Crowned   92  170  115   80  115  148\n",
       "1          Grimmsnarl   95  120   65   95   75   60\n",
       "2           Regieleki   80  100   50  100   50  200\n",
       "3           Rillaboom  100  125   90   60   70   85\n",
       "4      Calyrex-Shadow  100   85   80  165  100  150\n",
       "...               ...  ...  ...  ...  ...  ...  ...\n",
       "1420          Steelix   75   85  200   55   65   30\n",
       "1421          Noctowl  100   50   50   86   96   70\n",
       "1422          Corsola   65   55   95   65   95   35\n",
       "1423         Mime Jr.   20   25   45   70   90   60\n",
       "1424  Gourgeist-Large   75   95  122   58   75   69\n",
       "\n",
       "[1425 rows x 7 columns]"
      ]
     },
     "metadata": {},
     "output_type": "display_data"
    }
   ],
   "source": [
    "display(basestat_S12VGC)"
   ]
  },
  {
   "cell_type": "code",
   "execution_count": 435,
   "id": "c8dcf79a",
   "metadata": {
    "ExecuteTime": {
     "end_time": "2022-04-21T02:20:36.387882Z",
     "start_time": "2022-04-21T02:20:36.373712Z"
    },
    "hidden": true
   },
   "outputs": [
    {
     "data": {
      "text/html": [
       "<div>\n",
       "<style scoped>\n",
       "    .dataframe tbody tr th:only-of-type {\n",
       "        vertical-align: middle;\n",
       "    }\n",
       "\n",
       "    .dataframe tbody tr th {\n",
       "        vertical-align: top;\n",
       "    }\n",
       "\n",
       "    .dataframe thead th {\n",
       "        text-align: right;\n",
       "    }\n",
       "</style>\n",
       "<table border=\"1\" class=\"dataframe\">\n",
       "  <thead>\n",
       "    <tr style=\"text-align: right;\">\n",
       "      <th></th>\n",
       "      <th>Pokemon</th>\n",
       "      <th>Move</th>\n",
       "      <th>Type</th>\n",
       "      <th>Use_Percentage (%)</th>\n",
       "    </tr>\n",
       "  </thead>\n",
       "  <tbody>\n",
       "    <tr>\n",
       "      <th>0</th>\n",
       "      <td>Zacian-Crowned</td>\n",
       "      <td>Behemoth Blade</td>\n",
       "      <td>steel</td>\n",
       "      <td>99.996%</td>\n",
       "    </tr>\n",
       "    <tr>\n",
       "      <th>1</th>\n",
       "      <td>Zacian-Crowned</td>\n",
       "      <td>Protect</td>\n",
       "      <td>normal</td>\n",
       "      <td>98.672%</td>\n",
       "    </tr>\n",
       "    <tr>\n",
       "      <th>2</th>\n",
       "      <td>Zacian-Crowned</td>\n",
       "      <td>Sacred Sword</td>\n",
       "      <td>fighting</td>\n",
       "      <td>84.154%</td>\n",
       "    </tr>\n",
       "    <tr>\n",
       "      <th>3</th>\n",
       "      <td>Zacian-Crowned</td>\n",
       "      <td>Play Rough</td>\n",
       "      <td>fairy</td>\n",
       "      <td>64.487%</td>\n",
       "    </tr>\n",
       "    <tr>\n",
       "      <th>4</th>\n",
       "      <td>Zacian-Crowned</td>\n",
       "      <td>Substitute</td>\n",
       "      <td>normal</td>\n",
       "      <td>30.274%</td>\n",
       "    </tr>\n",
       "    <tr>\n",
       "      <th>...</th>\n",
       "      <td>...</td>\n",
       "      <td>...</td>\n",
       "      <td>...</td>\n",
       "      <td>...</td>\n",
       "    </tr>\n",
       "    <tr>\n",
       "      <th>3613</th>\n",
       "      <td>Mime Jr.</td>\n",
       "      <td>Other</td>\n",
       "      <td></td>\n",
       "      <td>12.562%</td>\n",
       "    </tr>\n",
       "    <tr>\n",
       "      <th>3614</th>\n",
       "      <td>Gourgeist-Large</td>\n",
       "      <td>Power Whip</td>\n",
       "      <td>grass</td>\n",
       "      <td>100.000%</td>\n",
       "    </tr>\n",
       "    <tr>\n",
       "      <th>3615</th>\n",
       "      <td>Gourgeist-Large</td>\n",
       "      <td>Trick Room</td>\n",
       "      <td>psychic</td>\n",
       "      <td>99.986%</td>\n",
       "    </tr>\n",
       "    <tr>\n",
       "      <th>3616</th>\n",
       "      <td>Gourgeist-Large</td>\n",
       "      <td>Imprison</td>\n",
       "      <td>psychic</td>\n",
       "      <td>99.986%</td>\n",
       "    </tr>\n",
       "    <tr>\n",
       "      <th>3617</th>\n",
       "      <td>Gourgeist-Large</td>\n",
       "      <td>Shadow Sneak</td>\n",
       "      <td>ghost</td>\n",
       "      <td>99.986%</td>\n",
       "    </tr>\n",
       "  </tbody>\n",
       "</table>\n",
       "<p>3618 rows × 4 columns</p>\n",
       "</div>"
      ],
      "text/plain": [
       "              Pokemon            Move      Type Use_Percentage (%)\n",
       "0      Zacian-Crowned  Behemoth Blade     steel            99.996%\n",
       "1      Zacian-Crowned         Protect    normal            98.672%\n",
       "2      Zacian-Crowned    Sacred Sword  fighting            84.154%\n",
       "3      Zacian-Crowned      Play Rough     fairy            64.487%\n",
       "4      Zacian-Crowned      Substitute    normal            30.274%\n",
       "...               ...             ...       ...                ...\n",
       "3613         Mime Jr.           Other                      12.562%\n",
       "3614  Gourgeist-Large      Power Whip     grass           100.000%\n",
       "3615  Gourgeist-Large      Trick Room   psychic            99.986%\n",
       "3616  Gourgeist-Large        Imprison   psychic            99.986%\n",
       "3617  Gourgeist-Large    Shadow Sneak     ghost            99.986%\n",
       "\n",
       "[3618 rows x 4 columns]"
      ]
     },
     "metadata": {},
     "output_type": "display_data"
    }
   ],
   "source": [
    "display(moves_S12VGC)"
   ]
  },
  {
   "cell_type": "code",
   "execution_count": 436,
   "id": "622ed56c",
   "metadata": {
    "ExecuteTime": {
     "end_time": "2022-04-21T02:20:37.733709Z",
     "start_time": "2022-04-21T02:20:37.720362Z"
    },
    "hidden": true,
    "scrolled": true
   },
   "outputs": [
    {
     "data": {
      "text/html": [
       "<div>\n",
       "<style scoped>\n",
       "    .dataframe tbody tr th:only-of-type {\n",
       "        vertical-align: middle;\n",
       "    }\n",
       "\n",
       "    .dataframe tbody tr th {\n",
       "        vertical-align: top;\n",
       "    }\n",
       "\n",
       "    .dataframe thead th {\n",
       "        text-align: right;\n",
       "    }\n",
       "</style>\n",
       "<table border=\"1\" class=\"dataframe\">\n",
       "  <thead>\n",
       "    <tr style=\"text-align: right;\">\n",
       "      <th></th>\n",
       "      <th>Pokemon</th>\n",
       "      <th>Teammate</th>\n",
       "      <th>Use_Percentage (%)</th>\n",
       "    </tr>\n",
       "  </thead>\n",
       "  <tbody>\n",
       "    <tr>\n",
       "      <th>0</th>\n",
       "      <td>Zacian-Crowned</td>\n",
       "      <td>Incineroar</td>\n",
       "      <td>54.189%</td>\n",
       "    </tr>\n",
       "    <tr>\n",
       "      <th>1</th>\n",
       "      <td>Zacian-Crowned</td>\n",
       "      <td>Kyogre</td>\n",
       "      <td>31.467%</td>\n",
       "    </tr>\n",
       "    <tr>\n",
       "      <th>2</th>\n",
       "      <td>Zacian-Crowned</td>\n",
       "      <td>Grimmsnarl</td>\n",
       "      <td>31.148%</td>\n",
       "    </tr>\n",
       "    <tr>\n",
       "      <th>3</th>\n",
       "      <td>Zacian-Crowned</td>\n",
       "      <td>Rillaboom</td>\n",
       "      <td>29.083%</td>\n",
       "    </tr>\n",
       "    <tr>\n",
       "      <th>4</th>\n",
       "      <td>Zacian-Crowned</td>\n",
       "      <td>Gastrodon</td>\n",
       "      <td>24.347%</td>\n",
       "    </tr>\n",
       "    <tr>\n",
       "      <th>...</th>\n",
       "      <td>...</td>\n",
       "      <td>...</td>\n",
       "      <td>...</td>\n",
       "    </tr>\n",
       "    <tr>\n",
       "      <th>3417</th>\n",
       "      <td>Gourgeist-Large</td>\n",
       "      <td>Weezing-Galar</td>\n",
       "      <td>0.014%</td>\n",
       "    </tr>\n",
       "    <tr>\n",
       "      <th>3418</th>\n",
       "      <td>Gourgeist-Large</td>\n",
       "      <td>Duraludon</td>\n",
       "      <td>0.014%</td>\n",
       "    </tr>\n",
       "    <tr>\n",
       "      <th>3419</th>\n",
       "      <td>Gourgeist-Large</td>\n",
       "      <td>Togetic</td>\n",
       "      <td>0.014%</td>\n",
       "    </tr>\n",
       "    <tr>\n",
       "      <th>3420</th>\n",
       "      <td>Gourgeist-Large</td>\n",
       "      <td>Talonflame</td>\n",
       "      <td>0.014%</td>\n",
       "    </tr>\n",
       "    <tr>\n",
       "      <th>3421</th>\n",
       "      <td>Gourgeist-Large</td>\n",
       "      <td>Scrafty</td>\n",
       "      <td>0.014%</td>\n",
       "    </tr>\n",
       "  </tbody>\n",
       "</table>\n",
       "<p>3422 rows × 3 columns</p>\n",
       "</div>"
      ],
      "text/plain": [
       "              Pokemon       Teammate Use_Percentage (%)\n",
       "0      Zacian-Crowned     Incineroar            54.189%\n",
       "1      Zacian-Crowned         Kyogre            31.467%\n",
       "2      Zacian-Crowned     Grimmsnarl            31.148%\n",
       "3      Zacian-Crowned      Rillaboom            29.083%\n",
       "4      Zacian-Crowned      Gastrodon            24.347%\n",
       "...               ...            ...                ...\n",
       "3417  Gourgeist-Large  Weezing-Galar             0.014%\n",
       "3418  Gourgeist-Large      Duraludon             0.014%\n",
       "3419  Gourgeist-Large        Togetic             0.014%\n",
       "3420  Gourgeist-Large     Talonflame             0.014%\n",
       "3421  Gourgeist-Large        Scrafty             0.014%\n",
       "\n",
       "[3422 rows x 3 columns]"
      ]
     },
     "metadata": {},
     "output_type": "display_data"
    }
   ],
   "source": [
    "display(teammates_S12VGC)"
   ]
  },
  {
   "cell_type": "code",
   "execution_count": 437,
   "id": "fdc4de4f",
   "metadata": {
    "ExecuteTime": {
     "end_time": "2022-04-21T02:20:39.131523Z",
     "start_time": "2022-04-21T02:20:39.102532Z"
    },
    "hidden": true
   },
   "outputs": [
    {
     "data": {
      "text/html": [
       "<div>\n",
       "<style scoped>\n",
       "    .dataframe tbody tr th:only-of-type {\n",
       "        vertical-align: middle;\n",
       "    }\n",
       "\n",
       "    .dataframe tbody tr th {\n",
       "        vertical-align: top;\n",
       "    }\n",
       "\n",
       "    .dataframe thead th {\n",
       "        text-align: right;\n",
       "    }\n",
       "</style>\n",
       "<table border=\"1\" class=\"dataframe\">\n",
       "  <thead>\n",
       "    <tr style=\"text-align: right;\">\n",
       "      <th></th>\n",
       "      <th>Pokemon</th>\n",
       "      <th>Item</th>\n",
       "      <th>Use_Percentage (%)</th>\n",
       "    </tr>\n",
       "  </thead>\n",
       "  <tbody>\n",
       "    <tr>\n",
       "      <th>0</th>\n",
       "      <td>Zacian-Crowned</td>\n",
       "      <td>Rusted Sword</td>\n",
       "      <td>100.000%</td>\n",
       "    </tr>\n",
       "    <tr>\n",
       "      <th>1</th>\n",
       "      <td>Incineroar</td>\n",
       "      <td>Shuca Berry</td>\n",
       "      <td>36.082%</td>\n",
       "    </tr>\n",
       "    <tr>\n",
       "      <th>2</th>\n",
       "      <td>Incineroar</td>\n",
       "      <td>Safety Goggles</td>\n",
       "      <td>23.390%</td>\n",
       "    </tr>\n",
       "    <tr>\n",
       "      <th>3</th>\n",
       "      <td>Incineroar</td>\n",
       "      <td>Sitrus Berry</td>\n",
       "      <td>14.031%</td>\n",
       "    </tr>\n",
       "    <tr>\n",
       "      <th>4</th>\n",
       "      <td>Incineroar</td>\n",
       "      <td>Focus Sash</td>\n",
       "      <td>8.994%</td>\n",
       "    </tr>\n",
       "    <tr>\n",
       "      <th>...</th>\n",
       "      <td>...</td>\n",
       "      <td>...</td>\n",
       "      <td>...</td>\n",
       "    </tr>\n",
       "    <tr>\n",
       "      <th>1887</th>\n",
       "      <td>Corsola</td>\n",
       "      <td>Other</td>\n",
       "      <td>0.734%</td>\n",
       "    </tr>\n",
       "    <tr>\n",
       "      <th>1888</th>\n",
       "      <td>Mime Jr.</td>\n",
       "      <td>Focus Sash</td>\n",
       "      <td>99.860%</td>\n",
       "    </tr>\n",
       "    <tr>\n",
       "      <th>1889</th>\n",
       "      <td>Mime Jr.</td>\n",
       "      <td>Other</td>\n",
       "      <td>0.140%</td>\n",
       "    </tr>\n",
       "    <tr>\n",
       "      <th>1890</th>\n",
       "      <td>Gourgeist-Large</td>\n",
       "      <td>Figy Berry</td>\n",
       "      <td>99.986%</td>\n",
       "    </tr>\n",
       "    <tr>\n",
       "      <th>1891</th>\n",
       "      <td>Gourgeist-Large</td>\n",
       "      <td>Other</td>\n",
       "      <td>0.014%</td>\n",
       "    </tr>\n",
       "  </tbody>\n",
       "</table>\n",
       "<p>1892 rows × 3 columns</p>\n",
       "</div>"
      ],
      "text/plain": [
       "              Pokemon            Item Use_Percentage (%)\n",
       "0      Zacian-Crowned    Rusted Sword           100.000%\n",
       "1          Incineroar     Shuca Berry            36.082%\n",
       "2          Incineroar  Safety Goggles            23.390%\n",
       "3          Incineroar    Sitrus Berry            14.031%\n",
       "4          Incineroar      Focus Sash             8.994%\n",
       "...               ...             ...                ...\n",
       "1887          Corsola           Other             0.734%\n",
       "1888         Mime Jr.      Focus Sash            99.860%\n",
       "1889         Mime Jr.           Other             0.140%\n",
       "1890  Gourgeist-Large      Figy Berry            99.986%\n",
       "1891  Gourgeist-Large           Other             0.014%\n",
       "\n",
       "[1892 rows x 3 columns]"
      ]
     },
     "metadata": {},
     "output_type": "display_data"
    }
   ],
   "source": [
    "display(items_S12VGC)"
   ]
  },
  {
   "cell_type": "code",
   "execution_count": 438,
   "id": "14b7efb1",
   "metadata": {
    "ExecuteTime": {
     "end_time": "2022-04-21T02:20:40.438180Z",
     "start_time": "2022-04-21T02:20:40.408669Z"
    },
    "hidden": true
   },
   "outputs": [
    {
     "data": {
      "text/html": [
       "<div>\n",
       "<style scoped>\n",
       "    .dataframe tbody tr th:only-of-type {\n",
       "        vertical-align: middle;\n",
       "    }\n",
       "\n",
       "    .dataframe tbody tr th {\n",
       "        vertical-align: top;\n",
       "    }\n",
       "\n",
       "    .dataframe thead th {\n",
       "        text-align: right;\n",
       "    }\n",
       "</style>\n",
       "<table border=\"1\" class=\"dataframe\">\n",
       "  <thead>\n",
       "    <tr style=\"text-align: right;\">\n",
       "      <th></th>\n",
       "      <th>Pokemon</th>\n",
       "      <th>Ability</th>\n",
       "      <th>Use_Percentage (%)</th>\n",
       "    </tr>\n",
       "  </thead>\n",
       "  <tbody>\n",
       "    <tr>\n",
       "      <th>0</th>\n",
       "      <td>Zacian-Crowned</td>\n",
       "      <td>Intrepid Sword</td>\n",
       "      <td>100.000%</td>\n",
       "    </tr>\n",
       "    <tr>\n",
       "      <th>1</th>\n",
       "      <td>Incineroar</td>\n",
       "      <td>Intimidate</td>\n",
       "      <td>99.927%</td>\n",
       "    </tr>\n",
       "    <tr>\n",
       "      <th>2</th>\n",
       "      <td>Incineroar</td>\n",
       "      <td>Blaze</td>\n",
       "      <td>0.073%</td>\n",
       "    </tr>\n",
       "    <tr>\n",
       "      <th>3</th>\n",
       "      <td>Kyogre</td>\n",
       "      <td>Drizzle</td>\n",
       "      <td>100.000%</td>\n",
       "    </tr>\n",
       "    <tr>\n",
       "      <th>4</th>\n",
       "      <td>Grimmsnarl</td>\n",
       "      <td>Prankster</td>\n",
       "      <td>99.959%</td>\n",
       "    </tr>\n",
       "    <tr>\n",
       "      <th>...</th>\n",
       "      <td>...</td>\n",
       "      <td>...</td>\n",
       "      <td>...</td>\n",
       "    </tr>\n",
       "    <tr>\n",
       "      <th>768</th>\n",
       "      <td>Mime Jr.</td>\n",
       "      <td>Soundproof</td>\n",
       "      <td>99.870%</td>\n",
       "    </tr>\n",
       "    <tr>\n",
       "      <th>769</th>\n",
       "      <td>Mime Jr.</td>\n",
       "      <td>Filter</td>\n",
       "      <td>0.130%</td>\n",
       "    </tr>\n",
       "    <tr>\n",
       "      <th>770</th>\n",
       "      <td>Mime Jr.</td>\n",
       "      <td>Technician</td>\n",
       "      <td>0.000%</td>\n",
       "    </tr>\n",
       "    <tr>\n",
       "      <th>771</th>\n",
       "      <td>Gourgeist-Large</td>\n",
       "      <td>Frisk</td>\n",
       "      <td>100.000%</td>\n",
       "    </tr>\n",
       "    <tr>\n",
       "      <th>772</th>\n",
       "      <td>Gourgeist-Large</td>\n",
       "      <td>Pickup</td>\n",
       "      <td>0.000%</td>\n",
       "    </tr>\n",
       "  </tbody>\n",
       "</table>\n",
       "<p>773 rows × 3 columns</p>\n",
       "</div>"
      ],
      "text/plain": [
       "             Pokemon         Ability Use_Percentage (%)\n",
       "0     Zacian-Crowned  Intrepid Sword           100.000%\n",
       "1         Incineroar      Intimidate            99.927%\n",
       "2         Incineroar           Blaze             0.073%\n",
       "3             Kyogre         Drizzle           100.000%\n",
       "4         Grimmsnarl       Prankster            99.959%\n",
       "..               ...             ...                ...\n",
       "768         Mime Jr.      Soundproof            99.870%\n",
       "769         Mime Jr.          Filter             0.130%\n",
       "770         Mime Jr.      Technician             0.000%\n",
       "771  Gourgeist-Large           Frisk           100.000%\n",
       "772  Gourgeist-Large          Pickup             0.000%\n",
       "\n",
       "[773 rows x 3 columns]"
      ]
     },
     "metadata": {},
     "output_type": "display_data"
    }
   ],
   "source": [
    "display(abilities_S12VGC)"
   ]
  },
  {
   "cell_type": "code",
   "execution_count": 439,
   "id": "1e26fbab",
   "metadata": {
    "ExecuteTime": {
     "end_time": "2022-04-21T02:20:41.640338Z",
     "start_time": "2022-04-21T02:20:41.614055Z"
    },
    "hidden": true
   },
   "outputs": [
    {
     "data": {
      "text/html": [
       "<div>\n",
       "<style scoped>\n",
       "    .dataframe tbody tr th:only-of-type {\n",
       "        vertical-align: middle;\n",
       "    }\n",
       "\n",
       "    .dataframe tbody tr th {\n",
       "        vertical-align: top;\n",
       "    }\n",
       "\n",
       "    .dataframe thead th {\n",
       "        text-align: right;\n",
       "    }\n",
       "</style>\n",
       "<table border=\"1\" class=\"dataframe\">\n",
       "  <thead>\n",
       "    <tr style=\"text-align: right;\">\n",
       "      <th></th>\n",
       "      <th>Pokemon</th>\n",
       "      <th>Nature</th>\n",
       "      <th>HP/Atk/Def/SpA/SpD/Spe</th>\n",
       "      <th>Use_Percentage (%)</th>\n",
       "    </tr>\n",
       "  </thead>\n",
       "  <tbody>\n",
       "    <tr>\n",
       "      <th>0</th>\n",
       "      <td>Zacian-Crowned</td>\n",
       "      <td>Jolly</td>\n",
       "      <td>0/252/0/0/4/252</td>\n",
       "      <td>10.388%</td>\n",
       "    </tr>\n",
       "    <tr>\n",
       "      <th>1</th>\n",
       "      <td>Zacian-Crowned</td>\n",
       "      <td>Adamant</td>\n",
       "      <td>252/28/4/0/12/212</td>\n",
       "      <td>4.504%</td>\n",
       "    </tr>\n",
       "    <tr>\n",
       "      <th>2</th>\n",
       "      <td>Zacian-Crowned</td>\n",
       "      <td>Jolly</td>\n",
       "      <td>4/252/0/0/0/252</td>\n",
       "      <td>4.419%</td>\n",
       "    </tr>\n",
       "    <tr>\n",
       "      <th>3</th>\n",
       "      <td>Zacian-Crowned</td>\n",
       "      <td>Adamant</td>\n",
       "      <td>188/164/4/0/4/148</td>\n",
       "      <td>2.891%</td>\n",
       "    </tr>\n",
       "    <tr>\n",
       "      <th>4</th>\n",
       "      <td>Zacian-Crowned</td>\n",
       "      <td>Jolly</td>\n",
       "      <td>0/252/4/0/0/252</td>\n",
       "      <td>2.456%</td>\n",
       "    </tr>\n",
       "    <tr>\n",
       "      <th>...</th>\n",
       "      <td>...</td>\n",
       "      <td>...</td>\n",
       "      <td>...</td>\n",
       "      <td>...</td>\n",
       "    </tr>\n",
       "    <tr>\n",
       "      <th>6814</th>\n",
       "      <td>Gourgeist-Large</td>\n",
       "      <td>Sassy</td>\n",
       "      <td>252/4/0/0/252/0</td>\n",
       "      <td>0.000%</td>\n",
       "    </tr>\n",
       "    <tr>\n",
       "      <th>6815</th>\n",
       "      <td>Gourgeist-Large</td>\n",
       "      <td>Relaxed</td>\n",
       "      <td>252/0/252/4/0/0</td>\n",
       "      <td>0.000%</td>\n",
       "    </tr>\n",
       "    <tr>\n",
       "      <th>6816</th>\n",
       "      <td>Gourgeist-Large</td>\n",
       "      <td>Quiet</td>\n",
       "      <td>252/0/0/252/4/0</td>\n",
       "      <td>0.000%</td>\n",
       "    </tr>\n",
       "    <tr>\n",
       "      <th>6817</th>\n",
       "      <td>Gourgeist-Large</td>\n",
       "      <td>Adamant</td>\n",
       "      <td>252/60/0/0/196/0</td>\n",
       "      <td>0.000%</td>\n",
       "    </tr>\n",
       "    <tr>\n",
       "      <th>6818</th>\n",
       "      <td>Gourgeist-Large</td>\n",
       "      <td>Sassy</td>\n",
       "      <td>152/0/252/0/104/0</td>\n",
       "      <td>0.000%</td>\n",
       "    </tr>\n",
       "  </tbody>\n",
       "</table>\n",
       "<p>6819 rows × 4 columns</p>\n",
       "</div>"
      ],
      "text/plain": [
       "              Pokemon   Nature HP/Atk/Def/SpA/SpD/Spe Use_Percentage (%)\n",
       "0      Zacian-Crowned    Jolly        0/252/0/0/4/252            10.388%\n",
       "1      Zacian-Crowned  Adamant      252/28/4/0/12/212             4.504%\n",
       "2      Zacian-Crowned    Jolly        4/252/0/0/0/252             4.419%\n",
       "3      Zacian-Crowned  Adamant      188/164/4/0/4/148             2.891%\n",
       "4      Zacian-Crowned    Jolly        0/252/4/0/0/252             2.456%\n",
       "...               ...      ...                    ...                ...\n",
       "6814  Gourgeist-Large    Sassy        252/4/0/0/252/0             0.000%\n",
       "6815  Gourgeist-Large  Relaxed        252/0/252/4/0/0             0.000%\n",
       "6816  Gourgeist-Large    Quiet        252/0/0/252/4/0             0.000%\n",
       "6817  Gourgeist-Large  Adamant       252/60/0/0/196/0             0.000%\n",
       "6818  Gourgeist-Large    Sassy      152/0/252/0/104/0             0.000%\n",
       "\n",
       "[6819 rows x 4 columns]"
      ]
     },
     "metadata": {},
     "output_type": "display_data"
    }
   ],
   "source": [
    "display(EV_spread_S12VGC)"
   ]
  },
  {
   "cell_type": "markdown",
   "id": "bc018570",
   "metadata": {
    "hidden": true
   },
   "source": [
    "## Salvataggio .csv relazionali"
   ]
  },
  {
   "cell_type": "code",
   "execution_count": 440,
   "id": "906ad2a6",
   "metadata": {
    "ExecuteTime": {
     "end_time": "2022-04-21T02:20:42.917173Z",
     "start_time": "2022-04-21T02:20:42.841021Z"
    },
    "hidden": true
   },
   "outputs": [],
   "source": [
    "usage_S12VGC.to_csv('./Scraping_datasets/pikalytics/usage_S12VGC.csv', na_rep=\"NA\")\n",
    "basestat_S12VGC.to_csv('./Scraping_datasets/pikalytics/basestat_S12VGC.csv', na_rep=\"NA\")\n",
    "moves_S12VGC.to_csv('./Scraping_datasets/pikalytics/moves_S12VGC.csv', na_rep=\"NA\")\n",
    "teammates_S12VGC.to_csv('./Scraping_datasets/pikalytics/teammates_S12VGC.csv', na_rep=\"NA\")\n",
    "items_S12VGC.to_csv('./Scraping_datasets/pikalytics/items_S12VGC.csv', na_rep=\"NA\")\n",
    "abilities_S12VGC.to_csv('./Scraping_datasets/pikalytics/abilities_S12VGC.csv', na_rep=\"NA\")\n",
    "EV_spread_S12VGC.to_csv('./Scraping_datasets/pikalytics/EV_spread_S12VGC.csv', na_rep=\"NA\")"
   ]
  },
  {
   "cell_type": "markdown",
   "id": "9e82d94e",
   "metadata": {
    "hidden": true
   },
   "source": [
    "## Salvataggio .JSON dizionari"
   ]
  },
  {
   "cell_type": "code",
   "execution_count": 51,
   "id": "c7b14d0e",
   "metadata": {
    "ExecuteTime": {
     "end_time": "2022-04-21T13:29:04.888803Z",
     "start_time": "2022-04-21T13:29:02.974624Z"
    },
    "hidden": true
   },
   "outputs": [
    {
     "name": "stdout",
     "output_type": "stream",
     "text": [
      "usage_S12VGC\n",
      "basestat_S12VGC\n",
      "moves_S12VGC\n",
      "teammates_S12VGC\n",
      "items_S12VGC\n",
      "abilities_S12VGC\n",
      "EV_spread_S12VGC\n"
     ]
    }
   ],
   "source": [
    "S12VGC_df = {}\n",
    "S12VGC_json = {}\n",
    "dataset_list = ['usage_S12VGC', 'basestat_S12VGC', 'moves_S12VGC', 'teammates_S12VGC', 'items_S12VGC', 'abilities_S12VGC', 'EV_spread_S12VGC']\n",
    "\n",
    "for dataset_name in dataset_list:\n",
    "    print(dataset_name)\n",
    "    S12VGC_df[f'{dataset_name}'] = pd.read_csv(f'./Scraping_datasets/pikalytics/{dataset_name}.csv', na_values = 'NA').iloc[: , 1:]\n",
    "    S12VGC_json[f'{dataset_name}'] = json.dumps(list(S12VGC_df[f'{dataset_name}'].agg(lambda x: x.dropna().to_dict(), axis=1)), indent = 4, ensure_ascii=False)\n",
    "    with open(f'./Scraping_datasets/pikalytics/{dataset_name}.json', 'w', encoding='utf8') as outfile:\n",
    "        outfile.write(S12VGC_json[f'{dataset_name}'])\n",
    "    \n"
   ]
  },
  {
   "cell_type": "markdown",
   "id": "1b4f7ce7",
   "metadata": {},
   "source": [
    "# 3. `serebii.net` (Sword and Shield Pokédex: Galar Pokédex, Isle of Armor Pokédex, Crown Tundra Pokédex)"
   ]
  },
  {
   "cell_type": "markdown",
   "id": "dcd96e5e",
   "metadata": {},
   "source": [
    "Il regolamento del VGC (che scrapo nel punto successivo), fa riferimento ai pokedex regionali specifici di Sword e Shield (oltre a quello nazionale preso al punto 1), ho deciso quindi di scaricarli, dato che comunque tutti questi pokemon sono opoi quelli utilizzati nel VGC 12."
   ]
  },
  {
   "cell_type": "markdown",
   "id": "40cec96f",
   "metadata": {},
   "source": [
    "- *Il pokédex nazionale è quello che cointiene TUTTI i pokemon usciti nelle diverse generazioni (in totale 905)*\n",
    "- Principalmente serviranno per il matching nell'identificazione di quali pokemon assergnare alle etichette PErmitted, Restricted, Banned etc."
   ]
  },
  {
   "cell_type": "markdown",
   "id": "0d2611e7",
   "metadata": {},
   "source": [
    "## Galar Pokédex"
   ]
  },
  {
   "cell_type": "markdown",
   "id": "a3d35c4b",
   "metadata": {},
   "source": [
    "Url della risorsa, HTTPResponse Object e BeautifulSoupObject della pagina"
   ]
  },
  {
   "cell_type": "code",
   "execution_count": 193,
   "id": "e8d3ad63",
   "metadata": {
    "ExecuteTime": {
     "end_time": "2022-04-21T17:39:54.248369Z",
     "start_time": "2022-04-21T17:39:53.516200Z"
    }
   },
   "outputs": [],
   "source": [
    "swordandshield_URL = \"https://www.serebii.net/swordshield/galarpokedex.shtml\"\n",
    "swordandshield_page = requests.get(swordandshield_URL)"
   ]
  },
  {
   "cell_type": "code",
   "execution_count": 194,
   "id": "a11ef078",
   "metadata": {
    "ExecuteTime": {
     "end_time": "2022-04-21T17:40:00.210792Z",
     "start_time": "2022-04-21T17:39:58.063185Z"
    }
   },
   "outputs": [],
   "source": [
    "swordandshield_soup = BeautifulSoup(swordandshield_page.content, features=\"html.parser\")"
   ]
  },
  {
   "cell_type": "code",
   "execution_count": 199,
   "id": "57d2a94c",
   "metadata": {
    "ExecuteTime": {
     "end_time": "2022-04-21T17:41:12.812689Z",
     "start_time": "2022-04-21T17:41:12.428234Z"
    }
   },
   "outputs": [],
   "source": [
    "swordandshield_df = pd.read_html(str(swordandshield_soup), header=1)[1]"
   ]
  },
  {
   "cell_type": "code",
   "execution_count": 202,
   "id": "cc7d9906",
   "metadata": {
    "ExecuteTime": {
     "end_time": "2022-04-21T17:47:43.916419Z",
     "start_time": "2022-04-21T17:47:43.902070Z"
    }
   },
   "outputs": [
    {
     "data": {
      "text/html": [
       "<div>\n",
       "<style scoped>\n",
       "    .dataframe tbody tr th:only-of-type {\n",
       "        vertical-align: middle;\n",
       "    }\n",
       "\n",
       "    .dataframe tbody tr th {\n",
       "        vertical-align: top;\n",
       "    }\n",
       "\n",
       "    .dataframe thead th {\n",
       "        text-align: right;\n",
       "    }\n",
       "</style>\n",
       "<table border=\"1\" class=\"dataframe\">\n",
       "  <thead>\n",
       "    <tr style=\"text-align: right;\">\n",
       "      <th></th>\n",
       "      <th>No.</th>\n",
       "      <th>Name</th>\n",
       "      <th>Abilities</th>\n",
       "      <th>HP</th>\n",
       "      <th>Att</th>\n",
       "      <th>Def</th>\n",
       "      <th>S.Att</th>\n",
       "      <th>S.Def</th>\n",
       "      <th>Spd</th>\n",
       "    </tr>\n",
       "  </thead>\n",
       "  <tbody>\n",
       "    <tr>\n",
       "      <th>0</th>\n",
       "      <td>#001</td>\n",
       "      <td>Grookeyサルノリ</td>\n",
       "      <td>Overgrow Grassy Surge</td>\n",
       "      <td>50</td>\n",
       "      <td>65</td>\n",
       "      <td>50</td>\n",
       "      <td>40</td>\n",
       "      <td>40</td>\n",
       "      <td>65</td>\n",
       "    </tr>\n",
       "    <tr>\n",
       "      <th>1</th>\n",
       "      <td>#002</td>\n",
       "      <td>Thwackeyバチンキー</td>\n",
       "      <td>Overgrow Grassy Surge</td>\n",
       "      <td>70</td>\n",
       "      <td>85</td>\n",
       "      <td>70</td>\n",
       "      <td>55</td>\n",
       "      <td>60</td>\n",
       "      <td>80</td>\n",
       "    </tr>\n",
       "    <tr>\n",
       "      <th>2</th>\n",
       "      <td>#003</td>\n",
       "      <td>Rillaboomゴリランダー</td>\n",
       "      <td>Overgrow Grassy Surge</td>\n",
       "      <td>100</td>\n",
       "      <td>125</td>\n",
       "      <td>90</td>\n",
       "      <td>60</td>\n",
       "      <td>70</td>\n",
       "      <td>85</td>\n",
       "    </tr>\n",
       "    <tr>\n",
       "      <th>3</th>\n",
       "      <td>#004</td>\n",
       "      <td>Scorbunnyヒバニー</td>\n",
       "      <td>Blaze Libero</td>\n",
       "      <td>50</td>\n",
       "      <td>71</td>\n",
       "      <td>40</td>\n",
       "      <td>40</td>\n",
       "      <td>40</td>\n",
       "      <td>69</td>\n",
       "    </tr>\n",
       "    <tr>\n",
       "      <th>4</th>\n",
       "      <td>#005</td>\n",
       "      <td>Rabootラビフット</td>\n",
       "      <td>Blaze Libero</td>\n",
       "      <td>65</td>\n",
       "      <td>86</td>\n",
       "      <td>60</td>\n",
       "      <td>55</td>\n",
       "      <td>60</td>\n",
       "      <td>94</td>\n",
       "    </tr>\n",
       "    <tr>\n",
       "      <th>...</th>\n",
       "      <td>...</td>\n",
       "      <td>...</td>\n",
       "      <td>...</td>\n",
       "      <td>...</td>\n",
       "      <td>...</td>\n",
       "      <td>...</td>\n",
       "      <td>...</td>\n",
       "      <td>...</td>\n",
       "      <td>...</td>\n",
       "    </tr>\n",
       "    <tr>\n",
       "      <th>395</th>\n",
       "      <td>#396</td>\n",
       "      <td>Drakloakドロンチ</td>\n",
       "      <td>Clear Body Infiltrator Cursed Body</td>\n",
       "      <td>68</td>\n",
       "      <td>80</td>\n",
       "      <td>50</td>\n",
       "      <td>60</td>\n",
       "      <td>50</td>\n",
       "      <td>102</td>\n",
       "    </tr>\n",
       "    <tr>\n",
       "      <th>396</th>\n",
       "      <td>#397</td>\n",
       "      <td>Dragapultドラパルト</td>\n",
       "      <td>Clear Body Infiltrator Cursed Body</td>\n",
       "      <td>88</td>\n",
       "      <td>120</td>\n",
       "      <td>75</td>\n",
       "      <td>100</td>\n",
       "      <td>75</td>\n",
       "      <td>142</td>\n",
       "    </tr>\n",
       "    <tr>\n",
       "      <th>397</th>\n",
       "      <td>#398</td>\n",
       "      <td>Zacianザシアン</td>\n",
       "      <td>Intrepid Sword</td>\n",
       "      <td>92</td>\n",
       "      <td>130</td>\n",
       "      <td>115</td>\n",
       "      <td>80</td>\n",
       "      <td>115</td>\n",
       "      <td>138</td>\n",
       "    </tr>\n",
       "    <tr>\n",
       "      <th>398</th>\n",
       "      <td>#399</td>\n",
       "      <td>Zamazentaザマゼンタ</td>\n",
       "      <td>Dauntless Shield</td>\n",
       "      <td>92</td>\n",
       "      <td>130</td>\n",
       "      <td>115</td>\n",
       "      <td>80</td>\n",
       "      <td>115</td>\n",
       "      <td>138</td>\n",
       "    </tr>\n",
       "    <tr>\n",
       "      <th>399</th>\n",
       "      <td>#400</td>\n",
       "      <td>Eternatusムゲンダイナ</td>\n",
       "      <td>Pressure</td>\n",
       "      <td>140</td>\n",
       "      <td>85</td>\n",
       "      <td>95</td>\n",
       "      <td>145</td>\n",
       "      <td>95</td>\n",
       "      <td>130</td>\n",
       "    </tr>\n",
       "  </tbody>\n",
       "</table>\n",
       "<p>400 rows × 9 columns</p>\n",
       "</div>"
      ],
      "text/plain": [
       "      No.             Name                           Abilities   HP  Att  Def  \\\n",
       "0    #001      Grookeyサルノリ               Overgrow Grassy Surge   50   65   50   \n",
       "1    #002    Thwackeyバチンキー               Overgrow Grassy Surge   70   85   70   \n",
       "2    #003  Rillaboomゴリランダー               Overgrow Grassy Surge  100  125   90   \n",
       "3    #004    Scorbunnyヒバニー                        Blaze Libero   50   71   40   \n",
       "4    #005      Rabootラビフット                        Blaze Libero   65   86   60   \n",
       "..    ...              ...                                 ...  ...  ...  ...   \n",
       "395  #396     Drakloakドロンチ  Clear Body Infiltrator Cursed Body   68   80   50   \n",
       "396  #397   Dragapultドラパルト  Clear Body Infiltrator Cursed Body   88  120   75   \n",
       "397  #398       Zacianザシアン                      Intrepid Sword   92  130  115   \n",
       "398  #399   Zamazentaザマゼンタ                    Dauntless Shield   92  130  115   \n",
       "399  #400  Eternatusムゲンダイナ                            Pressure  140   85   95   \n",
       "\n",
       "     S.Att  S.Def  Spd  \n",
       "0       40     40   65  \n",
       "1       55     60   80  \n",
       "2       60     70   85  \n",
       "3       40     40   69  \n",
       "4       55     60   94  \n",
       "..     ...    ...  ...  \n",
       "395     60     50  102  \n",
       "396    100     75  142  \n",
       "397     80    115  138  \n",
       "398     80    115  138  \n",
       "399    145     95  130  \n",
       "\n",
       "[400 rows x 9 columns]"
      ]
     },
     "execution_count": 202,
     "metadata": {},
     "output_type": "execute_result"
    }
   ],
   "source": [
    "swordandshield_df.drop(axis = 1, labels = ['Pic', 'Type'], inplace = True)\n",
    "swordandshield_df"
   ]
  },
  {
   "attachments": {},
   "cell_type": "markdown",
   "id": "f798c846",
   "metadata": {},
   "source": [
    "`#` indica il numero nel pokedex specifico dell'ottava generazione\n",
    "- Vedi: https://pokemondb.net/pokedex/national"
   ]
  },
  {
   "cell_type": "markdown",
   "id": "22c59b47",
   "metadata": {},
   "source": [
    "### Sprite"
   ]
  },
  {
   "cell_type": "code",
   "execution_count": 224,
   "id": "38a0a262",
   "metadata": {
    "ExecuteTime": {
     "end_time": "2022-04-21T17:57:51.760015Z",
     "start_time": "2022-04-21T17:57:51.692735Z"
    }
   },
   "outputs": [],
   "source": [
    "swordandshield_sprites = swordandshield_soup.find_all('td', class_ = 'pkmnblock')"
   ]
  },
  {
   "cell_type": "code",
   "execution_count": 229,
   "id": "34c21649",
   "metadata": {
    "ExecuteTime": {
     "end_time": "2022-04-21T17:59:31.097251Z",
     "start_time": "2022-04-21T17:59:31.079012Z"
    }
   },
   "outputs": [],
   "source": [
    "swordandshield_sprites_list = []\n",
    "for swordandshield_sprite in swordandshield_sprites:\n",
    "    swordandshield_sprites_list.append('https://www.serebii.net/' + swordandshield_sprite.find('img', class_ = 'stdsprite')['src'])"
   ]
  },
  {
   "cell_type": "markdown",
   "id": "3d97de83",
   "metadata": {},
   "source": [
    "Aggiungo la colonna"
   ]
  },
  {
   "cell_type": "code",
   "execution_count": 230,
   "id": "c9403716",
   "metadata": {
    "ExecuteTime": {
     "end_time": "2022-04-21T17:59:33.785515Z",
     "start_time": "2022-04-21T17:59:33.771420Z"
    }
   },
   "outputs": [],
   "source": [
    "swordandshield_df['sprite_url'] = swordandshield_sprites_list"
   ]
  },
  {
   "cell_type": "code",
   "execution_count": 231,
   "id": "85d7c143",
   "metadata": {
    "ExecuteTime": {
     "end_time": "2022-04-21T17:59:36.322763Z",
     "start_time": "2022-04-21T17:59:36.293584Z"
    }
   },
   "outputs": [
    {
     "data": {
      "text/html": [
       "<div>\n",
       "<style scoped>\n",
       "    .dataframe tbody tr th:only-of-type {\n",
       "        vertical-align: middle;\n",
       "    }\n",
       "\n",
       "    .dataframe tbody tr th {\n",
       "        vertical-align: top;\n",
       "    }\n",
       "\n",
       "    .dataframe thead th {\n",
       "        text-align: right;\n",
       "    }\n",
       "</style>\n",
       "<table border=\"1\" class=\"dataframe\">\n",
       "  <thead>\n",
       "    <tr style=\"text-align: right;\">\n",
       "      <th></th>\n",
       "      <th>No.</th>\n",
       "      <th>Name</th>\n",
       "      <th>Abilities</th>\n",
       "      <th>HP</th>\n",
       "      <th>Att</th>\n",
       "      <th>Def</th>\n",
       "      <th>S.Att</th>\n",
       "      <th>S.Def</th>\n",
       "      <th>Spd</th>\n",
       "      <th>sprite_url</th>\n",
       "    </tr>\n",
       "  </thead>\n",
       "  <tbody>\n",
       "    <tr>\n",
       "      <th>0</th>\n",
       "      <td>#001</td>\n",
       "      <td>Grookeyサルノリ</td>\n",
       "      <td>Overgrow Grassy Surge</td>\n",
       "      <td>50</td>\n",
       "      <td>65</td>\n",
       "      <td>50</td>\n",
       "      <td>40</td>\n",
       "      <td>40</td>\n",
       "      <td>65</td>\n",
       "      <td>https://www.serebii.net//swordshield/pokemon/s...</td>\n",
       "    </tr>\n",
       "    <tr>\n",
       "      <th>1</th>\n",
       "      <td>#002</td>\n",
       "      <td>Thwackeyバチンキー</td>\n",
       "      <td>Overgrow Grassy Surge</td>\n",
       "      <td>70</td>\n",
       "      <td>85</td>\n",
       "      <td>70</td>\n",
       "      <td>55</td>\n",
       "      <td>60</td>\n",
       "      <td>80</td>\n",
       "      <td>https://www.serebii.net//swordshield/pokemon/s...</td>\n",
       "    </tr>\n",
       "    <tr>\n",
       "      <th>2</th>\n",
       "      <td>#003</td>\n",
       "      <td>Rillaboomゴリランダー</td>\n",
       "      <td>Overgrow Grassy Surge</td>\n",
       "      <td>100</td>\n",
       "      <td>125</td>\n",
       "      <td>90</td>\n",
       "      <td>60</td>\n",
       "      <td>70</td>\n",
       "      <td>85</td>\n",
       "      <td>https://www.serebii.net//swordshield/pokemon/s...</td>\n",
       "    </tr>\n",
       "    <tr>\n",
       "      <th>3</th>\n",
       "      <td>#004</td>\n",
       "      <td>Scorbunnyヒバニー</td>\n",
       "      <td>Blaze Libero</td>\n",
       "      <td>50</td>\n",
       "      <td>71</td>\n",
       "      <td>40</td>\n",
       "      <td>40</td>\n",
       "      <td>40</td>\n",
       "      <td>69</td>\n",
       "      <td>https://www.serebii.net//swordshield/pokemon/s...</td>\n",
       "    </tr>\n",
       "    <tr>\n",
       "      <th>4</th>\n",
       "      <td>#005</td>\n",
       "      <td>Rabootラビフット</td>\n",
       "      <td>Blaze Libero</td>\n",
       "      <td>65</td>\n",
       "      <td>86</td>\n",
       "      <td>60</td>\n",
       "      <td>55</td>\n",
       "      <td>60</td>\n",
       "      <td>94</td>\n",
       "      <td>https://www.serebii.net//swordshield/pokemon/s...</td>\n",
       "    </tr>\n",
       "    <tr>\n",
       "      <th>...</th>\n",
       "      <td>...</td>\n",
       "      <td>...</td>\n",
       "      <td>...</td>\n",
       "      <td>...</td>\n",
       "      <td>...</td>\n",
       "      <td>...</td>\n",
       "      <td>...</td>\n",
       "      <td>...</td>\n",
       "      <td>...</td>\n",
       "      <td>...</td>\n",
       "    </tr>\n",
       "    <tr>\n",
       "      <th>395</th>\n",
       "      <td>#396</td>\n",
       "      <td>Drakloakドロンチ</td>\n",
       "      <td>Clear Body Infiltrator Cursed Body</td>\n",
       "      <td>68</td>\n",
       "      <td>80</td>\n",
       "      <td>50</td>\n",
       "      <td>60</td>\n",
       "      <td>50</td>\n",
       "      <td>102</td>\n",
       "      <td>https://www.serebii.net//swordshield/pokemon/s...</td>\n",
       "    </tr>\n",
       "    <tr>\n",
       "      <th>396</th>\n",
       "      <td>#397</td>\n",
       "      <td>Dragapultドラパルト</td>\n",
       "      <td>Clear Body Infiltrator Cursed Body</td>\n",
       "      <td>88</td>\n",
       "      <td>120</td>\n",
       "      <td>75</td>\n",
       "      <td>100</td>\n",
       "      <td>75</td>\n",
       "      <td>142</td>\n",
       "      <td>https://www.serebii.net//swordshield/pokemon/s...</td>\n",
       "    </tr>\n",
       "    <tr>\n",
       "      <th>397</th>\n",
       "      <td>#398</td>\n",
       "      <td>Zacianザシアン</td>\n",
       "      <td>Intrepid Sword</td>\n",
       "      <td>92</td>\n",
       "      <td>130</td>\n",
       "      <td>115</td>\n",
       "      <td>80</td>\n",
       "      <td>115</td>\n",
       "      <td>138</td>\n",
       "      <td>https://www.serebii.net//swordshield/pokemon/s...</td>\n",
       "    </tr>\n",
       "    <tr>\n",
       "      <th>398</th>\n",
       "      <td>#399</td>\n",
       "      <td>Zamazentaザマゼンタ</td>\n",
       "      <td>Dauntless Shield</td>\n",
       "      <td>92</td>\n",
       "      <td>130</td>\n",
       "      <td>115</td>\n",
       "      <td>80</td>\n",
       "      <td>115</td>\n",
       "      <td>138</td>\n",
       "      <td>https://www.serebii.net//swordshield/pokemon/s...</td>\n",
       "    </tr>\n",
       "    <tr>\n",
       "      <th>399</th>\n",
       "      <td>#400</td>\n",
       "      <td>Eternatusムゲンダイナ</td>\n",
       "      <td>Pressure</td>\n",
       "      <td>140</td>\n",
       "      <td>85</td>\n",
       "      <td>95</td>\n",
       "      <td>145</td>\n",
       "      <td>95</td>\n",
       "      <td>130</td>\n",
       "      <td>https://www.serebii.net//swordshield/pokemon/s...</td>\n",
       "    </tr>\n",
       "  </tbody>\n",
       "</table>\n",
       "<p>400 rows × 10 columns</p>\n",
       "</div>"
      ],
      "text/plain": [
       "      No.             Name                           Abilities   HP  Att  Def  \\\n",
       "0    #001      Grookeyサルノリ               Overgrow Grassy Surge   50   65   50   \n",
       "1    #002    Thwackeyバチンキー               Overgrow Grassy Surge   70   85   70   \n",
       "2    #003  Rillaboomゴリランダー               Overgrow Grassy Surge  100  125   90   \n",
       "3    #004    Scorbunnyヒバニー                        Blaze Libero   50   71   40   \n",
       "4    #005      Rabootラビフット                        Blaze Libero   65   86   60   \n",
       "..    ...              ...                                 ...  ...  ...  ...   \n",
       "395  #396     Drakloakドロンチ  Clear Body Infiltrator Cursed Body   68   80   50   \n",
       "396  #397   Dragapultドラパルト  Clear Body Infiltrator Cursed Body   88  120   75   \n",
       "397  #398       Zacianザシアン                      Intrepid Sword   92  130  115   \n",
       "398  #399   Zamazentaザマゼンタ                    Dauntless Shield   92  130  115   \n",
       "399  #400  Eternatusムゲンダイナ                            Pressure  140   85   95   \n",
       "\n",
       "     S.Att  S.Def  Spd                                         sprite_url  \n",
       "0       40     40   65  https://www.serebii.net//swordshield/pokemon/s...  \n",
       "1       55     60   80  https://www.serebii.net//swordshield/pokemon/s...  \n",
       "2       60     70   85  https://www.serebii.net//swordshield/pokemon/s...  \n",
       "3       40     40   69  https://www.serebii.net//swordshield/pokemon/s...  \n",
       "4       55     60   94  https://www.serebii.net//swordshield/pokemon/s...  \n",
       "..     ...    ...  ...                                                ...  \n",
       "395     60     50  102  https://www.serebii.net//swordshield/pokemon/s...  \n",
       "396    100     75  142  https://www.serebii.net//swordshield/pokemon/s...  \n",
       "397     80    115  138  https://www.serebii.net//swordshield/pokemon/s...  \n",
       "398     80    115  138  https://www.serebii.net//swordshield/pokemon/s...  \n",
       "399    145     95  130  https://www.serebii.net//swordshield/pokemon/s...  \n",
       "\n",
       "[400 rows x 10 columns]"
      ]
     },
     "execution_count": 231,
     "metadata": {},
     "output_type": "execute_result"
    }
   ],
   "source": [
    "swordandshield_df"
   ]
  },
  {
   "cell_type": "markdown",
   "id": "a90b3f08",
   "metadata": {},
   "source": [
    "### Salvataggio"
   ]
  },
  {
   "cell_type": "code",
   "execution_count": 232,
   "id": "7756b91b",
   "metadata": {
    "ExecuteTime": {
     "end_time": "2022-04-21T18:00:58.344581Z",
     "start_time": "2022-04-21T18:00:58.295344Z"
    }
   },
   "outputs": [],
   "source": [
    "swordandshield_json = json.dumps(list(swordandshield_df.agg(lambda x: x.dropna().to_dict(), axis=1)), indent = 4)"
   ]
  },
  {
   "cell_type": "markdown",
   "id": "5993fc43",
   "metadata": {},
   "source": [
    "Salvataggio"
   ]
  },
  {
   "cell_type": "code",
   "execution_count": 242,
   "id": "173b5ad7",
   "metadata": {
    "ExecuteTime": {
     "end_time": "2022-04-21T18:04:38.007524Z",
     "start_time": "2022-04-21T18:04:37.996356Z"
    }
   },
   "outputs": [],
   "source": [
    "# JSON\n",
    "with open('./Scraping_datasets/serebii/swordandshield_pokedex.json', 'w', encoding='utf8') as outfile:\n",
    "    outfile.write(swordandshield_json)\n",
    "# CSV\n",
    "swordandshield_df.to_csv('./Scraping_datasets/serebii/swordandshield_pokedex.csv', na_rep=\"NA\")"
   ]
  },
  {
   "cell_type": "markdown",
   "id": "f1672fd3",
   "metadata": {},
   "source": [
    "## Isle of Armor Pokédex"
   ]
  },
  {
   "cell_type": "markdown",
   "id": "b05b1aba",
   "metadata": {},
   "source": [
    "Url della risorsa, HTTPResponse Object e BeautifulSoupObject della pagina"
   ]
  },
  {
   "cell_type": "code",
   "execution_count": 234,
   "id": "f78007bb",
   "metadata": {
    "ExecuteTime": {
     "end_time": "2022-04-21T18:06:36.541181Z",
     "start_time": "2022-04-21T18:06:35.821963Z"
    }
   },
   "outputs": [],
   "source": [
    "isleofarmor_URL = \"https://www.serebii.net/swordshield/isleofarmordex.shtml\"\n",
    "isleofarmor_page = requests.get(isleofarmor_URL)"
   ]
  },
  {
   "cell_type": "code",
   "execution_count": 235,
   "id": "d7da2706",
   "metadata": {
    "ExecuteTime": {
     "end_time": "2022-04-21T18:06:40.034482Z",
     "start_time": "2022-04-21T18:06:39.016001Z"
    }
   },
   "outputs": [],
   "source": [
    "isleofarmor_soup = BeautifulSoup(isleofarmor_page.content, features=\"html.parser\")"
   ]
  },
  {
   "cell_type": "code",
   "execution_count": 236,
   "id": "8bc5e8ef",
   "metadata": {
    "ExecuteTime": {
     "end_time": "2022-04-21T18:06:42.594220Z",
     "start_time": "2022-04-21T18:06:42.439241Z"
    }
   },
   "outputs": [],
   "source": [
    "isleofarmor_df = pd.read_html(str(isleofarmor_soup), header=1)[1]"
   ]
  },
  {
   "cell_type": "code",
   "execution_count": 237,
   "id": "611744de",
   "metadata": {
    "ExecuteTime": {
     "end_time": "2022-04-21T18:06:45.050771Z",
     "start_time": "2022-04-21T18:06:45.021353Z"
    }
   },
   "outputs": [
    {
     "data": {
      "text/html": [
       "<div>\n",
       "<style scoped>\n",
       "    .dataframe tbody tr th:only-of-type {\n",
       "        vertical-align: middle;\n",
       "    }\n",
       "\n",
       "    .dataframe tbody tr th {\n",
       "        vertical-align: top;\n",
       "    }\n",
       "\n",
       "    .dataframe thead th {\n",
       "        text-align: right;\n",
       "    }\n",
       "</style>\n",
       "<table border=\"1\" class=\"dataframe\">\n",
       "  <thead>\n",
       "    <tr style=\"text-align: right;\">\n",
       "      <th></th>\n",
       "      <th>No.</th>\n",
       "      <th>Name</th>\n",
       "      <th>Abilities</th>\n",
       "      <th>HP</th>\n",
       "      <th>Att</th>\n",
       "      <th>Def</th>\n",
       "      <th>S.Att</th>\n",
       "      <th>S.Def</th>\n",
       "      <th>Spd</th>\n",
       "    </tr>\n",
       "  </thead>\n",
       "  <tbody>\n",
       "    <tr>\n",
       "      <th>0</th>\n",
       "      <td>#001</td>\n",
       "      <td>Slowpokeヤドン</td>\n",
       "      <td>Gluttony Own Tempo Regenerator</td>\n",
       "      <td>90</td>\n",
       "      <td>65</td>\n",
       "      <td>65</td>\n",
       "      <td>40</td>\n",
       "      <td>40</td>\n",
       "      <td>15</td>\n",
       "    </tr>\n",
       "    <tr>\n",
       "      <th>1</th>\n",
       "      <td>#002</td>\n",
       "      <td>Slowbroヤドラン</td>\n",
       "      <td>Quick Draw Own Tempo Regenerator</td>\n",
       "      <td>95</td>\n",
       "      <td>100</td>\n",
       "      <td>95</td>\n",
       "      <td>100</td>\n",
       "      <td>70</td>\n",
       "      <td>30</td>\n",
       "    </tr>\n",
       "    <tr>\n",
       "      <th>2</th>\n",
       "      <td>#003</td>\n",
       "      <td>Slowkingヤドキング</td>\n",
       "      <td>Curious Medicine Own Tempo Regenerator</td>\n",
       "      <td>95</td>\n",
       "      <td>65</td>\n",
       "      <td>80</td>\n",
       "      <td>110</td>\n",
       "      <td>110</td>\n",
       "      <td>30</td>\n",
       "    </tr>\n",
       "    <tr>\n",
       "      <th>3</th>\n",
       "      <td>#004</td>\n",
       "      <td>Bunearyミミロル</td>\n",
       "      <td>Run Away Klutz Limber</td>\n",
       "      <td>55</td>\n",
       "      <td>66</td>\n",
       "      <td>44</td>\n",
       "      <td>44</td>\n",
       "      <td>56</td>\n",
       "      <td>85</td>\n",
       "    </tr>\n",
       "    <tr>\n",
       "      <th>4</th>\n",
       "      <td>#005</td>\n",
       "      <td>Lopunnyミミロップ</td>\n",
       "      <td>Cute Charm Klutz Limber</td>\n",
       "      <td>65</td>\n",
       "      <td>76</td>\n",
       "      <td>84</td>\n",
       "      <td>54</td>\n",
       "      <td>96</td>\n",
       "      <td>105</td>\n",
       "    </tr>\n",
       "    <tr>\n",
       "      <th>...</th>\n",
       "      <td>...</td>\n",
       "      <td>...</td>\n",
       "      <td>...</td>\n",
       "      <td>...</td>\n",
       "      <td>...</td>\n",
       "      <td>...</td>\n",
       "      <td>...</td>\n",
       "      <td>...</td>\n",
       "      <td>...</td>\n",
       "    </tr>\n",
       "    <tr>\n",
       "      <th>206</th>\n",
       "      <td>#207</td>\n",
       "      <td>Dittoメタモン</td>\n",
       "      <td>Limber Imposter</td>\n",
       "      <td>48</td>\n",
       "      <td>48</td>\n",
       "      <td>48</td>\n",
       "      <td>48</td>\n",
       "      <td>48</td>\n",
       "      <td>48</td>\n",
       "    </tr>\n",
       "    <tr>\n",
       "      <th>207</th>\n",
       "      <td>#208</td>\n",
       "      <td>Porygonポリゴン</td>\n",
       "      <td>Trace Download Analytic</td>\n",
       "      <td>65</td>\n",
       "      <td>60</td>\n",
       "      <td>70</td>\n",
       "      <td>85</td>\n",
       "      <td>75</td>\n",
       "      <td>40</td>\n",
       "    </tr>\n",
       "    <tr>\n",
       "      <th>208</th>\n",
       "      <td>#209</td>\n",
       "      <td>Porygon2ポリゴン２</td>\n",
       "      <td>Trace Download Analytic</td>\n",
       "      <td>85</td>\n",
       "      <td>80</td>\n",
       "      <td>90</td>\n",
       "      <td>105</td>\n",
       "      <td>95</td>\n",
       "      <td>60</td>\n",
       "    </tr>\n",
       "    <tr>\n",
       "      <th>209</th>\n",
       "      <td>#210</td>\n",
       "      <td>Porygon-ZポリゴンＺ</td>\n",
       "      <td>Adaptability Download Analytic</td>\n",
       "      <td>85</td>\n",
       "      <td>80</td>\n",
       "      <td>70</td>\n",
       "      <td>135</td>\n",
       "      <td>75</td>\n",
       "      <td>90</td>\n",
       "    </tr>\n",
       "    <tr>\n",
       "      <th>210</th>\n",
       "      <td>#211</td>\n",
       "      <td>Zarudeザルード</td>\n",
       "      <td>Leaf Guard</td>\n",
       "      <td>105</td>\n",
       "      <td>120</td>\n",
       "      <td>105</td>\n",
       "      <td>70</td>\n",
       "      <td>95</td>\n",
       "      <td>105</td>\n",
       "    </tr>\n",
       "  </tbody>\n",
       "</table>\n",
       "<p>211 rows × 9 columns</p>\n",
       "</div>"
      ],
      "text/plain": [
       "      No.            Name                               Abilities   HP  Att  \\\n",
       "0    #001     Slowpokeヤドン          Gluttony Own Tempo Regenerator   90   65   \n",
       "1    #002     Slowbroヤドラン        Quick Draw Own Tempo Regenerator   95  100   \n",
       "2    #003   Slowkingヤドキング  Curious Medicine Own Tempo Regenerator   95   65   \n",
       "3    #004     Bunearyミミロル                   Run Away Klutz Limber   55   66   \n",
       "4    #005    Lopunnyミミロップ                 Cute Charm Klutz Limber   65   76   \n",
       "..    ...             ...                                     ...  ...  ...   \n",
       "206  #207       Dittoメタモン                         Limber Imposter   48   48   \n",
       "207  #208     Porygonポリゴン                 Trace Download Analytic   65   60   \n",
       "208  #209   Porygon2ポリゴン２                 Trace Download Analytic   85   80   \n",
       "209  #210  Porygon-ZポリゴンＺ          Adaptability Download Analytic   85   80   \n",
       "210  #211      Zarudeザルード                              Leaf Guard  105  120   \n",
       "\n",
       "     Def  S.Att  S.Def  Spd  \n",
       "0     65     40     40   15  \n",
       "1     95    100     70   30  \n",
       "2     80    110    110   30  \n",
       "3     44     44     56   85  \n",
       "4     84     54     96  105  \n",
       "..   ...    ...    ...  ...  \n",
       "206   48     48     48   48  \n",
       "207   70     85     75   40  \n",
       "208   90    105     95   60  \n",
       "209   70    135     75   90  \n",
       "210  105     70     95  105  \n",
       "\n",
       "[211 rows x 9 columns]"
      ]
     },
     "execution_count": 237,
     "metadata": {},
     "output_type": "execute_result"
    }
   ],
   "source": [
    "isleofarmor_df.drop(axis = 1, labels = ['Pic', 'Type'], inplace = True)\n",
    "isleofarmor_df"
   ]
  },
  {
   "attachments": {},
   "cell_type": "markdown",
   "id": "8585fc77",
   "metadata": {},
   "source": [
    "`#` indica il numero nel pokedex specifico dell'ottava generazione\n",
    "- Vedi: https://pokemondb.net/pokedex/national"
   ]
  },
  {
   "cell_type": "markdown",
   "id": "bb4feba9",
   "metadata": {},
   "source": [
    "### Sprite"
   ]
  },
  {
   "cell_type": "code",
   "execution_count": 238,
   "id": "827e95d7",
   "metadata": {
    "ExecuteTime": {
     "end_time": "2022-04-21T18:07:08.473256Z",
     "start_time": "2022-04-21T18:07:08.441202Z"
    }
   },
   "outputs": [],
   "source": [
    "isleofarmor_sprites = isleofarmor_soup.find_all('td', class_ = 'pkmnblock')"
   ]
  },
  {
   "cell_type": "code",
   "execution_count": 239,
   "id": "a355b165",
   "metadata": {
    "ExecuteTime": {
     "end_time": "2022-04-21T18:07:10.972566Z",
     "start_time": "2022-04-21T18:07:10.957859Z"
    }
   },
   "outputs": [],
   "source": [
    "isleofarmor_sprites_list = []\n",
    "for isleofarmor_sprite in isleofarmor_sprites:\n",
    "    isleofarmor_sprites_list.append('https://www.serebii.net/' + isleofarmor_sprite.find('img', class_ = 'stdsprite')['src'])"
   ]
  },
  {
   "cell_type": "markdown",
   "id": "a5e516e0",
   "metadata": {},
   "source": [
    "Aggiungo la colonna"
   ]
  },
  {
   "cell_type": "code",
   "execution_count": 240,
   "id": "9abe984a",
   "metadata": {
    "ExecuteTime": {
     "end_time": "2022-04-21T18:07:19.214452Z",
     "start_time": "2022-04-21T18:07:19.200351Z"
    }
   },
   "outputs": [],
   "source": [
    "isleofarmor_df['sprite_url'] = isleofarmor_sprites_list"
   ]
  },
  {
   "cell_type": "code",
   "execution_count": 241,
   "id": "9c02aa40",
   "metadata": {
    "ExecuteTime": {
     "end_time": "2022-04-21T18:07:22.429851Z",
     "start_time": "2022-04-21T18:07:22.415561Z"
    }
   },
   "outputs": [
    {
     "data": {
      "text/html": [
       "<div>\n",
       "<style scoped>\n",
       "    .dataframe tbody tr th:only-of-type {\n",
       "        vertical-align: middle;\n",
       "    }\n",
       "\n",
       "    .dataframe tbody tr th {\n",
       "        vertical-align: top;\n",
       "    }\n",
       "\n",
       "    .dataframe thead th {\n",
       "        text-align: right;\n",
       "    }\n",
       "</style>\n",
       "<table border=\"1\" class=\"dataframe\">\n",
       "  <thead>\n",
       "    <tr style=\"text-align: right;\">\n",
       "      <th></th>\n",
       "      <th>No.</th>\n",
       "      <th>Name</th>\n",
       "      <th>Abilities</th>\n",
       "      <th>HP</th>\n",
       "      <th>Att</th>\n",
       "      <th>Def</th>\n",
       "      <th>S.Att</th>\n",
       "      <th>S.Def</th>\n",
       "      <th>Spd</th>\n",
       "      <th>sprite_url</th>\n",
       "    </tr>\n",
       "  </thead>\n",
       "  <tbody>\n",
       "    <tr>\n",
       "      <th>0</th>\n",
       "      <td>#001</td>\n",
       "      <td>Slowpokeヤドン</td>\n",
       "      <td>Gluttony Own Tempo Regenerator</td>\n",
       "      <td>90</td>\n",
       "      <td>65</td>\n",
       "      <td>65</td>\n",
       "      <td>40</td>\n",
       "      <td>40</td>\n",
       "      <td>15</td>\n",
       "      <td>https://www.serebii.net//swordshield/pokemon/s...</td>\n",
       "    </tr>\n",
       "    <tr>\n",
       "      <th>1</th>\n",
       "      <td>#002</td>\n",
       "      <td>Slowbroヤドラン</td>\n",
       "      <td>Quick Draw Own Tempo Regenerator</td>\n",
       "      <td>95</td>\n",
       "      <td>100</td>\n",
       "      <td>95</td>\n",
       "      <td>100</td>\n",
       "      <td>70</td>\n",
       "      <td>30</td>\n",
       "      <td>https://www.serebii.net//swordshield/pokemon/s...</td>\n",
       "    </tr>\n",
       "    <tr>\n",
       "      <th>2</th>\n",
       "      <td>#003</td>\n",
       "      <td>Slowkingヤドキング</td>\n",
       "      <td>Curious Medicine Own Tempo Regenerator</td>\n",
       "      <td>95</td>\n",
       "      <td>65</td>\n",
       "      <td>80</td>\n",
       "      <td>110</td>\n",
       "      <td>110</td>\n",
       "      <td>30</td>\n",
       "      <td>https://www.serebii.net//swordshield/pokemon/s...</td>\n",
       "    </tr>\n",
       "    <tr>\n",
       "      <th>3</th>\n",
       "      <td>#004</td>\n",
       "      <td>Bunearyミミロル</td>\n",
       "      <td>Run Away Klutz Limber</td>\n",
       "      <td>55</td>\n",
       "      <td>66</td>\n",
       "      <td>44</td>\n",
       "      <td>44</td>\n",
       "      <td>56</td>\n",
       "      <td>85</td>\n",
       "      <td>https://www.serebii.net//swordshield/pokemon/s...</td>\n",
       "    </tr>\n",
       "    <tr>\n",
       "      <th>4</th>\n",
       "      <td>#005</td>\n",
       "      <td>Lopunnyミミロップ</td>\n",
       "      <td>Cute Charm Klutz Limber</td>\n",
       "      <td>65</td>\n",
       "      <td>76</td>\n",
       "      <td>84</td>\n",
       "      <td>54</td>\n",
       "      <td>96</td>\n",
       "      <td>105</td>\n",
       "      <td>https://www.serebii.net//swordshield/pokemon/s...</td>\n",
       "    </tr>\n",
       "    <tr>\n",
       "      <th>...</th>\n",
       "      <td>...</td>\n",
       "      <td>...</td>\n",
       "      <td>...</td>\n",
       "      <td>...</td>\n",
       "      <td>...</td>\n",
       "      <td>...</td>\n",
       "      <td>...</td>\n",
       "      <td>...</td>\n",
       "      <td>...</td>\n",
       "      <td>...</td>\n",
       "    </tr>\n",
       "    <tr>\n",
       "      <th>206</th>\n",
       "      <td>#207</td>\n",
       "      <td>Dittoメタモン</td>\n",
       "      <td>Limber Imposter</td>\n",
       "      <td>48</td>\n",
       "      <td>48</td>\n",
       "      <td>48</td>\n",
       "      <td>48</td>\n",
       "      <td>48</td>\n",
       "      <td>48</td>\n",
       "      <td>https://www.serebii.net//swordshield/pokemon/s...</td>\n",
       "    </tr>\n",
       "    <tr>\n",
       "      <th>207</th>\n",
       "      <td>#208</td>\n",
       "      <td>Porygonポリゴン</td>\n",
       "      <td>Trace Download Analytic</td>\n",
       "      <td>65</td>\n",
       "      <td>60</td>\n",
       "      <td>70</td>\n",
       "      <td>85</td>\n",
       "      <td>75</td>\n",
       "      <td>40</td>\n",
       "      <td>https://www.serebii.net//swordshield/pokemon/s...</td>\n",
       "    </tr>\n",
       "    <tr>\n",
       "      <th>208</th>\n",
       "      <td>#209</td>\n",
       "      <td>Porygon2ポリゴン２</td>\n",
       "      <td>Trace Download Analytic</td>\n",
       "      <td>85</td>\n",
       "      <td>80</td>\n",
       "      <td>90</td>\n",
       "      <td>105</td>\n",
       "      <td>95</td>\n",
       "      <td>60</td>\n",
       "      <td>https://www.serebii.net//swordshield/pokemon/s...</td>\n",
       "    </tr>\n",
       "    <tr>\n",
       "      <th>209</th>\n",
       "      <td>#210</td>\n",
       "      <td>Porygon-ZポリゴンＺ</td>\n",
       "      <td>Adaptability Download Analytic</td>\n",
       "      <td>85</td>\n",
       "      <td>80</td>\n",
       "      <td>70</td>\n",
       "      <td>135</td>\n",
       "      <td>75</td>\n",
       "      <td>90</td>\n",
       "      <td>https://www.serebii.net//swordshield/pokemon/s...</td>\n",
       "    </tr>\n",
       "    <tr>\n",
       "      <th>210</th>\n",
       "      <td>#211</td>\n",
       "      <td>Zarudeザルード</td>\n",
       "      <td>Leaf Guard</td>\n",
       "      <td>105</td>\n",
       "      <td>120</td>\n",
       "      <td>105</td>\n",
       "      <td>70</td>\n",
       "      <td>95</td>\n",
       "      <td>105</td>\n",
       "      <td>https://www.serebii.net//swordshield/pokemon/s...</td>\n",
       "    </tr>\n",
       "  </tbody>\n",
       "</table>\n",
       "<p>211 rows × 10 columns</p>\n",
       "</div>"
      ],
      "text/plain": [
       "      No.            Name                               Abilities   HP  Att  \\\n",
       "0    #001     Slowpokeヤドン          Gluttony Own Tempo Regenerator   90   65   \n",
       "1    #002     Slowbroヤドラン        Quick Draw Own Tempo Regenerator   95  100   \n",
       "2    #003   Slowkingヤドキング  Curious Medicine Own Tempo Regenerator   95   65   \n",
       "3    #004     Bunearyミミロル                   Run Away Klutz Limber   55   66   \n",
       "4    #005    Lopunnyミミロップ                 Cute Charm Klutz Limber   65   76   \n",
       "..    ...             ...                                     ...  ...  ...   \n",
       "206  #207       Dittoメタモン                         Limber Imposter   48   48   \n",
       "207  #208     Porygonポリゴン                 Trace Download Analytic   65   60   \n",
       "208  #209   Porygon2ポリゴン２                 Trace Download Analytic   85   80   \n",
       "209  #210  Porygon-ZポリゴンＺ          Adaptability Download Analytic   85   80   \n",
       "210  #211      Zarudeザルード                              Leaf Guard  105  120   \n",
       "\n",
       "     Def  S.Att  S.Def  Spd                                         sprite_url  \n",
       "0     65     40     40   15  https://www.serebii.net//swordshield/pokemon/s...  \n",
       "1     95    100     70   30  https://www.serebii.net//swordshield/pokemon/s...  \n",
       "2     80    110    110   30  https://www.serebii.net//swordshield/pokemon/s...  \n",
       "3     44     44     56   85  https://www.serebii.net//swordshield/pokemon/s...  \n",
       "4     84     54     96  105  https://www.serebii.net//swordshield/pokemon/s...  \n",
       "..   ...    ...    ...  ...                                                ...  \n",
       "206   48     48     48   48  https://www.serebii.net//swordshield/pokemon/s...  \n",
       "207   70     85     75   40  https://www.serebii.net//swordshield/pokemon/s...  \n",
       "208   90    105     95   60  https://www.serebii.net//swordshield/pokemon/s...  \n",
       "209   70    135     75   90  https://www.serebii.net//swordshield/pokemon/s...  \n",
       "210  105     70     95  105  https://www.serebii.net//swordshield/pokemon/s...  \n",
       "\n",
       "[211 rows x 10 columns]"
      ]
     },
     "execution_count": 241,
     "metadata": {},
     "output_type": "execute_result"
    }
   ],
   "source": [
    "isleofarmor_df"
   ]
  },
  {
   "cell_type": "markdown",
   "id": "cb97262a",
   "metadata": {},
   "source": [
    "### Salvataggio"
   ]
  },
  {
   "cell_type": "code",
   "execution_count": 244,
   "id": "3cd2ff4b",
   "metadata": {
    "ExecuteTime": {
     "end_time": "2022-04-21T18:07:48.553835Z",
     "start_time": "2022-04-21T18:07:48.528640Z"
    }
   },
   "outputs": [],
   "source": [
    "isleofarmor_json = json.dumps(list(isleofarmor_df.agg(lambda x: x.dropna().to_dict(), axis=1)), indent = 4)"
   ]
  },
  {
   "cell_type": "markdown",
   "id": "45e1d14c",
   "metadata": {},
   "source": [
    "Salvataggio"
   ]
  },
  {
   "cell_type": "code",
   "execution_count": 245,
   "id": "2bbbfcc8",
   "metadata": {
    "ExecuteTime": {
     "end_time": "2022-04-21T18:07:51.342363Z",
     "start_time": "2022-04-21T18:07:51.327675Z"
    }
   },
   "outputs": [],
   "source": [
    "# JSON\n",
    "with open('./Scraping_datasets/serebii/isleofarmor_pokedex.json', 'w', encoding='utf8') as outfile:\n",
    "    outfile.write(isleofarmor_json)\n",
    "# CSV\n",
    "isleofarmor_df.to_csv('./Scraping_datasets/serebii/isleofarmor_pokedex.csv', na_rep=\"NA\")"
   ]
  },
  {
   "cell_type": "markdown",
   "id": "66988a85",
   "metadata": {},
   "source": [
    "## The Crown Tundra PokéDex"
   ]
  },
  {
   "cell_type": "markdown",
   "id": "b9df2ccd",
   "metadata": {},
   "source": [
    "Url della risorsa, HTTPResponse Object e BeautifulSoupObject della pagina"
   ]
  },
  {
   "cell_type": "code",
   "execution_count": 246,
   "id": "27936625",
   "metadata": {
    "ExecuteTime": {
     "end_time": "2022-04-21T18:06:36.541181Z",
     "start_time": "2022-04-21T18:06:35.821963Z"
    }
   },
   "outputs": [],
   "source": [
    "thecrowntundra_URL = \"https://www.serebii.net/swordshield/thecrowntundradex.shtml\"\n",
    "thecrowntundra_page = requests.get(thecrowntundra_URL)"
   ]
  },
  {
   "cell_type": "code",
   "execution_count": 247,
   "id": "b7441ad1",
   "metadata": {
    "ExecuteTime": {
     "end_time": "2022-04-21T18:06:40.034482Z",
     "start_time": "2022-04-21T18:06:39.016001Z"
    }
   },
   "outputs": [],
   "source": [
    "thecrowntundra_soup = BeautifulSoup(thecrowntundra_page.content, features=\"html.parser\")"
   ]
  },
  {
   "cell_type": "code",
   "execution_count": 248,
   "id": "f67a1fae",
   "metadata": {
    "ExecuteTime": {
     "end_time": "2022-04-21T18:06:42.594220Z",
     "start_time": "2022-04-21T18:06:42.439241Z"
    }
   },
   "outputs": [],
   "source": [
    "thecrowntundra_df = pd.read_html(str(thecrowntundra_soup), header=1)[1]"
   ]
  },
  {
   "cell_type": "code",
   "execution_count": 249,
   "id": "81948a78",
   "metadata": {
    "ExecuteTime": {
     "end_time": "2022-04-21T18:06:45.050771Z",
     "start_time": "2022-04-21T18:06:45.021353Z"
    }
   },
   "outputs": [
    {
     "data": {
      "text/html": [
       "<div>\n",
       "<style scoped>\n",
       "    .dataframe tbody tr th:only-of-type {\n",
       "        vertical-align: middle;\n",
       "    }\n",
       "\n",
       "    .dataframe tbody tr th {\n",
       "        vertical-align: top;\n",
       "    }\n",
       "\n",
       "    .dataframe thead th {\n",
       "        text-align: right;\n",
       "    }\n",
       "</style>\n",
       "<table border=\"1\" class=\"dataframe\">\n",
       "  <thead>\n",
       "    <tr style=\"text-align: right;\">\n",
       "      <th></th>\n",
       "      <th>No.</th>\n",
       "      <th>Name</th>\n",
       "      <th>Abilities</th>\n",
       "      <th>HP</th>\n",
       "      <th>Att</th>\n",
       "      <th>Def</th>\n",
       "      <th>S.Att</th>\n",
       "      <th>S.Def</th>\n",
       "      <th>Spd</th>\n",
       "    </tr>\n",
       "  </thead>\n",
       "  <tbody>\n",
       "    <tr>\n",
       "      <th>0</th>\n",
       "      <td>#001</td>\n",
       "      <td>Snomユキハミ</td>\n",
       "      <td>Shield Dust Ice Scales</td>\n",
       "      <td>30</td>\n",
       "      <td>25</td>\n",
       "      <td>35</td>\n",
       "      <td>45</td>\n",
       "      <td>30</td>\n",
       "      <td>20</td>\n",
       "    </tr>\n",
       "    <tr>\n",
       "      <th>1</th>\n",
       "      <td>#002</td>\n",
       "      <td>Frosmothモスノウ</td>\n",
       "      <td>Shield Dust Ice Scales</td>\n",
       "      <td>70</td>\n",
       "      <td>65</td>\n",
       "      <td>60</td>\n",
       "      <td>125</td>\n",
       "      <td>90</td>\n",
       "      <td>65</td>\n",
       "    </tr>\n",
       "    <tr>\n",
       "      <th>2</th>\n",
       "      <td>#003</td>\n",
       "      <td>Woolooウールー</td>\n",
       "      <td>Fluffy Run Away Bulletproof</td>\n",
       "      <td>42</td>\n",
       "      <td>40</td>\n",
       "      <td>55</td>\n",
       "      <td>40</td>\n",
       "      <td>45</td>\n",
       "      <td>48</td>\n",
       "    </tr>\n",
       "    <tr>\n",
       "      <th>3</th>\n",
       "      <td>#004</td>\n",
       "      <td>Dubwoolバイウールー</td>\n",
       "      <td>Fluffy Steadfast Bulletproof</td>\n",
       "      <td>72</td>\n",
       "      <td>80</td>\n",
       "      <td>100</td>\n",
       "      <td>60</td>\n",
       "      <td>90</td>\n",
       "      <td>88</td>\n",
       "    </tr>\n",
       "    <tr>\n",
       "      <th>4</th>\n",
       "      <td>#005</td>\n",
       "      <td>Skwovetホシガリス</td>\n",
       "      <td>Cheek Pouch Gluttony</td>\n",
       "      <td>70</td>\n",
       "      <td>55</td>\n",
       "      <td>55</td>\n",
       "      <td>35</td>\n",
       "      <td>35</td>\n",
       "      <td>25</td>\n",
       "    </tr>\n",
       "    <tr>\n",
       "      <th>...</th>\n",
       "      <td>...</td>\n",
       "      <td>...</td>\n",
       "      <td>...</td>\n",
       "      <td>...</td>\n",
       "      <td>...</td>\n",
       "      <td>...</td>\n",
       "      <td>...</td>\n",
       "      <td>...</td>\n",
       "      <td>...</td>\n",
       "    </tr>\n",
       "    <tr>\n",
       "      <th>205</th>\n",
       "      <td>#206</td>\n",
       "      <td>Terrakionテラキオン</td>\n",
       "      <td>Justified</td>\n",
       "      <td>91</td>\n",
       "      <td>129</td>\n",
       "      <td>90</td>\n",
       "      <td>72</td>\n",
       "      <td>90</td>\n",
       "      <td>108</td>\n",
       "    </tr>\n",
       "    <tr>\n",
       "      <th>206</th>\n",
       "      <td>#207</td>\n",
       "      <td>Virizionビリジオン</td>\n",
       "      <td>Justified</td>\n",
       "      <td>91</td>\n",
       "      <td>90</td>\n",
       "      <td>72</td>\n",
       "      <td>90</td>\n",
       "      <td>129</td>\n",
       "      <td>108</td>\n",
       "    </tr>\n",
       "    <tr>\n",
       "      <th>207</th>\n",
       "      <td>#208</td>\n",
       "      <td>Glastrierブリザポス</td>\n",
       "      <td>Chilling Neigh</td>\n",
       "      <td>100</td>\n",
       "      <td>145</td>\n",
       "      <td>130</td>\n",
       "      <td>65</td>\n",
       "      <td>110</td>\n",
       "      <td>30</td>\n",
       "    </tr>\n",
       "    <tr>\n",
       "      <th>208</th>\n",
       "      <td>#209</td>\n",
       "      <td>Spectrierレイスポス</td>\n",
       "      <td>Grim Neigh</td>\n",
       "      <td>100</td>\n",
       "      <td>65</td>\n",
       "      <td>60</td>\n",
       "      <td>145</td>\n",
       "      <td>80</td>\n",
       "      <td>130</td>\n",
       "    </tr>\n",
       "    <tr>\n",
       "      <th>209</th>\n",
       "      <td>#210</td>\n",
       "      <td>Calyrexバドレックス</td>\n",
       "      <td>Unnerve</td>\n",
       "      <td>100</td>\n",
       "      <td>80</td>\n",
       "      <td>80</td>\n",
       "      <td>80</td>\n",
       "      <td>80</td>\n",
       "      <td>80</td>\n",
       "    </tr>\n",
       "  </tbody>\n",
       "</table>\n",
       "<p>210 rows × 9 columns</p>\n",
       "</div>"
      ],
      "text/plain": [
       "      No.            Name                     Abilities   HP  Att  Def  S.Att  \\\n",
       "0    #001        Snomユキハミ        Shield Dust Ice Scales   30   25   35     45   \n",
       "1    #002    Frosmothモスノウ        Shield Dust Ice Scales   70   65   60    125   \n",
       "2    #003      Woolooウールー   Fluffy Run Away Bulletproof   42   40   55     40   \n",
       "3    #004   Dubwoolバイウールー  Fluffy Steadfast Bulletproof   72   80  100     60   \n",
       "4    #005    Skwovetホシガリス          Cheek Pouch Gluttony   70   55   55     35   \n",
       "..    ...             ...                           ...  ...  ...  ...    ...   \n",
       "205  #206  Terrakionテラキオン                     Justified   91  129   90     72   \n",
       "206  #207   Virizionビリジオン                     Justified   91   90   72     90   \n",
       "207  #208  Glastrierブリザポス                Chilling Neigh  100  145  130     65   \n",
       "208  #209  Spectrierレイスポス                    Grim Neigh  100   65   60    145   \n",
       "209  #210   Calyrexバドレックス                       Unnerve  100   80   80     80   \n",
       "\n",
       "     S.Def  Spd  \n",
       "0       30   20  \n",
       "1       90   65  \n",
       "2       45   48  \n",
       "3       90   88  \n",
       "4       35   25  \n",
       "..     ...  ...  \n",
       "205     90  108  \n",
       "206    129  108  \n",
       "207    110   30  \n",
       "208     80  130  \n",
       "209     80   80  \n",
       "\n",
       "[210 rows x 9 columns]"
      ]
     },
     "execution_count": 249,
     "metadata": {},
     "output_type": "execute_result"
    }
   ],
   "source": [
    "thecrowntundra_df.drop(axis = 1, labels = ['Pic', 'Type'], inplace = True)\n",
    "thecrowntundra_df"
   ]
  },
  {
   "attachments": {},
   "cell_type": "markdown",
   "id": "1be369d5",
   "metadata": {},
   "source": [
    "`#` indica il numero nel pokedex specifico dell'ottava generazione\n",
    "- Vedi: https://pokemondb.net/pokedex/national"
   ]
  },
  {
   "cell_type": "markdown",
   "id": "26c9692d",
   "metadata": {},
   "source": [
    "### Sprite"
   ]
  },
  {
   "cell_type": "code",
   "execution_count": 250,
   "id": "5a213c9f",
   "metadata": {
    "ExecuteTime": {
     "end_time": "2022-04-21T18:07:08.473256Z",
     "start_time": "2022-04-21T18:07:08.441202Z"
    }
   },
   "outputs": [],
   "source": [
    "thecrowntundra_sprites = thecrowntundra_soup.find_all('td', class_ = 'pkmnblock')"
   ]
  },
  {
   "cell_type": "code",
   "execution_count": 251,
   "id": "255883d7",
   "metadata": {
    "ExecuteTime": {
     "end_time": "2022-04-21T18:07:10.972566Z",
     "start_time": "2022-04-21T18:07:10.957859Z"
    }
   },
   "outputs": [],
   "source": [
    "thecrowntundra_sprites_list = []\n",
    "for thecrowntundra_sprite in thecrowntundra_sprites:\n",
    "    thecrowntundra_sprites_list.append('https://www.serebii.net/' + thecrowntundra_sprite.find('img', class_ = 'stdsprite')['src'])"
   ]
  },
  {
   "cell_type": "markdown",
   "id": "c3eb2848",
   "metadata": {},
   "source": [
    "Aggiungo la colonna"
   ]
  },
  {
   "cell_type": "code",
   "execution_count": 252,
   "id": "c08116e0",
   "metadata": {
    "ExecuteTime": {
     "end_time": "2022-04-21T18:07:19.214452Z",
     "start_time": "2022-04-21T18:07:19.200351Z"
    }
   },
   "outputs": [],
   "source": [
    "thecrowntundra_df['sprite_url'] = thecrowntundra_sprites_list"
   ]
  },
  {
   "cell_type": "code",
   "execution_count": 253,
   "id": "5aac4967",
   "metadata": {
    "ExecuteTime": {
     "end_time": "2022-04-21T18:07:22.429851Z",
     "start_time": "2022-04-21T18:07:22.415561Z"
    }
   },
   "outputs": [
    {
     "data": {
      "text/html": [
       "<div>\n",
       "<style scoped>\n",
       "    .dataframe tbody tr th:only-of-type {\n",
       "        vertical-align: middle;\n",
       "    }\n",
       "\n",
       "    .dataframe tbody tr th {\n",
       "        vertical-align: top;\n",
       "    }\n",
       "\n",
       "    .dataframe thead th {\n",
       "        text-align: right;\n",
       "    }\n",
       "</style>\n",
       "<table border=\"1\" class=\"dataframe\">\n",
       "  <thead>\n",
       "    <tr style=\"text-align: right;\">\n",
       "      <th></th>\n",
       "      <th>No.</th>\n",
       "      <th>Name</th>\n",
       "      <th>Abilities</th>\n",
       "      <th>HP</th>\n",
       "      <th>Att</th>\n",
       "      <th>Def</th>\n",
       "      <th>S.Att</th>\n",
       "      <th>S.Def</th>\n",
       "      <th>Spd</th>\n",
       "      <th>sprite_url</th>\n",
       "    </tr>\n",
       "  </thead>\n",
       "  <tbody>\n",
       "    <tr>\n",
       "      <th>0</th>\n",
       "      <td>#001</td>\n",
       "      <td>Snomユキハミ</td>\n",
       "      <td>Shield Dust Ice Scales</td>\n",
       "      <td>30</td>\n",
       "      <td>25</td>\n",
       "      <td>35</td>\n",
       "      <td>45</td>\n",
       "      <td>30</td>\n",
       "      <td>20</td>\n",
       "      <td>https://www.serebii.net//swordshield/pokemon/s...</td>\n",
       "    </tr>\n",
       "    <tr>\n",
       "      <th>1</th>\n",
       "      <td>#002</td>\n",
       "      <td>Frosmothモスノウ</td>\n",
       "      <td>Shield Dust Ice Scales</td>\n",
       "      <td>70</td>\n",
       "      <td>65</td>\n",
       "      <td>60</td>\n",
       "      <td>125</td>\n",
       "      <td>90</td>\n",
       "      <td>65</td>\n",
       "      <td>https://www.serebii.net//swordshield/pokemon/s...</td>\n",
       "    </tr>\n",
       "    <tr>\n",
       "      <th>2</th>\n",
       "      <td>#003</td>\n",
       "      <td>Woolooウールー</td>\n",
       "      <td>Fluffy Run Away Bulletproof</td>\n",
       "      <td>42</td>\n",
       "      <td>40</td>\n",
       "      <td>55</td>\n",
       "      <td>40</td>\n",
       "      <td>45</td>\n",
       "      <td>48</td>\n",
       "      <td>https://www.serebii.net//swordshield/pokemon/s...</td>\n",
       "    </tr>\n",
       "    <tr>\n",
       "      <th>3</th>\n",
       "      <td>#004</td>\n",
       "      <td>Dubwoolバイウールー</td>\n",
       "      <td>Fluffy Steadfast Bulletproof</td>\n",
       "      <td>72</td>\n",
       "      <td>80</td>\n",
       "      <td>100</td>\n",
       "      <td>60</td>\n",
       "      <td>90</td>\n",
       "      <td>88</td>\n",
       "      <td>https://www.serebii.net//swordshield/pokemon/s...</td>\n",
       "    </tr>\n",
       "    <tr>\n",
       "      <th>4</th>\n",
       "      <td>#005</td>\n",
       "      <td>Skwovetホシガリス</td>\n",
       "      <td>Cheek Pouch Gluttony</td>\n",
       "      <td>70</td>\n",
       "      <td>55</td>\n",
       "      <td>55</td>\n",
       "      <td>35</td>\n",
       "      <td>35</td>\n",
       "      <td>25</td>\n",
       "      <td>https://www.serebii.net//swordshield/pokemon/s...</td>\n",
       "    </tr>\n",
       "    <tr>\n",
       "      <th>...</th>\n",
       "      <td>...</td>\n",
       "      <td>...</td>\n",
       "      <td>...</td>\n",
       "      <td>...</td>\n",
       "      <td>...</td>\n",
       "      <td>...</td>\n",
       "      <td>...</td>\n",
       "      <td>...</td>\n",
       "      <td>...</td>\n",
       "      <td>...</td>\n",
       "    </tr>\n",
       "    <tr>\n",
       "      <th>205</th>\n",
       "      <td>#206</td>\n",
       "      <td>Terrakionテラキオン</td>\n",
       "      <td>Justified</td>\n",
       "      <td>91</td>\n",
       "      <td>129</td>\n",
       "      <td>90</td>\n",
       "      <td>72</td>\n",
       "      <td>90</td>\n",
       "      <td>108</td>\n",
       "      <td>https://www.serebii.net//swordshield/pokemon/s...</td>\n",
       "    </tr>\n",
       "    <tr>\n",
       "      <th>206</th>\n",
       "      <td>#207</td>\n",
       "      <td>Virizionビリジオン</td>\n",
       "      <td>Justified</td>\n",
       "      <td>91</td>\n",
       "      <td>90</td>\n",
       "      <td>72</td>\n",
       "      <td>90</td>\n",
       "      <td>129</td>\n",
       "      <td>108</td>\n",
       "      <td>https://www.serebii.net//swordshield/pokemon/s...</td>\n",
       "    </tr>\n",
       "    <tr>\n",
       "      <th>207</th>\n",
       "      <td>#208</td>\n",
       "      <td>Glastrierブリザポス</td>\n",
       "      <td>Chilling Neigh</td>\n",
       "      <td>100</td>\n",
       "      <td>145</td>\n",
       "      <td>130</td>\n",
       "      <td>65</td>\n",
       "      <td>110</td>\n",
       "      <td>30</td>\n",
       "      <td>https://www.serebii.net//swordshield/pokemon/s...</td>\n",
       "    </tr>\n",
       "    <tr>\n",
       "      <th>208</th>\n",
       "      <td>#209</td>\n",
       "      <td>Spectrierレイスポス</td>\n",
       "      <td>Grim Neigh</td>\n",
       "      <td>100</td>\n",
       "      <td>65</td>\n",
       "      <td>60</td>\n",
       "      <td>145</td>\n",
       "      <td>80</td>\n",
       "      <td>130</td>\n",
       "      <td>https://www.serebii.net//swordshield/pokemon/s...</td>\n",
       "    </tr>\n",
       "    <tr>\n",
       "      <th>209</th>\n",
       "      <td>#210</td>\n",
       "      <td>Calyrexバドレックス</td>\n",
       "      <td>Unnerve</td>\n",
       "      <td>100</td>\n",
       "      <td>80</td>\n",
       "      <td>80</td>\n",
       "      <td>80</td>\n",
       "      <td>80</td>\n",
       "      <td>80</td>\n",
       "      <td>https://www.serebii.net//swordshield/pokemon/s...</td>\n",
       "    </tr>\n",
       "  </tbody>\n",
       "</table>\n",
       "<p>210 rows × 10 columns</p>\n",
       "</div>"
      ],
      "text/plain": [
       "      No.            Name                     Abilities   HP  Att  Def  S.Att  \\\n",
       "0    #001        Snomユキハミ        Shield Dust Ice Scales   30   25   35     45   \n",
       "1    #002    Frosmothモスノウ        Shield Dust Ice Scales   70   65   60    125   \n",
       "2    #003      Woolooウールー   Fluffy Run Away Bulletproof   42   40   55     40   \n",
       "3    #004   Dubwoolバイウールー  Fluffy Steadfast Bulletproof   72   80  100     60   \n",
       "4    #005    Skwovetホシガリス          Cheek Pouch Gluttony   70   55   55     35   \n",
       "..    ...             ...                           ...  ...  ...  ...    ...   \n",
       "205  #206  Terrakionテラキオン                     Justified   91  129   90     72   \n",
       "206  #207   Virizionビリジオン                     Justified   91   90   72     90   \n",
       "207  #208  Glastrierブリザポス                Chilling Neigh  100  145  130     65   \n",
       "208  #209  Spectrierレイスポス                    Grim Neigh  100   65   60    145   \n",
       "209  #210   Calyrexバドレックス                       Unnerve  100   80   80     80   \n",
       "\n",
       "     S.Def  Spd                                         sprite_url  \n",
       "0       30   20  https://www.serebii.net//swordshield/pokemon/s...  \n",
       "1       90   65  https://www.serebii.net//swordshield/pokemon/s...  \n",
       "2       45   48  https://www.serebii.net//swordshield/pokemon/s...  \n",
       "3       90   88  https://www.serebii.net//swordshield/pokemon/s...  \n",
       "4       35   25  https://www.serebii.net//swordshield/pokemon/s...  \n",
       "..     ...  ...                                                ...  \n",
       "205     90  108  https://www.serebii.net//swordshield/pokemon/s...  \n",
       "206    129  108  https://www.serebii.net//swordshield/pokemon/s...  \n",
       "207    110   30  https://www.serebii.net//swordshield/pokemon/s...  \n",
       "208     80  130  https://www.serebii.net//swordshield/pokemon/s...  \n",
       "209     80   80  https://www.serebii.net//swordshield/pokemon/s...  \n",
       "\n",
       "[210 rows x 10 columns]"
      ]
     },
     "execution_count": 253,
     "metadata": {},
     "output_type": "execute_result"
    }
   ],
   "source": [
    "thecrowntundra_df"
   ]
  },
  {
   "cell_type": "markdown",
   "id": "29e84e58",
   "metadata": {},
   "source": [
    "### Salvataggio"
   ]
  },
  {
   "cell_type": "code",
   "execution_count": 254,
   "id": "353ed448",
   "metadata": {
    "ExecuteTime": {
     "end_time": "2022-04-21T18:07:48.553835Z",
     "start_time": "2022-04-21T18:07:48.528640Z"
    }
   },
   "outputs": [],
   "source": [
    "thecrowntundra_json = json.dumps(list(thecrowntundra_df.agg(lambda x: x.dropna().to_dict(), axis=1)), indent = 4)"
   ]
  },
  {
   "cell_type": "markdown",
   "id": "ceb1d5af",
   "metadata": {},
   "source": [
    "Salvataggio"
   ]
  },
  {
   "cell_type": "code",
   "execution_count": 255,
   "id": "1817fe7b",
   "metadata": {
    "ExecuteTime": {
     "end_time": "2022-04-21T18:07:51.342363Z",
     "start_time": "2022-04-21T18:07:51.327675Z"
    }
   },
   "outputs": [],
   "source": [
    "# JSON\n",
    "with open('./Scraping_datasets/serebii/thecrowntundra_pokedex.json', 'w', encoding='utf8') as outfile:\n",
    "    outfile.write(thecrowntundra_json)\n",
    "# CSV\n",
    "thecrowntundra_df.to_csv('./Scraping_datasets/serebii/thecrowntundra_pokedex.csv', na_rep=\"NA\")"
   ]
  },
  {
   "cell_type": "markdown",
   "id": "e97f7452",
   "metadata": {},
   "source": [
    "# 4. `victoryroadvgc` 2022 Play! Pokémon Season Structure (Permitted, Restricted, Banned e Gigantamax pokemons)"
   ]
  },
  {
   "cell_type": "markdown",
   "id": "63fe5ce1",
   "metadata": {},
   "source": [
    "Sulla pagina https://victoryroadvgc.com/2020-season/ è presente il regolamento completo della season 2022 di VGC.\n",
    "In particolare estraggo:\n",
    "   - Permitted Pokemon \n",
    "   - Restricted Pokemon (players may use two of the following Restricted Pokémon in their teams)\n",
    "   - Banned Pokemon \n",
    "   - Gigantamax Pokemon\n",
    "   \n",
    "Nei primi 2 casi si farà riferimento al numero del **pokedex nazionale di ottava gen** -> il `#` nel dataset `pokedex` preso da `pokemon db` ma anche ai **pokedex regionali** -> quindi andranno poi integradi a dovere"
   ]
  },
  {
   "cell_type": "markdown",
   "id": "ebb792bc",
   "metadata": {},
   "source": [
    "## bs4 setup"
   ]
  },
  {
   "cell_type": "code",
   "execution_count": 141,
   "id": "b731d09b",
   "metadata": {
    "ExecuteTime": {
     "end_time": "2022-04-21T16:52:35.717190Z",
     "start_time": "2022-04-21T16:52:35.552486Z"
    }
   },
   "outputs": [],
   "source": [
    "victoryroadvgc_URL = 'https://victoryroadvgc.com/2020-season/'\n",
    "victoryroadvgc_page = requests.get(victoryroadvgc_URL)"
   ]
  },
  {
   "cell_type": "code",
   "execution_count": 144,
   "id": "e909018d",
   "metadata": {
    "ExecuteTime": {
     "end_time": "2022-04-21T16:52:53.260779Z",
     "start_time": "2022-04-21T16:52:53.056711Z"
    }
   },
   "outputs": [],
   "source": [
    "victoryroadvgc_soup = BeautifulSoup(victoryroadvgc_page.content, features='html.parser')"
   ]
  },
  {
   "cell_type": "markdown",
   "id": "aab2ad97",
   "metadata": {},
   "source": [
    "## Permitted e  Restricted"
   ]
  },
  {
   "cell_type": "code",
   "execution_count": 157,
   "id": "5e947f70",
   "metadata": {
    "ExecuteTime": {
     "end_time": "2022-04-21T17:02:47.522053Z",
     "start_time": "2022-04-21T17:02:47.502718Z"
    }
   },
   "outputs": [],
   "source": [
    "national_pokedex_rules = victoryroadvgc_soup.find_all(\"strong\", string=\"National Pokédex:\")"
   ]
  },
  {
   "cell_type": "markdown",
   "id": "4da2f9b9",
   "metadata": {},
   "source": [
    "Permitted"
   ]
  },
  {
   "cell_type": "code",
   "execution_count": 158,
   "id": "3a6369a4",
   "metadata": {
    "ExecuteTime": {
     "end_time": "2022-04-21T17:03:18.224605Z",
     "start_time": "2022-04-21T17:03:18.206761Z"
    }
   },
   "outputs": [
    {
     "data": {
      "text/plain": [
       "' #243–245, #252–260, #380–381, #480–482, #485, #488, #638–642, #645, #722–730, #785–788, #793–799 and #803–806'"
      ]
     },
     "execution_count": 158,
     "metadata": {},
     "output_type": "execute_result"
    }
   ],
   "source": [
    "national_pokedex_rules[0].parent.contents[1]"
   ]
  },
  {
   "cell_type": "markdown",
   "id": "c0723fba",
   "metadata": {},
   "source": [
    "Restricted"
   ]
  },
  {
   "cell_type": "code",
   "execution_count": 159,
   "id": "f8da2aa3",
   "metadata": {
    "ExecuteTime": {
     "end_time": "2022-04-21T17:03:47.826833Z",
     "start_time": "2022-04-21T17:03:47.811513Z"
    }
   },
   "outputs": [
    {
     "data": {
      "text/plain": [
       "' #150, #249-250, #382–384, #483–484, #487, #643–644, #646, #716–718, #789–792, #800, #888–890 and #898'"
      ]
     },
     "execution_count": 159,
     "metadata": {},
     "output_type": "execute_result"
    }
   ],
   "source": [
    "national_pokedex_rules[1].parent.contents[1]"
   ]
  },
  {
   "cell_type": "markdown",
   "id": "7f13d2f6",
   "metadata": {},
   "source": [
    "Definzione liste dei pokemon permessi nei vari pokedex"
   ]
  },
  {
   "cell_type": "code",
   "execution_count": 262,
   "id": "0f857873",
   "metadata": {
    "ExecuteTime": {
     "end_time": "2022-04-21T18:23:35.129387Z",
     "start_time": "2022-04-21T18:23:35.113211Z"
    }
   },
   "outputs": [],
   "source": [
    "galar_permitted = list(range(1, 398))\n",
    "isleofarmor_permitted = list(range(1, 211))\n",
    "crowntundra_permitted = list(range(1, 210))\n",
    "national_permitted = list(range(243, 246)) + list(range(252, 261)) + list(\n",
    "    range(380, 382)) + list(range(480, 483)) + [485] + [488] + list(range(638, 643)) + [645] + list(\n",
    "            range(722, 731)) + list(range(785, 789)) + list(range(793, 799)) + list(\n",
    "                range(803, 807))"
   ]
  },
  {
   "cell_type": "markdown",
   "id": "902e07b5",
   "metadata": {},
   "source": [
    "Definizione lista dei pokemon Restricted"
   ]
  },
  {
   "cell_type": "code",
   "execution_count": 263,
   "id": "7f515ee9",
   "metadata": {
    "ExecuteTime": {
     "end_time": "2022-04-21T18:27:11.572755Z",
     "start_time": "2022-04-21T18:27:11.558866Z"
    }
   },
   "outputs": [],
   "source": [
    "national_restricted = [150] + list(range(249, 251)) + list(\n",
    "    range(382, 385)) + list(range(483, 485)) + [487] + list(range(643, 645)) + [646] + list(\n",
    "            range(716, 719)) + list(range(789, 793)) +[800] + list(\n",
    "                range(888, 890)) + [898]"
   ]
  },
  {
   "cell_type": "markdown",
   "id": "cd21b5ef",
   "metadata": {},
   "source": [
    "## Banned "
   ]
  },
  {
   "cell_type": "code",
   "execution_count": 264,
   "id": "93f20674",
   "metadata": {
    "ExecuteTime": {
     "end_time": "2022-04-21T18:29:58.458137Z",
     "start_time": "2022-04-21T18:29:58.442509Z"
    }
   },
   "outputs": [],
   "source": [
    "banned = ['Mew', 'Celebi', 'Jirachi', 'Victini', 'Keldeo (both forms)', 'Genesect (all forms)', 'Diancie', 'Volcanion', 'Magearna (both forms)', 'Marshadow', 'Zeraora', 'Meltan', 'Melmetal', 'Zarude (both forms)']"
   ]
  },
  {
   "cell_type": "markdown",
   "id": "d2e54345",
   "metadata": {},
   "source": [
    "## Gigantamax Pokémon allowed "
   ]
  },
  {
   "cell_type": "code",
   "execution_count": 307,
   "id": "4fa077be",
   "metadata": {
    "ExecuteTime": {
     "end_time": "2022-04-21T19:28:22.410781Z",
     "start_time": "2022-04-21T19:28:22.396671Z"
    }
   },
   "outputs": [],
   "source": [
    "gigantamax_allowed_soup = victoryroadvgc_soup.find(\"th\", string = 'Gigantamax Pokémon allowed for Series 5, 7, 8, 9, 11 and 12').parent.parent.parent.find('tbody')"
   ]
  },
  {
   "cell_type": "code",
   "execution_count": 308,
   "id": "1e5dbcd2",
   "metadata": {
    "ExecuteTime": {
     "end_time": "2022-04-21T19:28:25.596677Z",
     "start_time": "2022-04-21T19:28:25.584596Z"
    }
   },
   "outputs": [],
   "source": [
    "import re\n",
    "gigantamax_allowed_list = re.split('(?=[A-Z])', gigantamax_allowed_soup.text)[1:-9]"
   ]
  },
  {
   "cell_type": "code",
   "execution_count": 310,
   "id": "0de697fd",
   "metadata": {
    "ExecuteTime": {
     "end_time": "2022-04-21T19:28:31.104081Z",
     "start_time": "2022-04-21T19:28:31.090030Z"
    }
   },
   "outputs": [],
   "source": [
    "gigantamax_allowed_list = gigantamax_allowed_list + ['Duraludon','Single Strike Style Urshifu','Rapid Strike Style Urshifu']"
   ]
  },
  {
   "cell_type": "code",
   "execution_count": 311,
   "id": "a5b0e2f2",
   "metadata": {
    "ExecuteTime": {
     "end_time": "2022-04-21T19:28:34.113553Z",
     "start_time": "2022-04-21T19:28:34.099445Z"
    }
   },
   "outputs": [
    {
     "data": {
      "text/plain": [
       "['Venusaur',\n",
       " 'Charizard',\n",
       " 'Blastoise',\n",
       " 'Butterfree',\n",
       " 'Pikachu',\n",
       " 'Meowth',\n",
       " 'Machamp',\n",
       " 'Gengar',\n",
       " 'Kingler',\n",
       " 'Lapras',\n",
       " 'Eevee',\n",
       " 'Snorlax',\n",
       " 'Garbodor',\n",
       " 'Rillaboom',\n",
       " 'Cinderace',\n",
       " 'Inteleon',\n",
       " 'Corviknight',\n",
       " 'Orbeetle',\n",
       " 'Drednaw',\n",
       " 'Coalossal',\n",
       " 'Flapple',\n",
       " 'Appletun',\n",
       " 'Sandaconda',\n",
       " 'Toxtricity(both forms)',\n",
       " 'Centiskorch',\n",
       " 'Hatterene',\n",
       " 'Grimmsnarl',\n",
       " 'Alcremie(all forms)',\n",
       " 'Copperajah',\n",
       " 'Duraludon',\n",
       " 'Single Strike Style Urshifu',\n",
       " 'Rapid Strike Style Urshifu']"
      ]
     },
     "execution_count": 311,
     "metadata": {},
     "output_type": "execute_result"
    }
   ],
   "source": [
    "gigantamax_allowed_list"
   ]
  },
  {
   "cell_type": "code",
   "execution_count": null,
   "id": "8a66af2f",
   "metadata": {},
   "outputs": [],
   "source": []
  }
 ],
 "metadata": {
  "kernelspec": {
   "display_name": "scrap37",
   "language": "python",
   "name": "scrap37"
  },
  "language_info": {
   "codemirror_mode": {
    "name": "ipython",
    "version": 3
   },
   "file_extension": ".py",
   "mimetype": "text/x-python",
   "name": "python",
   "nbconvert_exporter": "python",
   "pygments_lexer": "ipython3",
   "version": "3.7.9"
  },
  "varInspector": {
   "cols": {
    "lenName": 16,
    "lenType": 16,
    "lenVar": 40
   },
   "kernels_config": {
    "python": {
     "delete_cmd_postfix": "",
     "delete_cmd_prefix": "del ",
     "library": "var_list.py",
     "varRefreshCmd": "print(var_dic_list())"
    },
    "r": {
     "delete_cmd_postfix": ") ",
     "delete_cmd_prefix": "rm(",
     "library": "var_list.r",
     "varRefreshCmd": "cat(var_dic_list()) "
    }
   },
   "types_to_exclude": [
    "module",
    "function",
    "builtin_function_or_method",
    "instance",
    "_Feature"
   ],
   "window_display": false
  }
 },
 "nbformat": 4,
 "nbformat_minor": 5
}
