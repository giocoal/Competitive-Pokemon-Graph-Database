{
 "cells": [
  {
   "cell_type": "markdown",
   "id": "36d91814",
   "metadata": {},
   "source": [
    "# Impostazione"
   ]
  },
  {
   "cell_type": "markdown",
   "id": "5e885a31",
   "metadata": {},
   "source": [
    "## python version"
   ]
  },
  {
   "cell_type": "code",
   "execution_count": 1,
   "id": "f12a867b",
   "metadata": {
    "ExecuteTime": {
     "end_time": "2022-03-31T22:35:48.909582Z",
     "start_time": "2022-03-31T22:35:48.900583Z"
    }
   },
   "outputs": [
    {
     "name": "stdout",
     "output_type": "stream",
     "text": [
      "3.7.9\n"
     ]
    }
   ],
   "source": [
    "from platform import python_version\n",
    "print(python_version())"
   ]
  },
  {
   "cell_type": "markdown",
   "id": "b3f4188e",
   "metadata": {},
   "source": [
    "## Librerie"
   ]
  },
  {
   "cell_type": "code",
   "execution_count": 6,
   "id": "60def604",
   "metadata": {
    "ExecuteTime": {
     "end_time": "2022-03-31T22:51:06.218954Z",
     "start_time": "2022-03-31T22:51:06.205628Z"
    }
   },
   "outputs": [],
   "source": [
    "from urllib.request import urlopen\n",
    "from bs4 import BeautifulSoup, Comment\n",
    "import mechanicalsoup as ms\n",
    "import scrapy\n",
    "import selenium\n",
    "import lxml\n",
    "import re\n",
    "import requests\n",
    "from requests import get"
   ]
  },
  {
   "cell_type": "markdown",
   "id": "bc2de6bb",
   "metadata": {},
   "source": [
    "# Sprites"
   ]
  },
  {
   "cell_type": "code",
   "execution_count": 5,
   "id": "81b900cf",
   "metadata": {
    "ExecuteTime": {
     "end_time": "2022-03-31T22:38:53.010559Z",
     "start_time": "2022-03-31T22:38:52.751373Z"
    }
   },
   "outputs": [],
   "source": [
    "browser = ms.Browser()\n",
    "sprites_page = browser.get(\"https://pokemondb.net/sprites\")"
   ]
  },
  {
   "cell_type": "code",
   "execution_count": null,
   "id": "9bdf2e1c",
   "metadata": {},
   "outputs": [],
   "source": []
  }
 ],
 "metadata": {
  "kernelspec": {
   "display_name": "scrap37",
   "language": "python",
   "name": "scrap37"
  },
  "language_info": {
   "codemirror_mode": {
    "name": "ipython",
    "version": 3
   },
   "file_extension": ".py",
   "mimetype": "text/x-python",
   "name": "python",
   "nbconvert_exporter": "python",
   "pygments_lexer": "ipython3",
   "version": "3.7.9"
  },
  "varInspector": {
   "cols": {
    "lenName": 16,
    "lenType": 16,
    "lenVar": 40
   },
   "kernels_config": {
    "python": {
     "delete_cmd_postfix": "",
     "delete_cmd_prefix": "del ",
     "library": "var_list.py",
     "varRefreshCmd": "print(var_dic_list())"
    },
    "r": {
     "delete_cmd_postfix": ") ",
     "delete_cmd_prefix": "rm(",
     "library": "var_list.r",
     "varRefreshCmd": "cat(var_dic_list()) "
    }
   },
   "types_to_exclude": [
    "module",
    "function",
    "builtin_function_or_method",
    "instance",
    "_Feature"
   ],
   "window_display": false
  }
 },
 "nbformat": 4,
 "nbformat_minor": 5
}
